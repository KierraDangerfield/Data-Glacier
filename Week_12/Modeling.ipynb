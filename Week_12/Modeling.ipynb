{
 "cells": [
  {
   "cell_type": "markdown",
   "id": "d3a14674",
   "metadata": {},
   "source": [
    "# Retail Forecasting\n",
    "\n",
    "## Problem Statement:\n",
    "The large company who is into beverages business in Australia. They sell their products through various super-markets and also engage into heavy promotions throughout the year. Their demand is also influenced by various factors like holiday, seasonality. They needed forecast of each of products at item level every week in weekly buckets."
   ]
  },
  {
   "cell_type": "code",
   "execution_count": 4,
   "id": "3bd1d01e",
   "metadata": {},
   "outputs": [],
   "source": [
    "import numpy as np\n",
    "import pandas as pd\n",
    "import datetime\n",
    "from statsmodels.tsa.arima.model import ARIMA\n",
    "from matplotlib import pyplot as plt\n",
    "import statsmodels.api as sm\n",
    "from statsmodels.tsa.stattools import adfuller\n",
    "from sklearn.metrics import mean_squared_error, mean_absolute_error\n",
    "from sklearn.model_selection import train_test_split\n",
    "from sklearn.linear_model import LinearRegression\n",
    "from sklearn.ensemble import RandomForestRegressor"
   ]
  },
  {
   "cell_type": "code",
   "execution_count": 5,
   "id": "ce97fcc8",
   "metadata": {},
   "outputs": [
    {
     "data": {
      "text/html": [
       "<div>\n",
       "<style scoped>\n",
       "    .dataframe tbody tr th:only-of-type {\n",
       "        vertical-align: middle;\n",
       "    }\n",
       "\n",
       "    .dataframe tbody tr th {\n",
       "        vertical-align: top;\n",
       "    }\n",
       "\n",
       "    .dataframe thead th {\n",
       "        text-align: right;\n",
       "    }\n",
       "</style>\n",
       "<table border=\"1\" class=\"dataframe\">\n",
       "  <thead>\n",
       "    <tr style=\"text-align: right;\">\n",
       "      <th></th>\n",
       "      <th>Unnamed: 0</th>\n",
       "      <th>Product</th>\n",
       "      <th>date</th>\n",
       "      <th>Sales</th>\n",
       "      <th>Discount</th>\n",
       "      <th>In-Store Promo</th>\n",
       "      <th>Catalogue Promo</th>\n",
       "      <th>Store End Promo</th>\n",
       "      <th>Google_Mobility</th>\n",
       "      <th>Covid_Flag</th>\n",
       "      <th>V_DAY</th>\n",
       "      <th>EASTER</th>\n",
       "      <th>CHRISTMAS</th>\n",
       "      <th>DayOfWeek</th>\n",
       "      <th>Quarter</th>\n",
       "      <th>WeekNum</th>\n",
       "    </tr>\n",
       "  </thead>\n",
       "  <tbody>\n",
       "    <tr>\n",
       "      <th>0</th>\n",
       "      <td>0</td>\n",
       "      <td>SKU1</td>\n",
       "      <td>2017-02-05</td>\n",
       "      <td>27750</td>\n",
       "      <td>0.00</td>\n",
       "      <td>0</td>\n",
       "      <td>0</td>\n",
       "      <td>0</td>\n",
       "      <td>0.0</td>\n",
       "      <td>0</td>\n",
       "      <td>0</td>\n",
       "      <td>0</td>\n",
       "      <td>0</td>\n",
       "      <td>Sunday</td>\n",
       "      <td>1</td>\n",
       "      <td>5</td>\n",
       "    </tr>\n",
       "    <tr>\n",
       "      <th>1</th>\n",
       "      <td>1</td>\n",
       "      <td>SKU1</td>\n",
       "      <td>2017-02-12</td>\n",
       "      <td>29023</td>\n",
       "      <td>0.00</td>\n",
       "      <td>1</td>\n",
       "      <td>0</td>\n",
       "      <td>1</td>\n",
       "      <td>0.0</td>\n",
       "      <td>0</td>\n",
       "      <td>1</td>\n",
       "      <td>0</td>\n",
       "      <td>0</td>\n",
       "      <td>Sunday</td>\n",
       "      <td>1</td>\n",
       "      <td>6</td>\n",
       "    </tr>\n",
       "    <tr>\n",
       "      <th>2</th>\n",
       "      <td>2</td>\n",
       "      <td>SKU1</td>\n",
       "      <td>2017-02-19</td>\n",
       "      <td>45630</td>\n",
       "      <td>0.17</td>\n",
       "      <td>0</td>\n",
       "      <td>0</td>\n",
       "      <td>0</td>\n",
       "      <td>0.0</td>\n",
       "      <td>0</td>\n",
       "      <td>0</td>\n",
       "      <td>0</td>\n",
       "      <td>0</td>\n",
       "      <td>Sunday</td>\n",
       "      <td>1</td>\n",
       "      <td>7</td>\n",
       "    </tr>\n",
       "  </tbody>\n",
       "</table>\n",
       "</div>"
      ],
      "text/plain": [
       "   Unnamed: 0 Product        date  Sales  Discount  In-Store Promo  \\\n",
       "0           0    SKU1  2017-02-05  27750      0.00               0   \n",
       "1           1    SKU1  2017-02-12  29023      0.00               1   \n",
       "2           2    SKU1  2017-02-19  45630      0.17               0   \n",
       "\n",
       "   Catalogue Promo  Store End Promo  Google_Mobility  Covid_Flag  V_DAY  \\\n",
       "0                0                0              0.0           0      0   \n",
       "1                0                1              0.0           0      1   \n",
       "2                0                0              0.0           0      0   \n",
       "\n",
       "   EASTER  CHRISTMAS DayOfWeek  Quarter  WeekNum  \n",
       "0       0          0    Sunday        1        5  \n",
       "1       0          0    Sunday        1        6  \n",
       "2       0          0    Sunday        1        7  "
      ]
     },
     "execution_count": 5,
     "metadata": {},
     "output_type": "execute_result"
    }
   ],
   "source": [
    "forecast = pd.read_csv('./Data/newForecast.csv')\n",
    "forecast.head(3)"
   ]
  },
  {
   "cell_type": "code",
   "execution_count": 6,
   "id": "17a3070f",
   "metadata": {},
   "outputs": [],
   "source": [
    "forecast['date'] = pd.to_datetime(forecast['date'])"
   ]
  },
  {
   "cell_type": "code",
   "execution_count": 7,
   "id": "3100b5d2",
   "metadata": {},
   "outputs": [
    {
     "data": {
      "text/html": [
       "<div>\n",
       "<style scoped>\n",
       "    .dataframe tbody tr th:only-of-type {\n",
       "        vertical-align: middle;\n",
       "    }\n",
       "\n",
       "    .dataframe tbody tr th {\n",
       "        vertical-align: top;\n",
       "    }\n",
       "\n",
       "    .dataframe thead th {\n",
       "        text-align: right;\n",
       "    }\n",
       "</style>\n",
       "<table border=\"1\" class=\"dataframe\">\n",
       "  <thead>\n",
       "    <tr style=\"text-align: right;\">\n",
       "      <th></th>\n",
       "      <th>Product</th>\n",
       "      <th>date</th>\n",
       "      <th>Sales</th>\n",
       "      <th>Discount</th>\n",
       "      <th>In-Store Promo</th>\n",
       "      <th>Catalogue Promo</th>\n",
       "      <th>Store End Promo</th>\n",
       "      <th>Google_Mobility</th>\n",
       "      <th>Covid_Flag</th>\n",
       "      <th>V_DAY</th>\n",
       "      <th>EASTER</th>\n",
       "      <th>CHRISTMAS</th>\n",
       "      <th>DayOfWeek</th>\n",
       "      <th>Quarter</th>\n",
       "      <th>WeekNum</th>\n",
       "    </tr>\n",
       "  </thead>\n",
       "  <tbody>\n",
       "    <tr>\n",
       "      <th>0</th>\n",
       "      <td>SKU1</td>\n",
       "      <td>2017-02-05</td>\n",
       "      <td>27750</td>\n",
       "      <td>0.00</td>\n",
       "      <td>0</td>\n",
       "      <td>0</td>\n",
       "      <td>0</td>\n",
       "      <td>0.0</td>\n",
       "      <td>0</td>\n",
       "      <td>0</td>\n",
       "      <td>0</td>\n",
       "      <td>0</td>\n",
       "      <td>Sunday</td>\n",
       "      <td>1</td>\n",
       "      <td>5</td>\n",
       "    </tr>\n",
       "    <tr>\n",
       "      <th>1</th>\n",
       "      <td>SKU1</td>\n",
       "      <td>2017-02-12</td>\n",
       "      <td>29023</td>\n",
       "      <td>0.00</td>\n",
       "      <td>1</td>\n",
       "      <td>0</td>\n",
       "      <td>1</td>\n",
       "      <td>0.0</td>\n",
       "      <td>0</td>\n",
       "      <td>1</td>\n",
       "      <td>0</td>\n",
       "      <td>0</td>\n",
       "      <td>Sunday</td>\n",
       "      <td>1</td>\n",
       "      <td>6</td>\n",
       "    </tr>\n",
       "    <tr>\n",
       "      <th>2</th>\n",
       "      <td>SKU1</td>\n",
       "      <td>2017-02-19</td>\n",
       "      <td>45630</td>\n",
       "      <td>0.17</td>\n",
       "      <td>0</td>\n",
       "      <td>0</td>\n",
       "      <td>0</td>\n",
       "      <td>0.0</td>\n",
       "      <td>0</td>\n",
       "      <td>0</td>\n",
       "      <td>0</td>\n",
       "      <td>0</td>\n",
       "      <td>Sunday</td>\n",
       "      <td>1</td>\n",
       "      <td>7</td>\n",
       "    </tr>\n",
       "  </tbody>\n",
       "</table>\n",
       "</div>"
      ],
      "text/plain": [
       "  Product       date  Sales  Discount  In-Store Promo  Catalogue Promo  \\\n",
       "0    SKU1 2017-02-05  27750      0.00               0                0   \n",
       "1    SKU1 2017-02-12  29023      0.00               1                0   \n",
       "2    SKU1 2017-02-19  45630      0.17               0                0   \n",
       "\n",
       "   Store End Promo  Google_Mobility  Covid_Flag  V_DAY  EASTER  CHRISTMAS  \\\n",
       "0                0              0.0           0      0       0          0   \n",
       "1                1              0.0           0      1       0          0   \n",
       "2                0              0.0           0      0       0          0   \n",
       "\n",
       "  DayOfWeek  Quarter  WeekNum  \n",
       "0    Sunday        1        5  \n",
       "1    Sunday        1        6  \n",
       "2    Sunday        1        7  "
      ]
     },
     "execution_count": 7,
     "metadata": {},
     "output_type": "execute_result"
    }
   ],
   "source": [
    "forecast.drop('Unnamed: 0', axis=1, inplace=True)\n",
    "forecast.head(3)"
   ]
  },
  {
   "cell_type": "code",
   "execution_count": 8,
   "id": "4b9f82f6",
   "metadata": {},
   "outputs": [
    {
     "name": "stdout",
     "output_type": "stream",
     "text": [
      "<class 'pandas.core.frame.DataFrame'>\n",
      "RangeIndex: 1218 entries, 0 to 1217\n",
      "Data columns (total 15 columns):\n",
      " #   Column           Non-Null Count  Dtype         \n",
      "---  ------           --------------  -----         \n",
      " 0   Product          1218 non-null   object        \n",
      " 1   date             1218 non-null   datetime64[ns]\n",
      " 2   Sales            1218 non-null   int64         \n",
      " 3   Discount         1218 non-null   float64       \n",
      " 4   In-Store Promo   1218 non-null   int64         \n",
      " 5   Catalogue Promo  1218 non-null   int64         \n",
      " 6   Store End Promo  1218 non-null   int64         \n",
      " 7   Google_Mobility  1218 non-null   float64       \n",
      " 8   Covid_Flag       1218 non-null   int64         \n",
      " 9   V_DAY            1218 non-null   int64         \n",
      " 10  EASTER           1218 non-null   int64         \n",
      " 11  CHRISTMAS        1218 non-null   int64         \n",
      " 12  DayOfWeek        1218 non-null   object        \n",
      " 13  Quarter          1218 non-null   int64         \n",
      " 14  WeekNum          1218 non-null   int64         \n",
      "dtypes: datetime64[ns](1), float64(2), int64(10), object(2)\n",
      "memory usage: 142.9+ KB\n"
     ]
    }
   ],
   "source": [
    "forecast.info()"
   ]
  },
  {
   "cell_type": "markdown",
   "id": "19a896a4",
   "metadata": {},
   "source": [
    "# Add Year and Month"
   ]
  },
  {
   "cell_type": "code",
   "execution_count": 9,
   "id": "122c990b",
   "metadata": {},
   "outputs": [
    {
     "data": {
      "text/html": [
       "<div>\n",
       "<style scoped>\n",
       "    .dataframe tbody tr th:only-of-type {\n",
       "        vertical-align: middle;\n",
       "    }\n",
       "\n",
       "    .dataframe tbody tr th {\n",
       "        vertical-align: top;\n",
       "    }\n",
       "\n",
       "    .dataframe thead th {\n",
       "        text-align: right;\n",
       "    }\n",
       "</style>\n",
       "<table border=\"1\" class=\"dataframe\">\n",
       "  <thead>\n",
       "    <tr style=\"text-align: right;\">\n",
       "      <th></th>\n",
       "      <th>Product</th>\n",
       "      <th>date</th>\n",
       "      <th>Sales</th>\n",
       "      <th>Discount</th>\n",
       "      <th>In-Store Promo</th>\n",
       "      <th>Catalogue Promo</th>\n",
       "      <th>Store End Promo</th>\n",
       "      <th>Google_Mobility</th>\n",
       "      <th>Covid_Flag</th>\n",
       "      <th>V_DAY</th>\n",
       "      <th>EASTER</th>\n",
       "      <th>CHRISTMAS</th>\n",
       "      <th>DayOfWeek</th>\n",
       "      <th>Quarter</th>\n",
       "      <th>WeekNum</th>\n",
       "      <th>Year</th>\n",
       "      <th>Month</th>\n",
       "    </tr>\n",
       "  </thead>\n",
       "  <tbody>\n",
       "    <tr>\n",
       "      <th>0</th>\n",
       "      <td>SKU1</td>\n",
       "      <td>2017-02-05</td>\n",
       "      <td>27750</td>\n",
       "      <td>0.00</td>\n",
       "      <td>0</td>\n",
       "      <td>0</td>\n",
       "      <td>0</td>\n",
       "      <td>0.0</td>\n",
       "      <td>0</td>\n",
       "      <td>0</td>\n",
       "      <td>0</td>\n",
       "      <td>0</td>\n",
       "      <td>Sunday</td>\n",
       "      <td>1</td>\n",
       "      <td>5</td>\n",
       "      <td>2017</td>\n",
       "      <td>2</td>\n",
       "    </tr>\n",
       "    <tr>\n",
       "      <th>1</th>\n",
       "      <td>SKU1</td>\n",
       "      <td>2017-02-12</td>\n",
       "      <td>29023</td>\n",
       "      <td>0.00</td>\n",
       "      <td>1</td>\n",
       "      <td>0</td>\n",
       "      <td>1</td>\n",
       "      <td>0.0</td>\n",
       "      <td>0</td>\n",
       "      <td>1</td>\n",
       "      <td>0</td>\n",
       "      <td>0</td>\n",
       "      <td>Sunday</td>\n",
       "      <td>1</td>\n",
       "      <td>6</td>\n",
       "      <td>2017</td>\n",
       "      <td>2</td>\n",
       "    </tr>\n",
       "    <tr>\n",
       "      <th>2</th>\n",
       "      <td>SKU1</td>\n",
       "      <td>2017-02-19</td>\n",
       "      <td>45630</td>\n",
       "      <td>0.17</td>\n",
       "      <td>0</td>\n",
       "      <td>0</td>\n",
       "      <td>0</td>\n",
       "      <td>0.0</td>\n",
       "      <td>0</td>\n",
       "      <td>0</td>\n",
       "      <td>0</td>\n",
       "      <td>0</td>\n",
       "      <td>Sunday</td>\n",
       "      <td>1</td>\n",
       "      <td>7</td>\n",
       "      <td>2017</td>\n",
       "      <td>2</td>\n",
       "    </tr>\n",
       "  </tbody>\n",
       "</table>\n",
       "</div>"
      ],
      "text/plain": [
       "  Product       date  Sales  Discount  In-Store Promo  Catalogue Promo  \\\n",
       "0    SKU1 2017-02-05  27750      0.00               0                0   \n",
       "1    SKU1 2017-02-12  29023      0.00               1                0   \n",
       "2    SKU1 2017-02-19  45630      0.17               0                0   \n",
       "\n",
       "   Store End Promo  Google_Mobility  Covid_Flag  V_DAY  EASTER  CHRISTMAS  \\\n",
       "0                0              0.0           0      0       0          0   \n",
       "1                1              0.0           0      1       0          0   \n",
       "2                0              0.0           0      0       0          0   \n",
       "\n",
       "  DayOfWeek  Quarter  WeekNum  Year  Month  \n",
       "0    Sunday        1        5  2017      2  \n",
       "1    Sunday        1        6  2017      2  \n",
       "2    Sunday        1        7  2017      2  "
      ]
     },
     "execution_count": 9,
     "metadata": {},
     "output_type": "execute_result"
    }
   ],
   "source": [
    "forecast['Year'] = forecast['date'].dt.year\n",
    "forecast['Month'] = forecast['date'].dt.month\n",
    "forecast.head(3)"
   ]
  },
  {
   "cell_type": "markdown",
   "id": "7cdb3837",
   "metadata": {},
   "source": [
    "# Modeling"
   ]
  },
  {
   "cell_type": "code",
   "execution_count": 10,
   "id": "368b3060",
   "metadata": {},
   "outputs": [
    {
     "data": {
      "text/html": [
       "<div>\n",
       "<style scoped>\n",
       "    .dataframe tbody tr th:only-of-type {\n",
       "        vertical-align: middle;\n",
       "    }\n",
       "\n",
       "    .dataframe tbody tr th {\n",
       "        vertical-align: top;\n",
       "    }\n",
       "\n",
       "    .dataframe thead th {\n",
       "        text-align: right;\n",
       "    }\n",
       "</style>\n",
       "<table border=\"1\" class=\"dataframe\">\n",
       "  <thead>\n",
       "    <tr style=\"text-align: right;\">\n",
       "      <th></th>\n",
       "      <th>Product</th>\n",
       "      <th>date</th>\n",
       "      <th>Month</th>\n",
       "      <th>Quarter</th>\n",
       "      <th>WeekNum</th>\n",
       "      <th>Sales</th>\n",
       "    </tr>\n",
       "  </thead>\n",
       "  <tbody>\n",
       "    <tr>\n",
       "      <th>0</th>\n",
       "      <td>SKU1</td>\n",
       "      <td>2017-02-05</td>\n",
       "      <td>2</td>\n",
       "      <td>1</td>\n",
       "      <td>5</td>\n",
       "      <td>27750</td>\n",
       "    </tr>\n",
       "    <tr>\n",
       "      <th>1</th>\n",
       "      <td>SKU1</td>\n",
       "      <td>2017-02-12</td>\n",
       "      <td>2</td>\n",
       "      <td>1</td>\n",
       "      <td>6</td>\n",
       "      <td>29023</td>\n",
       "    </tr>\n",
       "    <tr>\n",
       "      <th>2</th>\n",
       "      <td>SKU1</td>\n",
       "      <td>2017-02-19</td>\n",
       "      <td>2</td>\n",
       "      <td>1</td>\n",
       "      <td>7</td>\n",
       "      <td>45630</td>\n",
       "    </tr>\n",
       "    <tr>\n",
       "      <th>3</th>\n",
       "      <td>SKU1</td>\n",
       "      <td>2017-02-26</td>\n",
       "      <td>2</td>\n",
       "      <td>1</td>\n",
       "      <td>8</td>\n",
       "      <td>26789</td>\n",
       "    </tr>\n",
       "    <tr>\n",
       "      <th>4</th>\n",
       "      <td>SKU1</td>\n",
       "      <td>2017-03-05</td>\n",
       "      <td>3</td>\n",
       "      <td>1</td>\n",
       "      <td>9</td>\n",
       "      <td>41999</td>\n",
       "    </tr>\n",
       "  </tbody>\n",
       "</table>\n",
       "</div>"
      ],
      "text/plain": [
       "  Product       date  Month  Quarter  WeekNum  Sales\n",
       "0    SKU1 2017-02-05      2        1        5  27750\n",
       "1    SKU1 2017-02-12      2        1        6  29023\n",
       "2    SKU1 2017-02-19      2        1        7  45630\n",
       "3    SKU1 2017-02-26      2        1        8  26789\n",
       "4    SKU1 2017-03-05      3        1        9  41999"
      ]
     },
     "execution_count": 10,
     "metadata": {},
     "output_type": "execute_result"
    }
   ],
   "source": [
    "forecast = forecast[[\"Product\", \"date\",\"Month\", \"Quarter\", \"WeekNum\", \"Sales\"]]\n",
    "forecast.head()"
   ]
  },
  {
   "cell_type": "code",
   "execution_count": 11,
   "id": "42f45fcd",
   "metadata": {},
   "outputs": [
    {
     "data": {
      "image/png": "[encoded data removed]",
      "text/plain": [
       "<Figure size 640x480 with 1 Axes>"
      ]
     },
     "metadata": {},
     "output_type": "display_data"
    }
   ],
   "source": [
    "forecast.plot()\n",
    "plt.show()"
   ]
  },
  {
   "cell_type": "code",
   "execution_count": 12,
   "id": "d39dd8f1",
   "metadata": {},
   "outputs": [],
   "source": [
    "#Turn date column to int with a temporary df\n",
    "\n",
    "df = forecast.copy()\n",
    "df[\"date\"] = df[\"date\"].apply(lambda x: int(x.timestamp()))"
   ]
  },
  {
   "cell_type": "code",
   "execution_count": 13,
   "id": "2a839c16",
   "metadata": {},
   "outputs": [],
   "source": [
    "#seperate by product\n",
    "\n",
    "product1 = df[df[\"Product\"] == \"SKU1\"]\n",
    "product2 = df[df[\"Product\"] == \"SKU2\"]\n",
    "product3 = df[df[\"Product\"] == \"SKU3\"]\n",
    "product4 = df[df[\"Product\"] == \"SKU4\"]\n",
    "product5 = df[df[\"Product\"] == \"SKU5\"]\n",
    "product6 = df[df[\"Product\"] == \"SKU6\"]"
   ]
  },
  {
   "cell_type": "markdown",
   "id": "d47c75e2",
   "metadata": {},
   "source": [
    "I will focus on product 1 for simplicity for now"
   ]
  },
  {
   "cell_type": "code",
   "execution_count": 14,
   "id": "da4df826",
   "metadata": {},
   "outputs": [],
   "source": [
    "#product1[\"date\"] = product1[\"date\"].apply(lambda x: int(x.timestamp()))\n"
   ]
  },
  {
   "cell_type": "code",
   "execution_count": 15,
   "id": "a77ac0fc",
   "metadata": {},
   "outputs": [
    {
     "data": {
      "text/html": [
       "<div>\n",
       "<style scoped>\n",
       "    .dataframe tbody tr th:only-of-type {\n",
       "        vertical-align: middle;\n",
       "    }\n",
       "\n",
       "    .dataframe tbody tr th {\n",
       "        vertical-align: top;\n",
       "    }\n",
       "\n",
       "    .dataframe thead th {\n",
       "        text-align: right;\n",
       "    }\n",
       "</style>\n",
       "<table border=\"1\" class=\"dataframe\">\n",
       "  <thead>\n",
       "    <tr style=\"text-align: right;\">\n",
       "      <th></th>\n",
       "      <th>Product</th>\n",
       "      <th>date</th>\n",
       "      <th>Month</th>\n",
       "      <th>Quarter</th>\n",
       "      <th>WeekNum</th>\n",
       "      <th>Sales</th>\n",
       "    </tr>\n",
       "  </thead>\n",
       "  <tbody>\n",
       "    <tr>\n",
       "      <th>0</th>\n",
       "      <td>SKU1</td>\n",
       "      <td>1486252800</td>\n",
       "      <td>2</td>\n",
       "      <td>1</td>\n",
       "      <td>5</td>\n",
       "      <td>27750</td>\n",
       "    </tr>\n",
       "    <tr>\n",
       "      <th>1</th>\n",
       "      <td>SKU1</td>\n",
       "      <td>1486857600</td>\n",
       "      <td>2</td>\n",
       "      <td>1</td>\n",
       "      <td>6</td>\n",
       "      <td>29023</td>\n",
       "    </tr>\n",
       "    <tr>\n",
       "      <th>2</th>\n",
       "      <td>SKU1</td>\n",
       "      <td>1487462400</td>\n",
       "      <td>2</td>\n",
       "      <td>1</td>\n",
       "      <td>7</td>\n",
       "      <td>45630</td>\n",
       "    </tr>\n",
       "    <tr>\n",
       "      <th>3</th>\n",
       "      <td>SKU1</td>\n",
       "      <td>1488067200</td>\n",
       "      <td>2</td>\n",
       "      <td>1</td>\n",
       "      <td>8</td>\n",
       "      <td>26789</td>\n",
       "    </tr>\n",
       "    <tr>\n",
       "      <th>4</th>\n",
       "      <td>SKU1</td>\n",
       "      <td>1488672000</td>\n",
       "      <td>3</td>\n",
       "      <td>1</td>\n",
       "      <td>9</td>\n",
       "      <td>41999</td>\n",
       "    </tr>\n",
       "  </tbody>\n",
       "</table>\n",
       "</div>"
      ],
      "text/plain": [
       "  Product        date  Month  Quarter  WeekNum  Sales\n",
       "0    SKU1  1486252800      2        1        5  27750\n",
       "1    SKU1  1486857600      2        1        6  29023\n",
       "2    SKU1  1487462400      2        1        7  45630\n",
       "3    SKU1  1488067200      2        1        8  26789\n",
       "4    SKU1  1488672000      3        1        9  41999"
      ]
     },
     "execution_count": 15,
     "metadata": {},
     "output_type": "execute_result"
    }
   ],
   "source": [
    "product1.head()"
   ]
  },
  {
   "cell_type": "markdown",
   "id": "522de2ab",
   "metadata": {},
   "source": [
    "# Linear Regression\n",
    "\n",
    " This is my base model. It is obviously not the best model to choose."
   ]
  },
  {
   "cell_type": "code",
   "execution_count": 16,
   "id": "2c83aaa8",
   "metadata": {},
   "outputs": [],
   "source": [
    "#prod = product1.copy()\n",
    "X = product1[[\"date\",\"Month\", \"Quarter\", \"WeekNum\"]]\n",
    "y = product1[\"Sales\"]\n",
    "\n",
    "X_train, X_test, y_train, y_test = train_test_split(X, y, train_size=0.66, random_state=42)"
   ]
  },
  {
   "cell_type": "code",
   "execution_count": 17,
   "id": "d5ddceb3",
   "metadata": {},
   "outputs": [],
   "source": [
    "#Evaluations \n",
    "def evaluations(y_test, prediction):\n",
    "    \n",
    "    #mean squared error\n",
    "    mse = mean_squared_error(y_test, prediction)\n",
    "    \n",
    "    #root mean squared error\n",
    "    rmse = np.sqrt(mse)\n",
    "    \n",
    "    #mean absolut Error\n",
    "    mae = mean_absolute_error(y_test, prediction)\n",
    "    \n",
    "    #Print \n",
    "    print('Mean Absolute Error: %f' % mae)\n",
    "    print(\"Mean Squared Error: %.3f\" % mse)\n",
    "    print('Root Mean Squared Error: %.3f' % rmse)"
   ]
  },
  {
   "cell_type": "code",
   "execution_count": 18,
   "id": "89549a27",
   "metadata": {},
   "outputs": [
    {
     "name": "stdout",
     "output_type": "stream",
     "text": [
      "Mean Absolute Error: 17705.355757\n",
      "Mean Squared Error: 639213205.012\n",
      "Root Mean Squared Error: 25282.666\n"
     ]
    }
   ],
   "source": [
    "# fit the model\n",
    "lr = LinearRegression()\n",
    "lr.fit(X_train, y_train)\n",
    "\n",
    "# predict on the same period\n",
    "pred1 = lr.predict(X_test)\n",
    "\n",
    "#Evaluations \n",
    "evaluations(y_test, pred1)"
   ]
  },
  {
   "cell_type": "markdown",
   "id": "6f650c23",
   "metadata": {},
   "source": [
    "# GridSearch CV"
   ]
  },
  {
   "cell_type": "code",
   "execution_count": 19,
   "id": "0602f8f9",
   "metadata": {},
   "outputs": [],
   "source": [
    "from sklearn.model_selection import GridSearchCV"
   ]
  },
  {
   "cell_type": "code",
   "execution_count": 20,
   "id": "477952da",
   "metadata": {},
   "outputs": [],
   "source": [
    "def gridsearch(model, parameters, X_train, y_train):\n",
    "    grid = GridSearchCV(estimator=model, param_grid = parameters,cv=5, n_jobs=None)\n",
    "    result = grid.fit(X_train, y_train)\n",
    "    \n",
    "    # summarize result\n",
    "    print('Best Score: %s' % result.best_score_)\n",
    "    print('Best Hyperparameters: %s' % result.best_params_)\n",
    "    "
   ]
  },
  {
   "cell_type": "code",
   "execution_count": 25,
   "id": "35ff1645",
   "metadata": {},
   "outputs": [
    {
     "name": "stdout",
     "output_type": "stream",
     "text": [
      "Best Score: -0.06059452957283886\n",
      "Best Hyperparameters: {'fit_intercept': True, 'n_jobs': 1, 'positive': False}\n"
     ]
    }
   ],
   "source": [
    "# Train a linear regression model using grid search and cross-validation\n",
    "model = LinearRegression()\n",
    "param_grid = {'fit_intercept': [True, False], \n",
    "              'positive': [True, False],\n",
    "             'n_jobs': [1, 3, None]}\n",
    "gridsearch(model, param_grid, X_train, y_train)\n",
    "\n",
    "#grid_search = GridSearchCV(model, param_grid, cv=5, scoring='neg_mean_squared_error')\n",
    "#grid_search.fit(train_data[features], train_data[target])\n"
   ]
  },
  {
   "cell_type": "code",
   "execution_count": 27,
   "id": "559ae950",
   "metadata": {},
   "outputs": [
    {
     "name": "stdout",
     "output_type": "stream",
     "text": [
      "Mean Absolute Error: 17705.355757\n",
      "Mean Squared Error: 639213205.012\n",
      "Root Mean Squared Error: 25282.666\n"
     ]
    }
   ],
   "source": [
    "#USE WITH BEST PARAMETERS\n",
    "\n",
    "# fit the model\n",
    "lr = LinearRegression(fit_intercept=True, n_jobs= 1, positive= False)\n",
    "lr.fit(X_train, y_train)\n",
    "\n",
    "# predict on the same period\n",
    "pred1 = lr.predict(X_test)\n",
    "\n",
    "#Evaluations \n",
    "evaluations(y_test, pred1)"
   ]
  },
  {
   "cell_type": "markdown",
   "id": "cafe8d15",
   "metadata": {},
   "source": [
    "# Random Forest "
   ]
  },
  {
   "cell_type": "code",
   "execution_count": 16,
   "id": "7b3a2cd3",
   "metadata": {},
   "outputs": [
    {
     "name": "stdout",
     "output_type": "stream",
     "text": [
      "Mean Absolute Error: 11596.123000\n",
      "Mean Squared Error: 285807943.500\n",
      "Root Mean Squared Error: 16905.855\n"
     ]
    }
   ],
   "source": [
    "# fit the model\n",
    "rf = RandomForestRegressor()\n",
    "rf.fit(X_train, y_train)\n",
    "\n",
    "# predict on the same period\n",
    "pred2 = rf.predict(X_test)\n",
    "\n",
    "#Evaluations \n",
    "evaluations(y_test, pred2)\n",
    "\n",
    "# plot what has been learned\n",
    "#plt.plot(co2_data.index, co2_data.co2.values)\n",
    "#plt.plot(co2_data.index, preds)"
   ]
  },
  {
   "cell_type": "markdown",
   "id": "7f34d311",
   "metadata": {},
   "source": [
    "# GridSearchCV "
   ]
  },
  {
   "cell_type": "code",
   "execution_count": 26,
   "id": "6b5f9631",
   "metadata": {},
   "outputs": [
    {
     "name": "stdout",
     "output_type": "stream",
     "text": [
      "Best Score: 0.003653799922777834\n",
      "Best Hyperparameters: {'criterion': 'absolute_error', 'max_samples': 5, 'n_estimators': 100, 'n_jobs': None, 'random_state': 42}\n"
     ]
    }
   ],
   "source": [
    "model = RandomForestRegressor()\n",
    "param_grid = {'n_estimators': [25, 50, 100], \n",
    "              'criterion': ['squared_error', 'absolute_error'],\n",
    "             'n_jobs': [None, 3, 5],\n",
    "             'random_state': [42],\n",
    "              'max_samples': [1,3,5]}\n",
    "gridsearch(model, param_grid, X_train, y_train)"
   ]
  },
  {
   "cell_type": "code",
   "execution_count": 29,
   "id": "33135987",
   "metadata": {},
   "outputs": [
    {
     "name": "stdout",
     "output_type": "stream",
     "text": [
      "Mean Absolute Error: 15351.275000\n",
      "Mean Squared Error: 579380037.972\n",
      "Root Mean Squared Error: 24070.314\n"
     ]
    }
   ],
   "source": [
    "# fit the model\n",
    "rf = RandomForestRegressor(criterion='absolute_error', max_samples= 5, n_estimators= 100, \n",
    "                           n_jobs= None, random_state= 42)\n",
    "rf.fit(X_train, y_train)\n",
    "\n",
    "# predict on the same period\n",
    "pred2 = rf.predict(X_test)\n",
    "\n",
    "#Evaluations \n",
    "evaluations(y_test, pred2)"
   ]
  },
  {
   "cell_type": "markdown",
   "id": "657c91be",
   "metadata": {},
   "source": [
    "# ARIMA"
   ]
  },
  {
   "cell_type": "code",
   "execution_count": 17,
   "id": "e7ad22e7",
   "metadata": {},
   "outputs": [],
   "source": [
    "forecast = forecast[[\"Product\", \"date\", \"Sales\"]]"
   ]
  },
  {
   "cell_type": "code",
   "execution_count": 18,
   "id": "2c775c88",
   "metadata": {},
   "outputs": [],
   "source": [
    "product1 = forecast[forecast[\"Product\"] == \"SKU1\"]\n",
    "product2 = forecast[forecast[\"Product\"] == \"SKU2\"]\n",
    "product3 = forecast[forecast[\"Product\"] == \"SKU3\"]\n",
    "product4 = forecast[forecast[\"Product\"] == \"SKU4\"]\n",
    "product5 = forecast[forecast[\"Product\"] == \"SKU5\"]\n",
    "product6 = forecast[forecast[\"Product\"] == \"SKU6\"]"
   ]
  },
  {
   "cell_type": "code",
   "execution_count": 19,
   "id": "4e523d71",
   "metadata": {},
   "outputs": [
    {
     "data": {
      "text/html": [
       "<div>\n",
       "<style scoped>\n",
       "    .dataframe tbody tr th:only-of-type {\n",
       "        vertical-align: middle;\n",
       "    }\n",
       "\n",
       "    .dataframe tbody tr th {\n",
       "        vertical-align: top;\n",
       "    }\n",
       "\n",
       "    .dataframe thead th {\n",
       "        text-align: right;\n",
       "    }\n",
       "</style>\n",
       "<table border=\"1\" class=\"dataframe\">\n",
       "  <thead>\n",
       "    <tr style=\"text-align: right;\">\n",
       "      <th></th>\n",
       "      <th>Product</th>\n",
       "      <th>date</th>\n",
       "      <th>Sales</th>\n",
       "    </tr>\n",
       "  </thead>\n",
       "  <tbody>\n",
       "    <tr>\n",
       "      <th>0</th>\n",
       "      <td>SKU1</td>\n",
       "      <td>2017-02-05</td>\n",
       "      <td>27750</td>\n",
       "    </tr>\n",
       "    <tr>\n",
       "      <th>1</th>\n",
       "      <td>SKU1</td>\n",
       "      <td>2017-02-12</td>\n",
       "      <td>29023</td>\n",
       "    </tr>\n",
       "    <tr>\n",
       "      <th>2</th>\n",
       "      <td>SKU1</td>\n",
       "      <td>2017-02-19</td>\n",
       "      <td>45630</td>\n",
       "    </tr>\n",
       "    <tr>\n",
       "      <th>3</th>\n",
       "      <td>SKU1</td>\n",
       "      <td>2017-02-26</td>\n",
       "      <td>26789</td>\n",
       "    </tr>\n",
       "    <tr>\n",
       "      <th>4</th>\n",
       "      <td>SKU1</td>\n",
       "      <td>2017-03-05</td>\n",
       "      <td>41999</td>\n",
       "    </tr>\n",
       "  </tbody>\n",
       "</table>\n",
       "</div>"
      ],
      "text/plain": [
       "  Product       date  Sales\n",
       "0    SKU1 2017-02-05  27750\n",
       "1    SKU1 2017-02-12  29023\n",
       "2    SKU1 2017-02-19  45630\n",
       "3    SKU1 2017-02-26  26789\n",
       "4    SKU1 2017-03-05  41999"
      ]
     },
     "execution_count": 19,
     "metadata": {},
     "output_type": "execute_result"
    }
   ],
   "source": [
    "#change forecast just to date and sales and change date into datetime\n",
    "#forecast = forecast[[\"Product\", \"date\", \"Sales\"]]\n",
    "\n",
    "#Turn date column to object\n",
    "#forecast['date'] = pd.to_datetime(forecast['date'])\n",
    "\n",
    "forecast.head()"
   ]
  },
  {
   "cell_type": "code",
   "execution_count": null,
   "id": "2c95f8a2",
   "metadata": {},
   "outputs": [],
   "source": []
  },
  {
   "cell_type": "markdown",
   "id": "0a1ab38d",
   "metadata": {},
   "source": [
    "## Stat test if it is stationary or not  using Augmented Dickey-Fuller Test"
   ]
  },
  {
   "cell_type": "code",
   "execution_count": 20,
   "id": "4ded4bf6",
   "metadata": {},
   "outputs": [],
   "source": [
    "# ADF Test\n",
    "# Function to print out results in customised manner\n",
    "def adf_test(df):\n",
    "    \n",
    "    df.index = df['date']\n",
    "\n",
    "    # Check the data type\n",
    "    del df['date']\n",
    "    del df[\"Product\"]\n",
    "    # View the dataset\n",
    "    #df.head()\n",
    "    \n",
    "    timeseries = df[\"Sales\"]\n",
    "    \n",
    "    print ('Results of Dickey-Fuller Test:')\n",
    "    dftest = adfuller(timeseries, autolag='AIC')\n",
    "    dfoutput = pd.Series(dftest[0:4], index=['Test Statistic','p-value','#Lags Used','Number of Observations Used'])\n",
    "    for key,value in dftest[4].items():\n",
    "        dfoutput['Critical Value (%s)'%key] = value\n",
    "    print (dfoutput)"
   ]
  },
  {
   "cell_type": "code",
   "execution_count": 21,
   "id": "47cbab3c",
   "metadata": {},
   "outputs": [
    {
     "name": "stdout",
     "output_type": "stream",
     "text": [
      "Results of Dickey-Fuller Test:\n",
      "Test Statistic                -8.709707e+00\n",
      "p-value                        3.618957e-14\n",
      "#Lags Used                     0.000000e+00\n",
      "Number of Observations Used    2.030000e+02\n",
      "Critical Value (1%)           -3.462980e+00\n",
      "Critical Value (5%)           -2.875885e+00\n",
      "Critical Value (10%)          -2.574416e+00\n",
      "dtype: float64\n"
     ]
    }
   ],
   "source": [
    "#product 1\n",
    "adf_test(product1)"
   ]
  },
  {
   "cell_type": "code",
   "execution_count": 22,
   "id": "fe796762",
   "metadata": {},
   "outputs": [
    {
     "name": "stdout",
     "output_type": "stream",
     "text": [
      "Results of Dickey-Fuller Test:\n",
      "Test Statistic                -1.510105e+01\n",
      "p-value                        7.939761e-28\n",
      "#Lags Used                     0.000000e+00\n",
      "Number of Observations Used    2.030000e+02\n",
      "Critical Value (1%)           -3.462980e+00\n",
      "Critical Value (5%)           -2.875885e+00\n",
      "Critical Value (10%)          -2.574416e+00\n",
      "dtype: float64\n"
     ]
    }
   ],
   "source": [
    "# Product 2\n",
    "adf_test(product2)"
   ]
  },
  {
   "cell_type": "code",
   "execution_count": 23,
   "id": "7cacd5af",
   "metadata": {},
   "outputs": [
    {
     "name": "stdout",
     "output_type": "stream",
     "text": [
      "Results of Dickey-Fuller Test:\n",
      "Test Statistic                -5.752370e+00\n",
      "p-value                        5.925780e-07\n",
      "#Lags Used                     3.000000e+00\n",
      "Number of Observations Used    2.000000e+02\n",
      "Critical Value (1%)           -3.463476e+00\n",
      "Critical Value (5%)           -2.876102e+00\n",
      "Critical Value (10%)          -2.574532e+00\n",
      "dtype: float64\n"
     ]
    }
   ],
   "source": [
    "# Product 3\n",
    "adf_test(product3)"
   ]
  },
  {
   "cell_type": "code",
   "execution_count": 24,
   "id": "cc03c19d",
   "metadata": {},
   "outputs": [
    {
     "name": "stdout",
     "output_type": "stream",
     "text": [
      "Results of Dickey-Fuller Test:\n",
      "Test Statistic                  -5.589760\n",
      "p-value                          0.000001\n",
      "#Lags Used                       3.000000\n",
      "Number of Observations Used    200.000000\n",
      "Critical Value (1%)             -3.463476\n",
      "Critical Value (5%)             -2.876102\n",
      "Critical Value (10%)            -2.574532\n",
      "dtype: float64\n"
     ]
    }
   ],
   "source": [
    "# Product 4\n",
    "adf_test(product4)"
   ]
  },
  {
   "cell_type": "code",
   "execution_count": 25,
   "id": "b518f129",
   "metadata": {},
   "outputs": [
    {
     "name": "stdout",
     "output_type": "stream",
     "text": [
      "Results of Dickey-Fuller Test:\n",
      "Test Statistic                  -4.407753\n",
      "p-value                          0.000288\n",
      "#Lags Used                       4.000000\n",
      "Number of Observations Used    199.000000\n",
      "Critical Value (1%)             -3.463645\n",
      "Critical Value (5%)             -2.876176\n",
      "Critical Value (10%)            -2.574572\n",
      "dtype: float64\n"
     ]
    }
   ],
   "source": [
    "# Product 5\n",
    "adf_test(product5)"
   ]
  },
  {
   "cell_type": "code",
   "execution_count": 26,
   "id": "e398d6c6",
   "metadata": {},
   "outputs": [
    {
     "name": "stdout",
     "output_type": "stream",
     "text": [
      "Results of Dickey-Fuller Test:\n",
      "Test Statistic                  -5.259048\n",
      "p-value                          0.000007\n",
      "#Lags Used                       3.000000\n",
      "Number of Observations Used    194.000000\n",
      "Critical Value (1%)             -3.464515\n",
      "Critical Value (5%)             -2.876556\n",
      "Critical Value (10%)            -2.574775\n",
      "dtype: float64\n"
     ]
    }
   ],
   "source": [
    "# Product 6\n",
    "adf_test(product6)"
   ]
  },
  {
   "cell_type": "code",
   "execution_count": null,
   "id": "91db96e3",
   "metadata": {},
   "outputs": [],
   "source": []
  },
  {
   "cell_type": "markdown",
   "id": "852f4888",
   "metadata": {},
   "source": [
    "## All of the products are stationary based on the Augmented Dickey-Fuller Test."
   ]
  },
  {
   "cell_type": "markdown",
   "id": "f65bb587",
   "metadata": {},
   "source": [
    "## ARIMA Model"
   ]
  },
  {
   "cell_type": "code",
   "execution_count": 27,
   "id": "262dc566",
   "metadata": {},
   "outputs": [
    {
     "name": "stdout",
     "output_type": "stream",
     "text": [
      "predicted=36706.111447, expected=25936.000000\n",
      "predicted=40601.118769, expected=54655.000000\n",
      "predicted=36500.749410, expected=119393.000000\n",
      "predicted=54796.180359, expected=32373.000000\n",
      "predicted=70234.596286, expected=52964.000000\n",
      "predicted=52087.293649, expected=94633.000000\n",
      "predicted=66605.753378, expected=33665.000000\n",
      "predicted=70855.283468, expected=36955.000000\n",
      "predicted=51889.041644, expected=0.000000\n",
      "predicted=43941.007019, expected=23891.000000\n",
      "predicted=27445.980870, expected=49314.000000\n",
      "predicted=27941.205990, expected=77842.000000\n",
      "predicted=38949.748603, expected=39290.000000\n",
      "predicted=47229.993539, expected=41141.000000\n",
      "predicted=43791.476733, expected=51305.000000\n",
      "predicted=49096.961411, expected=55980.000000\n",
      "predicted=51620.699792, expected=43689.000000\n",
      "predicted=49484.109491, expected=31850.000000\n",
      "predicted=44795.713035, expected=33908.000000\n",
      "predicted=41039.737595, expected=72587.000000\n",
      "predicted=44325.538949, expected=26410.000000\n",
      "predicted=48326.188707, expected=80431.000000\n",
      "predicted=43702.640990, expected=59037.000000\n",
      "predicted=59951.503637, expected=49531.000000\n",
      "predicted=56395.995631, expected=31099.000000\n",
      "predicted=51850.037889, expected=26045.000000\n",
      "predicted=44315.990065, expected=30877.000000\n",
      "predicted=37683.040228, expected=67966.000000\n",
      "predicted=39208.245132, expected=55431.000000\n",
      "predicted=47863.245917, expected=30099.000000\n",
      "predicted=44374.604611, expected=49036.000000\n",
      "predicted=43105.888047, expected=33308.000000\n",
      "predicted=46727.335306, expected=31866.000000\n",
      "predicted=39440.814805, expected=34526.000000\n",
      "predicted=36228.458141, expected=35191.000000\n",
      "predicted=35710.193828, expected=40420.000000\n",
      "predicted=35679.787798, expected=36072.000000\n",
      "predicted=36553.012117, expected=69480.000000\n",
      "predicted=41095.197492, expected=67770.000000\n",
      "predicted=53400.071821, expected=86576.000000\n",
      "predicted=60951.860588, expected=52126.000000\n",
      "predicted=67233.678639, expected=0.000000\n",
      "predicted=52644.794522, expected=52048.000000\n",
      "predicted=42535.830061, expected=34918.000000\n",
      "predicted=47727.672581, expected=42032.000000\n",
      "predicted=37833.827754, expected=109917.000000\n",
      "predicted=48070.923131, expected=28997.000000\n",
      "predicted=61378.518265, expected=50471.000000\n",
      "predicted=48272.424963, expected=25446.000000\n",
      "predicted=49370.611133, expected=79050.000000\n",
      "predicted=51011.121277, expected=58185.000000\n",
      "predicted=59354.311723, expected=46829.000000\n",
      "predicted=51195.713423, expected=32717.000000\n",
      "predicted=48059.481930, expected=29731.000000\n",
      "predicted=44535.959297, expected=34303.000000\n",
      "predicted=41234.923447, expected=46628.000000\n",
      "predicted=39053.991246, expected=43976.000000\n",
      "predicted=40052.183438, expected=60365.000000\n",
      "predicted=42420.662640, expected=50644.000000\n",
      "predicted=48543.181247, expected=25445.000000\n",
      "predicted=45135.137529, expected=51818.000000\n",
      "predicted=42212.822691, expected=29177.000000\n",
      "predicted=45561.998427, expected=174994.000000\n",
      "predicted=58218.864056, expected=30874.000000\n",
      "predicted=85700.107464, expected=42154.000000\n",
      "predicted=52972.956213, expected=31898.000000\n",
      "predicted=59589.437488, expected=40402.000000\n",
      "predicted=60530.690512, expected=64904.000000\n",
      "predicted=52585.444352, expected=35354.000000\n",
      "predicted=46254.806951, expected=51369.000000\n"
     ]
    }
   ],
   "source": [
    "#Train/test split\n",
    "#X = product1.values\n",
    "#size = int(len(X) * 0.60)\n",
    "#X_train, X_test = X[0:size], X[size:len(X)]\n",
    "X_train, X_test = train_test_split(product1.values, train_size=0.66, random_state=42)\n",
    "\n",
    "history = [x for x in X_train]\n",
    "pred3 = list()\n",
    "\n",
    "\n",
    "# walk-forward validation\n",
    "for x in range(len(X_test)):\n",
    "    model = ARIMA(history, order=(5,1,0))\n",
    "    model_fit = model.fit()\n",
    "    output = model_fit.forecast()\n",
    "    yhat = output[0]\n",
    "    pred3.append(yhat)\n",
    "    obs = X_test[x]\n",
    "    history.append(obs)\n",
    "    print('predicted=%f, expected=%f' % (yhat, obs))\n"
   ]
  },
  {
   "cell_type": "code",
   "execution_count": 28,
   "id": "7be407db",
   "metadata": {},
   "outputs": [
    {
     "name": "stdout",
     "output_type": "stream",
     "text": [
      "Forecasting Bias or Mean Forecast Error: 107.421563\n",
      "Mean Absolute Error: 21247.458148\n",
      "Mean Squared Error: 889640825.835\n",
      "Root Mean Squared Error: 29826.847\n"
     ]
    }
   ],
   "source": [
    "#predicted=995.744348, expected=0.000000\n",
    "#predicted=995.744348, expected=0.000000\n",
    "# evaluate forecasts\n",
    "\n",
    "#Forecast Error (or Residual Forecast Error)\n",
    "forecast_errors = [X_test[i]-pred3[i] for i in range(len(X_test))]\n",
    "\n",
    "#forecast bias\n",
    "bias =  np.mean(forecast_errors)\n",
    "\n",
    "\n",
    "#Print \n",
    "#print('Forecast Errors: %s' % forecast_errors)\n",
    "print('Forecasting Bias or Mean Forecast Error: %f' % bias)\n",
    "#Evaluations \n",
    "evaluations(X_test, pred3)\n"
   ]
  },
  {
   "cell_type": "markdown",
   "id": "d82e19f6",
   "metadata": {},
   "source": [
    "Based on the <b>forecasting bias</b> the model is under forecasting. \n",
    "\n",
    "Based on the <b>Mean Absolute Error</b>, it is really high. The closer to 0 the better the model can be. \n",
    "\n",
    "The model has a high <b>Mean Squared Error</b>. A mean squared error of zero indicates perfect skill, or no error.\n",
    "\n",
    "The model has a high <b>Root Mean Squared Error</b>.As with the mean squared error, an RMSE of zero indicates no error."
   ]
  },
  {
   "cell_type": "code",
   "execution_count": 29,
   "id": "438e475c",
   "metadata": {},
   "outputs": [
    {
     "name": "stdout",
     "output_type": "stream",
     "text": [
      "                               SARIMAX Results                                \n",
      "==============================================================================\n",
      "Dep. Variable:                      y   No. Observations:                  203\n",
      "Model:                 ARIMA(5, 1, 0)   Log Likelihood               -2377.254\n",
      "Date:                Wed, 13 Sep 2023   AIC                           4766.508\n",
      "Time:                        10:26:49   BIC                           4786.357\n",
      "Sample:                             0   HQIC                          4774.539\n",
      "                                - 203                                         \n",
      "Covariance Type:                  opg                                         \n",
      "==============================================================================\n",
      "                 coef    std err          z      P>|z|      [0.025      0.975]\n",
      "------------------------------------------------------------------------------\n",
      "ar.L1         -0.8625      0.081    -10.715      0.000      -1.020      -0.705\n",
      "ar.L2         -0.5277      0.117     -4.496      0.000      -0.758      -0.298\n",
      "ar.L3         -0.4179      0.121     -3.446      0.001      -0.656      -0.180\n",
      "ar.L4         -0.2649      0.099     -2.678      0.007      -0.459      -0.071\n",
      "ar.L5         -0.0728      0.068     -1.069      0.285      -0.206       0.061\n",
      "sigma2      9.874e+08   1.07e-10   9.25e+18      0.000    9.87e+08    9.87e+08\n",
      "===================================================================================\n",
      "Ljung-Box (L1) (Q):                   0.07   Jarque-Bera (JB):              1802.34\n",
      "Prob(Q):                              0.79   Prob(JB):                         0.00\n",
      "Heteroskedasticity (H):               0.63   Skew:                             2.60\n",
      "Prob(H) (two-sided):                  0.06   Kurtosis:                        16.68\n",
      "===================================================================================\n",
      "\n",
      "Warnings:\n",
      "[1] Covariance matrix calculated using the outer product of gradients (complex-step).\n",
      "[2] Covariance matrix is singular or near-singular, with condition number 1.37e+34. Standard errors may be unstable.\n"
     ]
    }
   ],
   "source": [
    "print(model_fit.summary())"
   ]
  },
  {
   "cell_type": "code",
   "execution_count": 30,
   "id": "743c0038",
   "metadata": {},
   "outputs": [
    {
     "data": {
      "image/png": "[encoded data removed]",
      "text/plain": [
       "<Figure size 640x480 with 1 Axes>"
      ]
     },
     "metadata": {},
     "output_type": "display_data"
    }
   ],
   "source": [
    "# plot forecasts against actual outcomes\n",
    "plt.plot(X_test)\n",
    "plt.plot(pred3, color='red')\n",
    "plt.show()"
   ]
  },
  {
   "cell_type": "code",
   "execution_count": null,
   "id": "4d700821",
   "metadata": {},
   "outputs": [],
   "source": []
  },
  {
   "cell_type": "markdown",
   "id": "ec996a19",
   "metadata": {},
   "source": [
    "# ARMA"
   ]
  },
  {
   "cell_type": "code",
   "execution_count": null,
   "id": "2fd92065",
   "metadata": {},
   "outputs": [],
   "source": []
  },
  {
   "cell_type": "code",
   "execution_count": null,
   "id": "1c8e4ba1",
   "metadata": {},
   "outputs": [],
   "source": []
  },
  {
   "cell_type": "code",
   "execution_count": null,
   "id": "ac7aeff4",
   "metadata": {},
   "outputs": [],
   "source": []
  },
  {
   "cell_type": "markdown",
   "id": "1d7dbfba",
   "metadata": {},
   "source": [
    "# Autoregression (AR)"
   ]
  },
  {
   "cell_type": "code",
   "execution_count": null,
   "id": "30fa21da",
   "metadata": {},
   "outputs": [],
   "source": []
  },
  {
   "cell_type": "code",
   "execution_count": null,
   "id": "ad2ca54d",
   "metadata": {},
   "outputs": [],
   "source": []
  },
  {
   "cell_type": "markdown",
   "id": "c6b91b55",
   "metadata": {},
   "source": [
    "# Moving Average (MA)"
   ]
  },
  {
   "cell_type": "markdown",
   "id": "98edb3f6",
   "metadata": {},
   "source": [
    "# Seasonal Autoregressive Integrated Moving-Average (SARIMA)"
   ]
  },
  {
   "cell_type": "code",
   "execution_count": null,
   "id": "3ed4dcf3",
   "metadata": {},
   "outputs": [],
   "source": []
  },
  {
   "cell_type": "code",
   "execution_count": null,
   "id": "a9195db2",
   "metadata": {},
   "outputs": [],
   "source": []
  }
 ],
 "metadata": {
  "kernelspec": {
   "display_name": "Python 3 (ipykernel)",
   "language": "python",
   "name": "python3"
  },
  "language_info": {
   "codemirror_mode": {
    "name": "ipython",
    "version": 3
   },
   "file_extension": ".py",
   "mimetype": "text/x-python",
   "name": "python",
   "nbconvert_exporter": "python",
   "pygments_lexer": "ipython3",
   "version": "3.9.17"
  }
 },
 "nbformat": 4,
 "nbformat_minor": 5
}
