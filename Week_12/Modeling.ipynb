{
 "cells": [
  {
   "cell_type": "markdown",
   "id": "485f2a59",
   "metadata": {},
   "source": [
    "# Retail Forecasting\n",
    "\n",
    "## Problem Statement:\n",
    "The large company who is into beverages business in Australia. They sell their products through various super-markets and also engage into heavy promotions throughout the year. Their demand is also influenced by various factors like holiday, seasonality. They needed forecast of each of products at item level every week in weekly buckets."
   ]
  },
  {
   "cell_type": "code",
   "execution_count": 12,
   "id": "c7f118cf",
   "metadata": {},
   "outputs": [],
   "source": [
    "import numpy as np\n",
    "import pandas as pd\n",
    "import datetime\n",
    "from statsmodels.tsa.arima.model import ARIMA\n",
    "from matplotlib import pyplot as plt\n",
    "import statsmodels.api as sm\n",
    "from statsmodels.tsa.stattools import adfuller\n",
    "from sklearn.metrics import mean_squared_error, mean_absolute_error\n",
    "from sklearn.model_selection import train_test_split"
   ]
  },
  {
   "cell_type": "code",
   "execution_count": 2,
   "id": "94bbe56c",
   "metadata": {},
   "outputs": [
    {
     "data": {
      "text/html": [
       "<div>\n",
       "<style scoped>\n",
       "    .dataframe tbody tr th:only-of-type {\n",
       "        vertical-align: middle;\n",
       "    }\n",
       "\n",
       "    .dataframe tbody tr th {\n",
       "        vertical-align: top;\n",
       "    }\n",
       "\n",
       "    .dataframe thead th {\n",
       "        text-align: right;\n",
       "    }\n",
       "</style>\n",
       "<table border=\"1\" class=\"dataframe\">\n",
       "  <thead>\n",
       "    <tr style=\"text-align: right;\">\n",
       "      <th></th>\n",
       "      <th>Unnamed: 0</th>\n",
       "      <th>Product</th>\n",
       "      <th>date</th>\n",
       "      <th>Sales</th>\n",
       "      <th>Discount</th>\n",
       "      <th>In-Store Promo</th>\n",
       "      <th>Catalogue Promo</th>\n",
       "      <th>Store End Promo</th>\n",
       "      <th>Google_Mobility</th>\n",
       "      <th>Covid_Flag</th>\n",
       "      <th>V_DAY</th>\n",
       "      <th>EASTER</th>\n",
       "      <th>CHRISTMAS</th>\n",
       "      <th>DayOfWeek</th>\n",
       "      <th>Quarter</th>\n",
       "      <th>WeekNum</th>\n",
       "    </tr>\n",
       "  </thead>\n",
       "  <tbody>\n",
       "    <tr>\n",
       "      <th>0</th>\n",
       "      <td>0</td>\n",
       "      <td>SKU1</td>\n",
       "      <td>2017-02-05</td>\n",
       "      <td>27750</td>\n",
       "      <td>0.00</td>\n",
       "      <td>0</td>\n",
       "      <td>0</td>\n",
       "      <td>0</td>\n",
       "      <td>0.0</td>\n",
       "      <td>0</td>\n",
       "      <td>0</td>\n",
       "      <td>0</td>\n",
       "      <td>0</td>\n",
       "      <td>Sunday</td>\n",
       "      <td>1</td>\n",
       "      <td>5</td>\n",
       "    </tr>\n",
       "    <tr>\n",
       "      <th>1</th>\n",
       "      <td>1</td>\n",
       "      <td>SKU1</td>\n",
       "      <td>2017-02-12</td>\n",
       "      <td>29023</td>\n",
       "      <td>0.00</td>\n",
       "      <td>1</td>\n",
       "      <td>0</td>\n",
       "      <td>1</td>\n",
       "      <td>0.0</td>\n",
       "      <td>0</td>\n",
       "      <td>1</td>\n",
       "      <td>0</td>\n",
       "      <td>0</td>\n",
       "      <td>Sunday</td>\n",
       "      <td>1</td>\n",
       "      <td>6</td>\n",
       "    </tr>\n",
       "    <tr>\n",
       "      <th>2</th>\n",
       "      <td>2</td>\n",
       "      <td>SKU1</td>\n",
       "      <td>2017-02-19</td>\n",
       "      <td>45630</td>\n",
       "      <td>0.17</td>\n",
       "      <td>0</td>\n",
       "      <td>0</td>\n",
       "      <td>0</td>\n",
       "      <td>0.0</td>\n",
       "      <td>0</td>\n",
       "      <td>0</td>\n",
       "      <td>0</td>\n",
       "      <td>0</td>\n",
       "      <td>Sunday</td>\n",
       "      <td>1</td>\n",
       "      <td>7</td>\n",
       "    </tr>\n",
       "  </tbody>\n",
       "</table>\n",
       "</div>"
      ],
      "text/plain": [
       "   Unnamed: 0 Product        date  Sales  Discount  In-Store Promo  \\\n",
       "0           0    SKU1  2017-02-05  27750      0.00               0   \n",
       "1           1    SKU1  2017-02-12  29023      0.00               1   \n",
       "2           2    SKU1  2017-02-19  45630      0.17               0   \n",
       "\n",
       "   Catalogue Promo  Store End Promo  Google_Mobility  Covid_Flag  V_DAY  \\\n",
       "0                0                0              0.0           0      0   \n",
       "1                0                1              0.0           0      1   \n",
       "2                0                0              0.0           0      0   \n",
       "\n",
       "   EASTER  CHRISTMAS DayOfWeek  Quarter  WeekNum  \n",
       "0       0          0    Sunday        1        5  \n",
       "1       0          0    Sunday        1        6  \n",
       "2       0          0    Sunday        1        7  "
      ]
     },
     "execution_count": 2,
     "metadata": {},
     "output_type": "execute_result"
    }
   ],
   "source": [
    "forecast = pd.read_csv('./Data/newForecast.csv')\n",
    "forecast.head(3)"
   ]
  },
  {
   "cell_type": "code",
   "execution_count": 3,
   "id": "19e18d61",
   "metadata": {},
   "outputs": [],
   "source": [
    "forecast['date'] = pd.to_datetime(forecast['date'])"
   ]
  },
  {
   "cell_type": "code",
   "execution_count": 4,
   "id": "3fd85110",
   "metadata": {},
   "outputs": [
    {
     "data": {
      "text/html": [
       "<div>\n",
       "<style scoped>\n",
       "    .dataframe tbody tr th:only-of-type {\n",
       "        vertical-align: middle;\n",
       "    }\n",
       "\n",
       "    .dataframe tbody tr th {\n",
       "        vertical-align: top;\n",
       "    }\n",
       "\n",
       "    .dataframe thead th {\n",
       "        text-align: right;\n",
       "    }\n",
       "</style>\n",
       "<table border=\"1\" class=\"dataframe\">\n",
       "  <thead>\n",
       "    <tr style=\"text-align: right;\">\n",
       "      <th></th>\n",
       "      <th>Product</th>\n",
       "      <th>date</th>\n",
       "      <th>Sales</th>\n",
       "      <th>Discount</th>\n",
       "      <th>In-Store Promo</th>\n",
       "      <th>Catalogue Promo</th>\n",
       "      <th>Store End Promo</th>\n",
       "      <th>Google_Mobility</th>\n",
       "      <th>Covid_Flag</th>\n",
       "      <th>V_DAY</th>\n",
       "      <th>EASTER</th>\n",
       "      <th>CHRISTMAS</th>\n",
       "      <th>DayOfWeek</th>\n",
       "      <th>Quarter</th>\n",
       "      <th>WeekNum</th>\n",
       "    </tr>\n",
       "  </thead>\n",
       "  <tbody>\n",
       "    <tr>\n",
       "      <th>0</th>\n",
       "      <td>SKU1</td>\n",
       "      <td>2017-02-05</td>\n",
       "      <td>27750</td>\n",
       "      <td>0.00</td>\n",
       "      <td>0</td>\n",
       "      <td>0</td>\n",
       "      <td>0</td>\n",
       "      <td>0.0</td>\n",
       "      <td>0</td>\n",
       "      <td>0</td>\n",
       "      <td>0</td>\n",
       "      <td>0</td>\n",
       "      <td>Sunday</td>\n",
       "      <td>1</td>\n",
       "      <td>5</td>\n",
       "    </tr>\n",
       "    <tr>\n",
       "      <th>1</th>\n",
       "      <td>SKU1</td>\n",
       "      <td>2017-02-12</td>\n",
       "      <td>29023</td>\n",
       "      <td>0.00</td>\n",
       "      <td>1</td>\n",
       "      <td>0</td>\n",
       "      <td>1</td>\n",
       "      <td>0.0</td>\n",
       "      <td>0</td>\n",
       "      <td>1</td>\n",
       "      <td>0</td>\n",
       "      <td>0</td>\n",
       "      <td>Sunday</td>\n",
       "      <td>1</td>\n",
       "      <td>6</td>\n",
       "    </tr>\n",
       "    <tr>\n",
       "      <th>2</th>\n",
       "      <td>SKU1</td>\n",
       "      <td>2017-02-19</td>\n",
       "      <td>45630</td>\n",
       "      <td>0.17</td>\n",
       "      <td>0</td>\n",
       "      <td>0</td>\n",
       "      <td>0</td>\n",
       "      <td>0.0</td>\n",
       "      <td>0</td>\n",
       "      <td>0</td>\n",
       "      <td>0</td>\n",
       "      <td>0</td>\n",
       "      <td>Sunday</td>\n",
       "      <td>1</td>\n",
       "      <td>7</td>\n",
       "    </tr>\n",
       "  </tbody>\n",
       "</table>\n",
       "</div>"
      ],
      "text/plain": [
       "  Product       date  Sales  Discount  In-Store Promo  Catalogue Promo  \\\n",
       "0    SKU1 2017-02-05  27750      0.00               0                0   \n",
       "1    SKU1 2017-02-12  29023      0.00               1                0   \n",
       "2    SKU1 2017-02-19  45630      0.17               0                0   \n",
       "\n",
       "   Store End Promo  Google_Mobility  Covid_Flag  V_DAY  EASTER  CHRISTMAS  \\\n",
       "0                0              0.0           0      0       0          0   \n",
       "1                1              0.0           0      1       0          0   \n",
       "2                0              0.0           0      0       0          0   \n",
       "\n",
       "  DayOfWeek  Quarter  WeekNum  \n",
       "0    Sunday        1        5  \n",
       "1    Sunday        1        6  \n",
       "2    Sunday        1        7  "
      ]
     },
     "execution_count": 4,
     "metadata": {},
     "output_type": "execute_result"
    }
   ],
   "source": [
    "forecast.drop('Unnamed: 0', axis=1, inplace=True)\n",
    "forecast.head(3)"
   ]
  },
  {
   "cell_type": "code",
   "execution_count": 5,
   "id": "71d49c9a",
   "metadata": {},
   "outputs": [
    {
     "name": "stdout",
     "output_type": "stream",
     "text": [
      "<class 'pandas.core.frame.DataFrame'>\n",
      "RangeIndex: 1218 entries, 0 to 1217\n",
      "Data columns (total 15 columns):\n",
      " #   Column           Non-Null Count  Dtype         \n",
      "---  ------           --------------  -----         \n",
      " 0   Product          1218 non-null   object        \n",
      " 1   date             1218 non-null   datetime64[ns]\n",
      " 2   Sales            1218 non-null   int64         \n",
      " 3   Discount         1218 non-null   float64       \n",
      " 4   In-Store Promo   1218 non-null   int64         \n",
      " 5   Catalogue Promo  1218 non-null   int64         \n",
      " 6   Store End Promo  1218 non-null   int64         \n",
      " 7   Google_Mobility  1218 non-null   float64       \n",
      " 8   Covid_Flag       1218 non-null   int64         \n",
      " 9   V_DAY            1218 non-null   int64         \n",
      " 10  EASTER           1218 non-null   int64         \n",
      " 11  CHRISTMAS        1218 non-null   int64         \n",
      " 12  DayOfWeek        1218 non-null   object        \n",
      " 13  Quarter          1218 non-null   int64         \n",
      " 14  WeekNum          1218 non-null   int64         \n",
      "dtypes: datetime64[ns](1), float64(2), int64(10), object(2)\n",
      "memory usage: 142.9+ KB\n"
     ]
    }
   ],
   "source": [
    "forecast.info()"
   ]
  },
  {
   "cell_type": "markdown",
   "id": "4c84ee57",
   "metadata": {},
   "source": [
    "# Add Year and Month"
   ]
  },
  {
   "cell_type": "code",
   "execution_count": 6,
   "id": "4853bcdf",
   "metadata": {},
   "outputs": [
    {
     "data": {
      "text/html": [
       "<div>\n",
       "<style scoped>\n",
       "    .dataframe tbody tr th:only-of-type {\n",
       "        vertical-align: middle;\n",
       "    }\n",
       "\n",
       "    .dataframe tbody tr th {\n",
       "        vertical-align: top;\n",
       "    }\n",
       "\n",
       "    .dataframe thead th {\n",
       "        text-align: right;\n",
       "    }\n",
       "</style>\n",
       "<table border=\"1\" class=\"dataframe\">\n",
       "  <thead>\n",
       "    <tr style=\"text-align: right;\">\n",
       "      <th></th>\n",
       "      <th>Product</th>\n",
       "      <th>date</th>\n",
       "      <th>Sales</th>\n",
       "      <th>Discount</th>\n",
       "      <th>In-Store Promo</th>\n",
       "      <th>Catalogue Promo</th>\n",
       "      <th>Store End Promo</th>\n",
       "      <th>Google_Mobility</th>\n",
       "      <th>Covid_Flag</th>\n",
       "      <th>V_DAY</th>\n",
       "      <th>EASTER</th>\n",
       "      <th>CHRISTMAS</th>\n",
       "      <th>DayOfWeek</th>\n",
       "      <th>Quarter</th>\n",
       "      <th>WeekNum</th>\n",
       "      <th>Year</th>\n",
       "      <th>Month</th>\n",
       "    </tr>\n",
       "  </thead>\n",
       "  <tbody>\n",
       "    <tr>\n",
       "      <th>0</th>\n",
       "      <td>SKU1</td>\n",
       "      <td>2017-02-05</td>\n",
       "      <td>27750</td>\n",
       "      <td>0.00</td>\n",
       "      <td>0</td>\n",
       "      <td>0</td>\n",
       "      <td>0</td>\n",
       "      <td>0.0</td>\n",
       "      <td>0</td>\n",
       "      <td>0</td>\n",
       "      <td>0</td>\n",
       "      <td>0</td>\n",
       "      <td>Sunday</td>\n",
       "      <td>1</td>\n",
       "      <td>5</td>\n",
       "      <td>2017</td>\n",
       "      <td>2</td>\n",
       "    </tr>\n",
       "    <tr>\n",
       "      <th>1</th>\n",
       "      <td>SKU1</td>\n",
       "      <td>2017-02-12</td>\n",
       "      <td>29023</td>\n",
       "      <td>0.00</td>\n",
       "      <td>1</td>\n",
       "      <td>0</td>\n",
       "      <td>1</td>\n",
       "      <td>0.0</td>\n",
       "      <td>0</td>\n",
       "      <td>1</td>\n",
       "      <td>0</td>\n",
       "      <td>0</td>\n",
       "      <td>Sunday</td>\n",
       "      <td>1</td>\n",
       "      <td>6</td>\n",
       "      <td>2017</td>\n",
       "      <td>2</td>\n",
       "    </tr>\n",
       "    <tr>\n",
       "      <th>2</th>\n",
       "      <td>SKU1</td>\n",
       "      <td>2017-02-19</td>\n",
       "      <td>45630</td>\n",
       "      <td>0.17</td>\n",
       "      <td>0</td>\n",
       "      <td>0</td>\n",
       "      <td>0</td>\n",
       "      <td>0.0</td>\n",
       "      <td>0</td>\n",
       "      <td>0</td>\n",
       "      <td>0</td>\n",
       "      <td>0</td>\n",
       "      <td>Sunday</td>\n",
       "      <td>1</td>\n",
       "      <td>7</td>\n",
       "      <td>2017</td>\n",
       "      <td>2</td>\n",
       "    </tr>\n",
       "  </tbody>\n",
       "</table>\n",
       "</div>"
      ],
      "text/plain": [
       "  Product       date  Sales  Discount  In-Store Promo  Catalogue Promo  \\\n",
       "0    SKU1 2017-02-05  27750      0.00               0                0   \n",
       "1    SKU1 2017-02-12  29023      0.00               1                0   \n",
       "2    SKU1 2017-02-19  45630      0.17               0                0   \n",
       "\n",
       "   Store End Promo  Google_Mobility  Covid_Flag  V_DAY  EASTER  CHRISTMAS  \\\n",
       "0                0              0.0           0      0       0          0   \n",
       "1                1              0.0           0      1       0          0   \n",
       "2                0              0.0           0      0       0          0   \n",
       "\n",
       "  DayOfWeek  Quarter  WeekNum  Year  Month  \n",
       "0    Sunday        1        5  2017      2  \n",
       "1    Sunday        1        6  2017      2  \n",
       "2    Sunday        1        7  2017      2  "
      ]
     },
     "execution_count": 6,
     "metadata": {},
     "output_type": "execute_result"
    }
   ],
   "source": [
    "forecast['Year'] = forecast['date'].dt.year\n",
    "forecast['Month'] = forecast['date'].dt.month\n",
    "forecast.head(3)"
   ]
  },
  {
   "cell_type": "markdown",
   "id": "15d3b8f7",
   "metadata": {},
   "source": [
    "# Modeling"
   ]
  },
  {
   "cell_type": "code",
   "execution_count": 7,
   "id": "fb18728c",
   "metadata": {},
   "outputs": [
    {
     "data": {
      "text/html": [
       "<div>\n",
       "<style scoped>\n",
       "    .dataframe tbody tr th:only-of-type {\n",
       "        vertical-align: middle;\n",
       "    }\n",
       "\n",
       "    .dataframe tbody tr th {\n",
       "        vertical-align: top;\n",
       "    }\n",
       "\n",
       "    .dataframe thead th {\n",
       "        text-align: right;\n",
       "    }\n",
       "</style>\n",
       "<table border=\"1\" class=\"dataframe\">\n",
       "  <thead>\n",
       "    <tr style=\"text-align: right;\">\n",
       "      <th></th>\n",
       "      <th>Product</th>\n",
       "      <th>date</th>\n",
       "      <th>Sales</th>\n",
       "    </tr>\n",
       "  </thead>\n",
       "  <tbody>\n",
       "    <tr>\n",
       "      <th>0</th>\n",
       "      <td>SKU1</td>\n",
       "      <td>2017-02-05</td>\n",
       "      <td>27750</td>\n",
       "    </tr>\n",
       "    <tr>\n",
       "      <th>1</th>\n",
       "      <td>SKU1</td>\n",
       "      <td>2017-02-12</td>\n",
       "      <td>29023</td>\n",
       "    </tr>\n",
       "    <tr>\n",
       "      <th>2</th>\n",
       "      <td>SKU1</td>\n",
       "      <td>2017-02-19</td>\n",
       "      <td>45630</td>\n",
       "    </tr>\n",
       "    <tr>\n",
       "      <th>3</th>\n",
       "      <td>SKU1</td>\n",
       "      <td>2017-02-26</td>\n",
       "      <td>26789</td>\n",
       "    </tr>\n",
       "    <tr>\n",
       "      <th>4</th>\n",
       "      <td>SKU1</td>\n",
       "      <td>2017-03-05</td>\n",
       "      <td>41999</td>\n",
       "    </tr>\n",
       "  </tbody>\n",
       "</table>\n",
       "</div>"
      ],
      "text/plain": [
       "  Product       date  Sales\n",
       "0    SKU1 2017-02-05  27750\n",
       "1    SKU1 2017-02-12  29023\n",
       "2    SKU1 2017-02-19  45630\n",
       "3    SKU1 2017-02-26  26789\n",
       "4    SKU1 2017-03-05  41999"
      ]
     },
     "execution_count": 7,
     "metadata": {},
     "output_type": "execute_result"
    }
   ],
   "source": [
    "forecast = forecast[[\"Product\", \"date\", \"Sales\"]]\n",
    "forecast.head()"
   ]
  },
  {
   "cell_type": "code",
   "execution_count": 8,
   "id": "a98ccde2",
   "metadata": {},
   "outputs": [
    {
     "data": {
      "image/png": "[encoded data removed]",
      "text/plain": [
       "<Figure size 640x480 with 1 Axes>"
      ]
     },
     "metadata": {},
     "output_type": "display_data"
    }
   ],
   "source": [
    "forecast.plot()\n",
    "plt.show()"
   ]
  },
  {
   "cell_type": "code",
   "execution_count": 9,
   "id": "763dc7a2",
   "metadata": {},
   "outputs": [],
   "source": [
    "#seperate by product\n",
    "\n",
    "product1 = forecast[forecast[\"Product\"] == \"SKU1\"]\n",
    "product2 = forecast[forecast[\"Product\"] == \"SKU2\"]\n",
    "product3 = forecast[forecast[\"Product\"] == \"SKU3\"]\n",
    "product4 = forecast[forecast[\"Product\"] == \"SKU4\"]\n",
    "product5 = forecast[forecast[\"Product\"] == \"SKU5\"]\n",
    "product6 = forecast[forecast[\"Product\"] == \"SKU6\"]"
   ]
  },
  {
   "cell_type": "markdown",
   "id": "df1bdab1",
   "metadata": {},
   "source": [
    "I will focus on product 1 for simplicity for now"
   ]
  },
  {
   "cell_type": "code",
   "execution_count": 10,
   "id": "fe4dfeb9",
   "metadata": {},
   "outputs": [
    {
     "data": {
      "text/html": [
       "<div>\n",
       "<style scoped>\n",
       "    .dataframe tbody tr th:only-of-type {\n",
       "        vertical-align: middle;\n",
       "    }\n",
       "\n",
       "    .dataframe tbody tr th {\n",
       "        vertical-align: top;\n",
       "    }\n",
       "\n",
       "    .dataframe thead th {\n",
       "        text-align: right;\n",
       "    }\n",
       "</style>\n",
       "<table border=\"1\" class=\"dataframe\">\n",
       "  <thead>\n",
       "    <tr style=\"text-align: right;\">\n",
       "      <th></th>\n",
       "      <th>Product</th>\n",
       "      <th>date</th>\n",
       "      <th>Sales</th>\n",
       "    </tr>\n",
       "  </thead>\n",
       "  <tbody>\n",
       "    <tr>\n",
       "      <th>0</th>\n",
       "      <td>SKU1</td>\n",
       "      <td>2017-02-05</td>\n",
       "      <td>27750</td>\n",
       "    </tr>\n",
       "    <tr>\n",
       "      <th>1</th>\n",
       "      <td>SKU1</td>\n",
       "      <td>2017-02-12</td>\n",
       "      <td>29023</td>\n",
       "    </tr>\n",
       "    <tr>\n",
       "      <th>2</th>\n",
       "      <td>SKU1</td>\n",
       "      <td>2017-02-19</td>\n",
       "      <td>45630</td>\n",
       "    </tr>\n",
       "    <tr>\n",
       "      <th>3</th>\n",
       "      <td>SKU1</td>\n",
       "      <td>2017-02-26</td>\n",
       "      <td>26789</td>\n",
       "    </tr>\n",
       "    <tr>\n",
       "      <th>4</th>\n",
       "      <td>SKU1</td>\n",
       "      <td>2017-03-05</td>\n",
       "      <td>41999</td>\n",
       "    </tr>\n",
       "  </tbody>\n",
       "</table>\n",
       "</div>"
      ],
      "text/plain": [
       "  Product       date  Sales\n",
       "0    SKU1 2017-02-05  27750\n",
       "1    SKU1 2017-02-12  29023\n",
       "2    SKU1 2017-02-19  45630\n",
       "3    SKU1 2017-02-26  26789\n",
       "4    SKU1 2017-03-05  41999"
      ]
     },
     "execution_count": 10,
     "metadata": {},
     "output_type": "execute_result"
    }
   ],
   "source": [
    "product1.head()"
   ]
  },
  {
   "cell_type": "code",
   "execution_count": null,
   "id": "8efafebc",
   "metadata": {},
   "outputs": [],
   "source": []
  },
  {
   "cell_type": "markdown",
   "id": "d0b402ec",
   "metadata": {},
   "source": [
    "# Linear Regression\n",
    "\n",
    " This is my base model."
   ]
  },
  {
   "cell_type": "code",
   "execution_count": 23,
   "id": "471945a2",
   "metadata": {},
   "outputs": [
    {
     "name": "stdout",
     "output_type": "stream",
     "text": [
      "Mean Absolute Error: 1547278287089342208.000000\n",
      "Mean Squared Error: 2394074805208113664179167462942572544.000\n",
      "Root Mean Squared Error: 1547279808311384064.000\n"
     ]
    }
   ],
   "source": [
    "from sklearn.linear_model import LinearRegression\n",
    "#prod = product1.copy()\n",
    "X = product1[[\"Sales\"]]\n",
    "y = product1[\"date\"]\n",
    "\n",
    "X_train, X_test, y_train, y_test = train_test_split(X, y, train_size=0.66, random_state=42)\n",
    "\n",
    "# fit the model\n",
    "lr = LinearRegression()\n",
    "lr.fit(X_train, y_train)\n",
    "\n",
    "# predict on the same period\n",
    "preds = lr.predict(X_test)\n",
    "\n",
    "#Evaluations \n",
    "#mean squared error\n",
    "mse = mean_squared_error(X_test, preds)\n",
    "\n",
    "#root mean squared error\n",
    "rmse = np.sqrt(mse)\n",
    "\n",
    "#mean absolut Error \n",
    "mae = mean_absolute_error(X_test, preds)\n",
    "\n",
    "#Print \n",
    "print('Mean Absolute Error: %f' % mae)\n",
    "print(\"Mean Squared Error: %.3f\" % mse)\n",
    "print('Root Mean Squared Error: %.3f' % rmse)"
   ]
  },
  {
   "cell_type": "markdown",
   "id": "fb246aa7",
   "metadata": {},
   "source": [
    "# ARIMA"
   ]
  },
  {
   "cell_type": "markdown",
   "id": "ab395e89",
   "metadata": {},
   "source": [
    "## Stat test if it is stationary or not  using Augmented Dickey-Fuller Test"
   ]
  },
  {
   "cell_type": "code",
   "execution_count": null,
   "id": "bd50f028",
   "metadata": {},
   "outputs": [],
   "source": [
    "# ADF Test\n",
    "# Function to print out results in customised manner\n",
    "def adf_test(df):\n",
    "    \n",
    "    df.index = df['date']\n",
    "\n",
    "    # Check the data type\n",
    "    del df['date']\n",
    "    del df[\"Product\"]\n",
    "    # View the dataset\n",
    "    #df.head()\n",
    "    \n",
    "    timeseries = df[\"Sales\"]\n",
    "    \n",
    "    print ('Results of Dickey-Fuller Test:')\n",
    "    dftest = adfuller(timeseries, autolag='AIC')\n",
    "    dfoutput = pd.Series(dftest[0:4], index=['Test Statistic','p-value','#Lags Used','Number of Observations Used'])\n",
    "    for key,value in dftest[4].items():\n",
    "        dfoutput['Critical Value (%s)'%key] = value\n",
    "    print (dfoutput)"
   ]
  },
  {
   "cell_type": "code",
   "execution_count": null,
   "id": "0465ffe7",
   "metadata": {},
   "outputs": [],
   "source": [
    "#product 1\n",
    "adf_test(product1)"
   ]
  },
  {
   "cell_type": "code",
   "execution_count": null,
   "id": "cf71933a",
   "metadata": {},
   "outputs": [],
   "source": [
    "# Product 2\n",
    "adf_test(product2)"
   ]
  },
  {
   "cell_type": "code",
   "execution_count": null,
   "id": "893a80f0",
   "metadata": {},
   "outputs": [],
   "source": [
    "# Product 3\n",
    "adf_test(product3)"
   ]
  },
  {
   "cell_type": "code",
   "execution_count": null,
   "id": "1941a3ac",
   "metadata": {},
   "outputs": [],
   "source": [
    "# Product 4\n",
    "adf_test(product4)"
   ]
  },
  {
   "cell_type": "code",
   "execution_count": null,
   "id": "52446fb1",
   "metadata": {},
   "outputs": [],
   "source": [
    "# Product 5\n",
    "adf_test(product5)"
   ]
  },
  {
   "cell_type": "code",
   "execution_count": null,
   "id": "a3cbd86a",
   "metadata": {},
   "outputs": [],
   "source": [
    "# Product 6\n",
    "adf_test(product6)"
   ]
  },
  {
   "cell_type": "code",
   "execution_count": null,
   "id": "cfdbc44f",
   "metadata": {},
   "outputs": [],
   "source": []
  },
  {
   "cell_type": "markdown",
   "id": "97f1d6f6",
   "metadata": {},
   "source": [
    "## All of the products are stationary based on the Augmented Dickey-Fuller Test."
   ]
  },
  {
   "cell_type": "markdown",
   "id": "a06715d5",
   "metadata": {},
   "source": [
    "## ARIMA Model"
   ]
  },
  {
   "cell_type": "code",
   "execution_count": null,
   "id": "72798138",
   "metadata": {},
   "outputs": [],
   "source": [
    "#Train/test split\n",
    "#X = product1.values\n",
    "#size = int(len(X) * 0.60)\n",
    "#X_train, X_test = X[0:size], X[size:len(X)]\n",
    "X_train, X_test = train_test_split(product1.values, train_size=0.66, random_state=42)\n",
    "\n",
    "history = [x for x in X_train]\n",
    "predictions = list()\n",
    "\n",
    "\n",
    "# walk-forward validation\n",
    "for x in range(len(X_test)):\n",
    "    model = ARIMA(history, order=(5,1,0))\n",
    "    model_fit = model.fit()\n",
    "    output = model_fit.forecast()\n",
    "    yhat = output[0]\n",
    "    predictions.append(yhat)\n",
    "    obs = X_test[x]\n",
    "    history.append(obs)\n",
    "    print('predicted=%f, expected=%f' % (yhat, obs))\n"
   ]
  },
  {
   "cell_type": "code",
   "execution_count": null,
   "id": "d659f42c",
   "metadata": {},
   "outputs": [],
   "source": [
    "#predicted=995.744348, expected=0.000000\n",
    "#predicted=995.744348, expected=0.000000\n",
    "# evaluate forecasts\n",
    "\n",
    "#Forecast Error (or Residual Forecast Error)\n",
    "forecast_errors = [X_test[i]-predictions[i] for i in range(len(X_test))]\n",
    "\n",
    "#forecast bias\n",
    "bias =  np.mean(forecast_errors)\n",
    "\n",
    "#mean squared error\n",
    "mse = mean_squared_error(X_test, predictions)\n",
    "\n",
    "#root mean squared error\n",
    "rmse = np.sqrt(mse)\n",
    "\n",
    "#mean absolut Error \n",
    "mae = mean_absolute_error(X_test, predictions)\n",
    "\n",
    "#Print \n",
    "#print('Forecast Errors: %s' % forecast_errors)\n",
    "print('Forecasting Bias or Mean Forecast Error: %f' % bias)\n",
    "print('Mean Absolute Error: %f' % mae)\n",
    "print(\"Mean Squared Error: %.3f\" % mse)\n",
    "print('Root Mean Squared Error: %.3f' % rmse)"
   ]
  },
  {
   "cell_type": "markdown",
   "id": "be99fea1",
   "metadata": {},
   "source": [
    "Based on the <b>forecasting bias</b> the model is under forecasting. \n",
    "\n",
    "Based on the <b>Mean Absolute Error</b>, it is really high. The closer to 0 the better the model can be. \n",
    "\n",
    "The model has a high <b>Mean Squared Error</b>. A mean squared error of zero indicates perfect skill, or no error.\n",
    "\n",
    "The model has a high <b>Root Mean Squared Error</b>.As with the mean squared error, an RMSE of zero indicates no error."
   ]
  },
  {
   "cell_type": "code",
   "execution_count": null,
   "id": "bdedc02c",
   "metadata": {},
   "outputs": [],
   "source": [
    "\"\"\"from sklearn.model_selection import TimeSeriesSplit, GridSearchCV\n",
    "\n",
    "#param_grid = {history order=(5,1,0)}\n",
    "\n",
    "gsc = GridSearchCV(model, param_grid=(5,1,0), scoring='neg_mean_absolute_error', \n",
    "                   cv=TimeSeriesSplit(n_splits=2).split(X))\"\"\"\n",
    "\n",
    "\"\"\"\n",
    "gsc = GridSearchCV(model, param_grid=parameters, scoring='neg_mean_absolute_error', \n",
    "                   cv=TimeSeriesSplit(n_splits=2).split(X))\n",
    "\"\"\""
   ]
  },
  {
   "cell_type": "code",
   "execution_count": null,
   "id": "2b5fd1dc",
   "metadata": {},
   "outputs": [],
   "source": [
    "print(model_fit.summary())"
   ]
  },
  {
   "cell_type": "code",
   "execution_count": null,
   "id": "5f40e123",
   "metadata": {},
   "outputs": [],
   "source": [
    "\n",
    "# plot forecasts against actual outcomes\n",
    "plt.plot(X_test)\n",
    "plt.plot(predictions, color='red')\n",
    "plt.show()"
   ]
  },
  {
   "cell_type": "markdown",
   "id": "f3048008",
   "metadata": {},
   "source": [
    "# ARMA"
   ]
  },
  {
   "cell_type": "code",
   "execution_count": null,
   "id": "3767f367",
   "metadata": {},
   "outputs": [],
   "source": []
  },
  {
   "cell_type": "code",
   "execution_count": null,
   "id": "93825079",
   "metadata": {},
   "outputs": [],
   "source": []
  },
  {
   "cell_type": "code",
   "execution_count": null,
   "id": "e4658feb",
   "metadata": {},
   "outputs": [],
   "source": []
  },
  {
   "cell_type": "markdown",
   "id": "a4fa6fcf",
   "metadata": {},
   "source": [
    "# Autoregression (AR)"
   ]
  },
  {
   "cell_type": "code",
   "execution_count": null,
   "id": "ac1809e6",
   "metadata": {},
   "outputs": [],
   "source": []
  },
  {
   "cell_type": "code",
   "execution_count": null,
   "id": "6d26275a",
   "metadata": {},
   "outputs": [],
   "source": []
  },
  {
   "cell_type": "markdown",
   "id": "53f979db",
   "metadata": {},
   "source": [
    "# Moving Average (MA)"
   ]
  },
  {
   "cell_type": "markdown",
   "id": "733f28af",
   "metadata": {},
   "source": [
    "# Seasonal Autoregressive Integrated Moving-Average (SARIMA)"
   ]
  },
  {
   "cell_type": "code",
   "execution_count": null,
   "id": "7f2904e0",
   "metadata": {},
   "outputs": [],
   "source": []
  },
  {
   "cell_type": "code",
   "execution_count": null,
   "id": "322b5ae3",
   "metadata": {},
   "outputs": [],
   "source": []
  }
 ],
 "metadata": {
  "kernelspec": {
   "display_name": "Python 3 (ipykernel)",
   "language": "python",
   "name": "python3"
  },
  "language_info": {
   "codemirror_mode": {
    "name": "ipython",
    "version": 3
   },
   "file_extension": ".py",
   "mimetype": "text/x-python",
   "name": "python",
   "nbconvert_exporter": "python",
   "pygments_lexer": "ipython3",
   "version": "3.9.17"
  }
 },
 "nbformat": 4,
 "nbformat_minor": 5
}
