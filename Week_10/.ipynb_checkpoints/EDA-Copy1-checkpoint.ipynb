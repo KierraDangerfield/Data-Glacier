{
 "cells": [
  {
   "cell_type": "markdown",
   "id": "3e8c0360",
   "metadata": {},
   "source": [
    "# Retail Forecasting\n",
    "\n",
    "\n",
    "\n",
    "## Problem Statement:\n",
    "\n",
    "The large company who is into beverages business in Australia. They sell their products through various super-markets and also engage into heavy promotions throughout the year. Their demand is also influenced by various factors like holiday, seasonality. They needed forecast of each of products at item level every week in weekly buckets. "
   ]
  },
  {
   "cell_type": "code",
   "execution_count": null,
   "id": "af35d0b3",
   "metadata": {},
   "outputs": [],
   "source": [
    "#import data \n",
    "import pandas as pd\n",
    "import numpy as np\n",
    "import seaborn as sns\n",
    "import matplotlib.pyplot as plt\n",
    "import datetime"
   ]
  },
  {
   "cell_type": "code",
   "execution_count": null,
   "id": "72b503f4",
   "metadata": {},
   "outputs": [],
   "source": [
    "forecast = pd.read_csv('./Data/newForecast.csv')\n",
    "forecast.head(3)"
   ]
  },
  {
   "cell_type": "code",
   "execution_count": null,
   "id": "e837b740",
   "metadata": {},
   "outputs": [],
   "source": [
    "forecast.info()"
   ]
  },
  {
   "cell_type": "code",
   "execution_count": null,
   "id": "1c6f96a1",
   "metadata": {},
   "outputs": [],
   "source": [
    "forecast['date'] = pd.to_datetime(forecast['date'])"
   ]
  },
  {
   "cell_type": "code",
   "execution_count": null,
   "id": "e27bf275",
   "metadata": {},
   "outputs": [],
   "source": [
    "forecast.info()"
   ]
  },
  {
   "cell_type": "code",
   "execution_count": null,
   "id": "2c0b45c2",
   "metadata": {},
   "outputs": [],
   "source": [
    "forecast.drop('Unnamed: 0', axis=1, inplace=True)"
   ]
  },
  {
   "cell_type": "code",
   "execution_count": null,
   "id": "3c5b76e2",
   "metadata": {},
   "outputs": [],
   "source": [
    "forecast.head(3)"
   ]
  },
  {
   "cell_type": "markdown",
   "id": "9a799181",
   "metadata": {},
   "source": [
    "# Add Year"
   ]
  },
  {
   "cell_type": "code",
   "execution_count": null,
   "id": "f32491d1",
   "metadata": {},
   "outputs": [],
   "source": [
    "forecast['Year'] = forecast['date'].dt.year\n",
    "forecast.head()"
   ]
  },
  {
   "cell_type": "markdown",
   "id": "ee2b4c14",
   "metadata": {},
   "source": [
    "# Add Month"
   ]
  },
  {
   "cell_type": "code",
   "execution_count": null,
   "id": "a79d1030",
   "metadata": {},
   "outputs": [],
   "source": [
    "forecast['Month'] = forecast['date'].dt.month\n",
    "forecast.head()"
   ]
  },
  {
   "cell_type": "markdown",
   "id": "35318f81",
   "metadata": {},
   "source": [
    "# EDA"
   ]
  },
  {
   "cell_type": "code",
   "execution_count": null,
   "id": "61f8beda",
   "metadata": {},
   "outputs": [],
   "source": [
    "#set color \n",
    "\n",
    "color = sns.color_palette(\"Purples_r\", 10)\n",
    "palette = \"Purples\"\n",
    "#BuPu\n",
    "#palette_tab = cubehelix_palette()"
   ]
  },
  {
   "cell_type": "code",
   "execution_count": null,
   "id": "ba9b5e25",
   "metadata": {},
   "outputs": [],
   "source": [
    "sns.palplot(color)"
   ]
  },
  {
   "cell_type": "markdown",
   "id": "e112f8d8",
   "metadata": {},
   "source": [
    "## Bar plot of products count"
   ]
  },
  {
   "cell_type": "code",
   "execution_count": null,
   "id": "6b6c4b03",
   "metadata": {},
   "outputs": [],
   "source": [
    "fig, ax = plt.subplots(figsize=(15,5))\n",
    "plt.xticks(rotation = 45)\n",
    "\n",
    "plt.title(\"Each Product Count\")\n",
    "\n",
    "sns.countplot(data=forecast, x=\"Product\", palette=color)\n",
    "\n",
    "for container in ax.containers:\n",
    "    ax.bar_label(container)"
   ]
  },
  {
   "cell_type": "markdown",
   "id": "ac5abeb1",
   "metadata": {},
   "source": [
    "Product 6 has slightly less amount of products sold."
   ]
  },
  {
   "cell_type": "markdown",
   "id": "fdba7062",
   "metadata": {},
   "source": [
    "## Sales amount of each product "
   ]
  },
  {
   "cell_type": "code",
   "execution_count": null,
   "id": "f3c826cd",
   "metadata": {},
   "outputs": [],
   "source": [
    "ts = forecast.groupby([\"Product\"])[\"Sales\"].apply(lambda x : x.astype(int).sum())\n",
    "ts = ts.to_frame()\n",
    "ts.reset_index(inplace=True)\n",
    "ts = ts.sort_values('Sales', ascending=False)\n",
    "ts.head()"
   ]
  },
  {
   "cell_type": "code",
   "execution_count": null,
   "id": "6449a48d",
   "metadata": {},
   "outputs": [],
   "source": [
    "fig, ax = plt.subplots(figsize=(20,5))\n",
    "plt.xticks(rotation = 45)\n",
    "\n",
    "plt.title(\"Total Sales of Each Product Sales\")\n",
    "\n",
    "sns.barplot(data=ts, x=\"Product\", y=\"Sales\", palette=palette)\n",
    "\n",
    "for container in ax.containers:\n",
    "    ax.bar_label(container)"
   ]
  },
  {
   "cell_type": "markdown",
   "id": "b6f4ed7f",
   "metadata": {},
   "source": [
    "## Change overtime of all sales"
   ]
  },
  {
   "cell_type": "code",
   "execution_count": null,
   "id": "b958f26a",
   "metadata": {},
   "outputs": [],
   "source": [
    "fig, ax = plt.subplots(figsize=(15,5))\n",
    "plt.xticks(rotation = 45)\n",
    "\n",
    "plt.title(\"Change overtime of all sales\")\n",
    "\n",
    "sns.lineplot(data=forecast, x=\"date\", y=\"Sales\", color=color[5])"
   ]
  },
  {
   "cell_type": "markdown",
   "id": "7d58e06f",
   "metadata": {},
   "source": [
    "## Sales Based on Product"
   ]
  },
  {
   "cell_type": "code",
   "execution_count": null,
   "id": "3f9b8ca4",
   "metadata": {},
   "outputs": [],
   "source": [
    "fig, ax = plt.subplots(figsize=(15,5))\n",
    "plt.xticks(rotation = 45)\n",
    "\n",
    "plt.title(\"Sales Based on Product\")\n",
    "\n",
    "sns.lineplot(data=forecast, x=\"date\", y=\"Sales\", hue=\"Product\", palette=palette)"
   ]
  },
  {
   "cell_type": "markdown",
   "id": "f9a0038e",
   "metadata": {},
   "source": [
    "## Sales Based on Product over time"
   ]
  },
  {
   "cell_type": "code",
   "execution_count": null,
   "id": "47a237b9",
   "metadata": {},
   "outputs": [],
   "source": [
    "fig, axs = plt.subplots(3, 2, figsize=(20, 20))\n",
    "\n",
    "#Product 1\n",
    "sns.lineplot(data=forecast[forecast[\"Product\"] == \"SKU1\"], x=\"date\", y = \"Sales\", \n",
    "             color=color[0], ax=axs[0, 0]).set(title=\"Product 1\")\n",
    "#Product 2\n",
    "sns.lineplot(data=forecast[forecast[\"Product\"] == \"SKU2\"], x=\"date\", y = \"Sales\", \n",
    "             color=color[1], ax=axs[0, 1]).set(title=\"Product 2\")\n",
    "\n",
    "#Product 3\n",
    "sns.lineplot(data=forecast[forecast[\"Product\"] == \"SKU3\"], x=\"date\", y = \"Sales\", \n",
    "             color=color[2], ax=axs[1, 0]).set(title=\"Product 3\")\n",
    "#Product 4\n",
    "sns.lineplot(data=forecast[forecast[\"Product\"] == \"SKU4\"], x=\"date\", y = \"Sales\", \n",
    "             color=color[3], ax=axs[1, 1]).set(title=\"Product 4\")\n",
    "\n",
    "#Product 5\n",
    "sns.lineplot(data=forecast[forecast[\"Product\"] == \"SKU5\"], x=\"date\", y = \"Sales\", \n",
    "             color=color[4], ax=axs[2, 0]).set(title=\"Product 5\")\n",
    "#Product 6\n",
    "sns.lineplot(data=forecast[forecast[\"Product\"] == \"SKU6\"], x=\"date\", y = \"Sales\", \n",
    "             color=color[5], ax=axs[2, 1]).set(title=\"Product 6\")\n"
   ]
  },
  {
   "cell_type": "markdown",
   "id": "a9db8234",
   "metadata": {},
   "source": [
    "## Distributions of monlthy sales over time"
   ]
  },
  {
   "cell_type": "code",
   "execution_count": null,
   "id": "e88de769",
   "metadata": {},
   "outputs": [],
   "source": [
    "fig, ax = plt.subplots(figsize=(20,5))\n",
    "plt.xticks(rotation = 45)\n",
    "\n",
    "plt.title(\"Distributions of Monthly Sales Over Time\")\n",
    "\n",
    "year_month_sales = forecast.groupby([\"Year\", \"Month\"])[\"Sales\"].apply(lambda x : x.astype(int).sum())\n",
    "\n",
    "year_month_sales.plot(kind=\"bar\", color=color[5])"
   ]
  },
  {
   "cell_type": "code",
   "execution_count": null,
   "id": "60aafc2f",
   "metadata": {},
   "outputs": [],
   "source": [
    "fig, ax = plt.subplots(figsize=(20,5))\n",
    "plt.xticks(rotation = 45)\n",
    "\n",
    "plt.title(\"Distributions of Monthly Sales Over Time\")\n",
    "\n",
    "year_month_sales.plot(kind=\"line\", color=color[5])"
   ]
  },
  {
   "cell_type": "markdown",
   "id": "da1beea4",
   "metadata": {},
   "source": [
    "## Distributions of Monthly Sales Over Time Based On Product"
   ]
  },
  {
   "cell_type": "code",
   "execution_count": null,
   "id": "b7bed4ca",
   "metadata": {},
   "outputs": [],
   "source": [
    "mps = forecast.groupby([\"Year\", \"Month\", \"Product\"])[\"Sales\"].apply(lambda x : x.astype(int).sum())\n",
    "\n",
    "mps = mps.to_frame()\n",
    "mps.reset_index(inplace=True)\n",
    "mps.head()"
   ]
  },
  {
   "cell_type": "code",
   "execution_count": null,
   "id": "fa7a28b8",
   "metadata": {},
   "outputs": [],
   "source": [
    "fig, ax = plt.subplots(figsize=(20,5))\n",
    "plt.xticks(rotation = 45)\n",
    "\n",
    "plt.title(\"Distributions of Monthly Sales Over Time Based On Product\")\n",
    "sns.lineplot(data = mps, x=\"Month\", y=\"Sales\", hue=\"Product\", palette=palette)"
   ]
  },
  {
   "cell_type": "code",
   "execution_count": null,
   "id": "0789ded9",
   "metadata": {},
   "outputs": [],
   "source": [
    "fig, ax = plt.subplots(figsize=(20,5))\n",
    "plt.xticks(rotation = 45)\n",
    "\n",
    "plt.title(\"Distributions of Monthly Sales Over Time Based On Product\")\n",
    "sns.barplot(data = mps, x=\"Month\", y=\"Sales\", hue=\"Product\", palette=palette)"
   ]
  },
  {
   "cell_type": "markdown",
   "id": "d2185299",
   "metadata": {},
   "source": [
    "## Distributions of Quarter Sales Over Time"
   ]
  },
  {
   "cell_type": "code",
   "execution_count": null,
   "id": "7f3b2f96",
   "metadata": {},
   "outputs": [],
   "source": [
    "fig, ax = plt.subplots(figsize=(20,5))\n",
    "plt.xticks(rotation = 45)\n",
    "\n",
    "plt.title(\"Distributions of Quarter Sales Over Time\")\n",
    "\n",
    "year_quarter_sales = forecast.groupby([\"Year\", \"Quarter\"])[\"Sales\"].apply(lambda x : x.astype(int).sum())\n",
    "\n",
    "year_quarter_sales.plot(kind=\"bar\", color=color[5])\n"
   ]
  },
  {
   "cell_type": "code",
   "execution_count": null,
   "id": "5ee7edce",
   "metadata": {},
   "outputs": [],
   "source": [
    "fig, ax = plt.subplots(figsize=(20,5))\n",
    "plt.xticks(rotation = 45)\n",
    "\n",
    "plt.title(\"Distributions of Quarter Sales Over Time\")\n",
    "\n",
    "year_quarter_sales.plot(kind=\"line\", color=color[5])\n"
   ]
  },
  {
   "cell_type": "markdown",
   "id": "036021af",
   "metadata": {},
   "source": [
    "## Distributions of Quarter Sales Over Time Based On Product"
   ]
  },
  {
   "cell_type": "code",
   "execution_count": null,
   "id": "64005697",
   "metadata": {},
   "outputs": [],
   "source": [
    "qtr_prod_sales = forecast.groupby([\"Year\", \"Quarter\", \"Product\"])[\"Sales\"].apply(\n",
    "    lambda x : x.astype(int).sum())\n",
    "\n",
    "qtr_prod_sales = qtr_prod_sales.to_frame()\n",
    "qtr_prod_sales.reset_index(inplace=True)\n",
    "qtr_prod_sales.head()"
   ]
  },
  {
   "cell_type": "code",
   "execution_count": null,
   "id": "99fd5068",
   "metadata": {},
   "outputs": [],
   "source": [
    "fig, ax = plt.subplots(figsize=(20,5))\n",
    "plt.xticks(rotation = 45)\n",
    "\n",
    "plt.title(\"Distributions of Quarter Sales Over Time Based On Product\")\n",
    "sns.lineplot(data = qtr_prod_sales, x=\"Quarter\", y=\"Sales\", hue=\"Product\", palette=palette)"
   ]
  },
  {
   "cell_type": "code",
   "execution_count": null,
   "id": "5493c13d",
   "metadata": {},
   "outputs": [],
   "source": [
    "fig, ax = plt.subplots(figsize=(20,5))\n",
    "plt.xticks(rotation = 45)\n",
    "\n",
    "plt.title(\"Distributions of Quarter Sales Over Time Based On Product\")\n",
    "sns.barplot(data = qtr_prod_sales, x=\"Quarter\", y=\"Sales\", hue=\"Product\", palette=palette)\n"
   ]
  },
  {
   "cell_type": "markdown",
   "id": "932ed604",
   "metadata": {},
   "source": [
    "## Average Quarter Sales over time"
   ]
  },
  {
   "cell_type": "code",
   "execution_count": null,
   "id": "54dca334",
   "metadata": {},
   "outputs": [],
   "source": [
    "avgqtr = forecast.groupby([\"Year\", \"Quarter\"])[\"Sales\"].mean()\n",
    "#avgqtr = forecast.groupby(pd.PeriodIndex(forecast['date'], freq=\"M\"))['Sales'].mean()\n",
    "avgqtr = avgqtr.to_frame()\n",
    "avgqtr.reset_index(inplace=True)\n",
    "\n",
    "avgqtr[\"Sales\"] = avgqtr[\"Sales\"].apply(lambda x: round(x, 2)) \n",
    "\n",
    "avgqtr.head()"
   ]
  },
  {
   "cell_type": "code",
   "execution_count": null,
   "id": "b0404c9b",
   "metadata": {},
   "outputs": [],
   "source": [
    "avgqtr['date'] = avgqtr['Year'].astype(str) +\"-\"+ avgqtr['Quarter'].astype(str)\n",
    "avgqtr.head()"
   ]
  },
  {
   "cell_type": "code",
   "execution_count": null,
   "id": "5dfcee97",
   "metadata": {},
   "outputs": [],
   "source": [
    "fig, ax = plt.subplots(figsize=(20,5))\n",
    "plt.xticks(rotation = 45)\n",
    "\n",
    "plt.title(\"Average Quarter Sales Over Time\")\n",
    "\n",
    "sns.lineplot(data = avgqtr, x=\"date\", y=\"Sales\", color=color[5])"
   ]
  },
  {
   "cell_type": "code",
   "execution_count": null,
   "id": "a0d1dd1d",
   "metadata": {},
   "outputs": [],
   "source": [
    "fig, ax = plt.subplots(figsize=(20,5))\n",
    "plt.xticks(rotation = 45)\n",
    "\n",
    "plt.title(\"Average Quarter Sales Over Time\")\n",
    "\n",
    "sns.barplot(data = avgqtr, x=\"date\", y=\"Sales\", palette=palette)"
   ]
  },
  {
   "cell_type": "markdown",
   "id": "67df05d5",
   "metadata": {},
   "source": [
    "## Average Quarter Sales per Product over time"
   ]
  },
  {
   "cell_type": "code",
   "execution_count": null,
   "id": "02d6072a",
   "metadata": {},
   "outputs": [],
   "source": [
    "avgqtr_prod = forecast.groupby([\"Year\", \"Quarter\", \"Product\"])[\"Sales\"].mean()\n",
    "avgqtr_prod = avgqtr_prod.to_frame()\n",
    "avgqtr_prod.reset_index(inplace=True)\n",
    "\n",
    "avgqtr_prod[\"Sales\"] = avgqtr_prod[\"Sales\"].apply(lambda x: round(x, 2)) \n",
    "avgqtr_prod['date'] = avgqtr_prod['Year'].astype(str) +\"-\"+ avgqtr_prod['Quarter'].astype(str)\n",
    "\n",
    "avgqtr_prod.head()"
   ]
  },
  {
   "cell_type": "code",
   "execution_count": null,
   "id": "51855f7f",
   "metadata": {},
   "outputs": [],
   "source": [
    "fig, ax = plt.subplots(figsize=(20,5))\n",
    "plt.xticks(rotation = 45)\n",
    "\n",
    "plt.title(\"Average Quarter Sales Over Time by Product\")\n",
    "\n",
    "sns.lineplot(data = avgqtr_prod, x=\"date\", y=\"Sales\", hue=\"Product\", palette=palette)"
   ]
  },
  {
   "cell_type": "code",
   "execution_count": null,
   "id": "748f5cbf",
   "metadata": {},
   "outputs": [],
   "source": [
    "fig, ax = plt.subplots(figsize=(20,5))\n",
    "plt.xticks(rotation = 45)\n",
    "\n",
    "plt.title(\"Average Quarter Sales Over Time by Product\")\n",
    "\n",
    "sns.barplot(data = avgqtr_prod, x=\"date\", y=\"Sales\", hue=\"Product\", palette=palette)"
   ]
  },
  {
   "cell_type": "markdown",
   "id": "e3252a8c",
   "metadata": {},
   "source": [
    "# Average Monthly Sales Over Time"
   ]
  },
  {
   "cell_type": "code",
   "execution_count": null,
   "id": "8eefbd18",
   "metadata": {},
   "outputs": [],
   "source": [
    "avgmth = forecast.groupby([\"Year\", \"Month\"])[\"Sales\"].mean()\n",
    "avgmth = avgmth.to_frame()\n",
    "avgmth.reset_index(inplace=True)\n",
    "\n",
    "avgmth[\"Sales\"] = avgmth[\"Sales\"].apply(lambda x: round(x, 2)) \n",
    "avgmth['date'] = avgmth['Year'].astype(str) +\"-\"+ avgmth['Month'].astype(str)\n",
    "\n",
    "avgmth.head()"
   ]
  },
  {
   "cell_type": "code",
   "execution_count": null,
   "id": "332b7212",
   "metadata": {},
   "outputs": [],
   "source": [
    "fig, ax = plt.subplots(figsize=(20,5))\n",
    "plt.xticks(rotation = 45)\n",
    "\n",
    "plt.title(\"Average Monthly Sales Over Time by Product\")\n",
    "\n",
    "sns.lineplot(data = avgqtr_prod, x=\"date\", y=\"Sales\", palette=palette)"
   ]
  },
  {
   "cell_type": "code",
   "execution_count": null,
   "id": "396cfa9d",
   "metadata": {},
   "outputs": [],
   "source": [
    "fig, ax = plt.subplots(figsize=(20,5))\n",
    "plt.xticks(rotation = 45)\n",
    "\n",
    "plt.title(\"Average Monthly Sales Over Time by Product\")\n",
    "\n",
    "sns.barplot(data = avgqtr_prod, x=\"date\", y=\"Sales\", palette=palette)"
   ]
  },
  {
   "cell_type": "markdown",
   "id": "8b42efe6",
   "metadata": {},
   "source": [
    "## Average Monthly Sales Over Time by Product"
   ]
  },
  {
   "cell_type": "code",
   "execution_count": null,
   "id": "c3f6a7b8",
   "metadata": {},
   "outputs": [],
   "source": [
    "avgmth_prod = forecast.groupby([\"Year\", \"Month\", \"Product\"])[\"Sales\"].mean()\n",
    "#avgqtr = forecast.groupby(pd.PeriodIndex(forecast['date'], freq=\"M\"))['Sales'].mean()\n",
    "avgmth_prod = avgmth_prod.to_frame()\n",
    "avgmth_prod.reset_index(inplace=True)\n",
    "\n",
    "avgmth_prod[\"Sales\"] = avgmth_prod[\"Sales\"].apply(lambda x: round(x, 2)) \n",
    "avgmth_prod['date'] = avgmth_prod['Year'].astype(str) +\"-\"+ avgmth_prod['Month'].astype(str)\n",
    "\n",
    "avgmth_prod.head()"
   ]
  },
  {
   "cell_type": "code",
   "execution_count": null,
   "id": "2950f5ea",
   "metadata": {},
   "outputs": [],
   "source": [
    "fig, ax = plt.subplots(figsize=(20,5))\n",
    "plt.xticks(rotation = 45)\n",
    "\n",
    "plt.title(\"Average Monthly Sales Over Time by Product\")\n",
    "\n",
    "sns.lineplot(data = avgqtr_prod, x=\"date\", y=\"Sales\", hue=\"Product\", palette=palette)"
   ]
  },
  {
   "cell_type": "code",
   "execution_count": null,
   "id": "d8d8650d",
   "metadata": {},
   "outputs": [],
   "source": [
    "fig, ax = plt.subplots(figsize=(20,5))\n",
    "plt.xticks(rotation = 45)\n",
    "\n",
    "plt.title(\"Average Monthly Sales Over Time by Product\")\n",
    "\n",
    "sns.barplot(data = avgqtr_prod, x=\"date\", y=\"Sales\", hue=\"Product\", palette=palette)"
   ]
  },
  {
   "cell_type": "markdown",
   "id": "f33d46ad",
   "metadata": {},
   "source": [
    "## Heatmap"
   ]
  },
  {
   "cell_type": "code",
   "execution_count": null,
   "id": "88ef1c42",
   "metadata": {},
   "outputs": [],
   "source": []
  },
  {
   "cell_type": "markdown",
   "id": "5450865e",
   "metadata": {},
   "source": [
    "## Profile Report"
   ]
  },
  {
   "cell_type": "code",
   "execution_count": null,
   "id": "212bd45e",
   "metadata": {},
   "outputs": [],
   "source": [
    "#!pip uninstall -y pandas-profiling"
   ]
  },
  {
   "cell_type": "code",
   "execution_count": null,
   "id": "628cdd96",
   "metadata": {},
   "outputs": [],
   "source": [
    "#pip install pandas-profiling"
   ]
  },
  {
   "cell_type": "code",
   "execution_count": null,
   "id": "6ba72e26",
   "metadata": {},
   "outputs": [],
   "source": [
    "from pandas_profiling import ProfileReport\n",
    "\n",
    "#import pandas_profiling as pp"
   ]
  },
  {
   "cell_type": "code",
   "execution_count": null,
   "id": "72f621ee",
   "metadata": {},
   "outputs": [],
   "source": [
    "from pandas_profiling import ProfileReport\n",
    "\n",
    "profile = ProfileReport(forecast, tsmode=True, sortby=\"date\")\n",
    "profile.to_file('profile_report.html')"
   ]
  },
  {
   "cell_type": "code",
   "execution_count": null,
   "id": "e3cd9631",
   "metadata": {},
   "outputs": [],
   "source": []
  }
 ],
 "metadata": {
  "kernelspec": {
   "display_name": "Python 3 (ipykernel)",
   "language": "python",
   "name": "python3"
  },
  "language_info": {
   "codemirror_mode": {
    "name": "ipython",
    "version": 3
   },
   "file_extension": ".py",
   "mimetype": "text/x-python",
   "name": "python",
   "nbconvert_exporter": "python",
   "pygments_lexer": "ipython3",
   "version": "3.9.7"
  }
 },
 "nbformat": 4,
 "nbformat_minor": 5
}
