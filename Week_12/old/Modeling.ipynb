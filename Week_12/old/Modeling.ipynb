{
 "cells": [
  {
   "cell_type": "markdown",
   "id": "d3a14674",
   "metadata": {},
   "source": [
    "# Retail Forecasting\n",
    "\n",
    "## Problem Statement:\n",
    "The large company who is into beverages business in Australia. They sell their products through various super-markets and also engage into heavy promotions throughout the year. Their demand is also influenced by various factors like holiday, seasonality. They needed forecast of each of products at item level every week in weekly buckets."
   ]
  },
  {
   "cell_type": "code",
   "execution_count": 47,
   "id": "3bd1d01e",
   "metadata": {},
   "outputs": [],
   "source": [
    "import numpy as np\n",
    "import pandas as pd\n",
    "import datetime\n",
    "from statsmodels.tsa.arima.model import ARIMA\n",
    "from statsmodels.tsa.statespace.sarimax import SARIMAX\n",
    "from matplotlib import pyplot as plt\n",
    "import statsmodels.api as sm\n",
    "from statsmodels.tsa.stattools import adfuller\n",
    "from sklearn.metrics import mean_squared_error, mean_absolute_error, mean_absolute_percentage_error\n",
    "from sklearn.model_selection import train_test_split\n",
    "from sklearn.linear_model import LinearRegression\n",
    "from sklearn.ensemble import RandomForestRegressor"
   ]
  },
  {
   "cell_type": "code",
   "execution_count": 48,
   "id": "ce97fcc8",
   "metadata": {},
   "outputs": [
    {
     "data": {
      "text/html": [
       "<div>\n",
       "<style scoped>\n",
       "    .dataframe tbody tr th:only-of-type {\n",
       "        vertical-align: middle;\n",
       "    }\n",
       "\n",
       "    .dataframe tbody tr th {\n",
       "        vertical-align: top;\n",
       "    }\n",
       "\n",
       "    .dataframe thead th {\n",
       "        text-align: right;\n",
       "    }\n",
       "</style>\n",
       "<table border=\"1\" class=\"dataframe\">\n",
       "  <thead>\n",
       "    <tr style=\"text-align: right;\">\n",
       "      <th></th>\n",
       "      <th>Unnamed: 0</th>\n",
       "      <th>Product</th>\n",
       "      <th>date</th>\n",
       "      <th>Sales</th>\n",
       "      <th>Discount</th>\n",
       "      <th>In-Store Promo</th>\n",
       "      <th>Catalogue Promo</th>\n",
       "      <th>Store End Promo</th>\n",
       "      <th>Google_Mobility</th>\n",
       "      <th>Covid_Flag</th>\n",
       "      <th>V_DAY</th>\n",
       "      <th>EASTER</th>\n",
       "      <th>CHRISTMAS</th>\n",
       "      <th>DayOfWeek</th>\n",
       "      <th>Quarter</th>\n",
       "      <th>WeekNum</th>\n",
       "    </tr>\n",
       "  </thead>\n",
       "  <tbody>\n",
       "    <tr>\n",
       "      <th>0</th>\n",
       "      <td>0</td>\n",
       "      <td>SKU1</td>\n",
       "      <td>2017-02-05</td>\n",
       "      <td>27750</td>\n",
       "      <td>0.00</td>\n",
       "      <td>0</td>\n",
       "      <td>0</td>\n",
       "      <td>0</td>\n",
       "      <td>0.0</td>\n",
       "      <td>0</td>\n",
       "      <td>0</td>\n",
       "      <td>0</td>\n",
       "      <td>0</td>\n",
       "      <td>Sunday</td>\n",
       "      <td>1</td>\n",
       "      <td>5</td>\n",
       "    </tr>\n",
       "    <tr>\n",
       "      <th>1</th>\n",
       "      <td>1</td>\n",
       "      <td>SKU1</td>\n",
       "      <td>2017-02-12</td>\n",
       "      <td>29023</td>\n",
       "      <td>0.00</td>\n",
       "      <td>1</td>\n",
       "      <td>0</td>\n",
       "      <td>1</td>\n",
       "      <td>0.0</td>\n",
       "      <td>0</td>\n",
       "      <td>1</td>\n",
       "      <td>0</td>\n",
       "      <td>0</td>\n",
       "      <td>Sunday</td>\n",
       "      <td>1</td>\n",
       "      <td>6</td>\n",
       "    </tr>\n",
       "    <tr>\n",
       "      <th>2</th>\n",
       "      <td>2</td>\n",
       "      <td>SKU1</td>\n",
       "      <td>2017-02-19</td>\n",
       "      <td>45630</td>\n",
       "      <td>0.17</td>\n",
       "      <td>0</td>\n",
       "      <td>0</td>\n",
       "      <td>0</td>\n",
       "      <td>0.0</td>\n",
       "      <td>0</td>\n",
       "      <td>0</td>\n",
       "      <td>0</td>\n",
       "      <td>0</td>\n",
       "      <td>Sunday</td>\n",
       "      <td>1</td>\n",
       "      <td>7</td>\n",
       "    </tr>\n",
       "  </tbody>\n",
       "</table>\n",
       "</div>"
      ],
      "text/plain": [
       "   Unnamed: 0 Product        date  Sales  Discount  In-Store Promo  \\\n",
       "0           0    SKU1  2017-02-05  27750      0.00               0   \n",
       "1           1    SKU1  2017-02-12  29023      0.00               1   \n",
       "2           2    SKU1  2017-02-19  45630      0.17               0   \n",
       "\n",
       "   Catalogue Promo  Store End Promo  Google_Mobility  Covid_Flag  V_DAY  \\\n",
       "0                0                0              0.0           0      0   \n",
       "1                0                1              0.0           0      1   \n",
       "2                0                0              0.0           0      0   \n",
       "\n",
       "   EASTER  CHRISTMAS DayOfWeek  Quarter  WeekNum  \n",
       "0       0          0    Sunday        1        5  \n",
       "1       0          0    Sunday        1        6  \n",
       "2       0          0    Sunday        1        7  "
      ]
     },
     "execution_count": 48,
     "metadata": {},
     "output_type": "execute_result"
    }
   ],
   "source": [
    "forecast = pd.read_csv('./Data/newForecast.csv')\n",
    "forecast.head(3)"
   ]
  },
  {
   "cell_type": "code",
   "execution_count": 49,
   "id": "17a3070f",
   "metadata": {},
   "outputs": [],
   "source": [
    "forecast['date'] = pd.to_datetime(forecast['date'])"
   ]
  },
  {
   "cell_type": "code",
   "execution_count": 50,
   "id": "3100b5d2",
   "metadata": {},
   "outputs": [
    {
     "data": {
      "text/html": [
       "<div>\n",
       "<style scoped>\n",
       "    .dataframe tbody tr th:only-of-type {\n",
       "        vertical-align: middle;\n",
       "    }\n",
       "\n",
       "    .dataframe tbody tr th {\n",
       "        vertical-align: top;\n",
       "    }\n",
       "\n",
       "    .dataframe thead th {\n",
       "        text-align: right;\n",
       "    }\n",
       "</style>\n",
       "<table border=\"1\" class=\"dataframe\">\n",
       "  <thead>\n",
       "    <tr style=\"text-align: right;\">\n",
       "      <th></th>\n",
       "      <th>Product</th>\n",
       "      <th>date</th>\n",
       "      <th>Sales</th>\n",
       "      <th>Discount</th>\n",
       "      <th>In-Store Promo</th>\n",
       "      <th>Catalogue Promo</th>\n",
       "      <th>Store End Promo</th>\n",
       "      <th>Google_Mobility</th>\n",
       "      <th>Covid_Flag</th>\n",
       "      <th>V_DAY</th>\n",
       "      <th>EASTER</th>\n",
       "      <th>CHRISTMAS</th>\n",
       "      <th>DayOfWeek</th>\n",
       "      <th>Quarter</th>\n",
       "      <th>WeekNum</th>\n",
       "    </tr>\n",
       "  </thead>\n",
       "  <tbody>\n",
       "    <tr>\n",
       "      <th>0</th>\n",
       "      <td>SKU1</td>\n",
       "      <td>2017-02-05</td>\n",
       "      <td>27750</td>\n",
       "      <td>0.00</td>\n",
       "      <td>0</td>\n",
       "      <td>0</td>\n",
       "      <td>0</td>\n",
       "      <td>0.0</td>\n",
       "      <td>0</td>\n",
       "      <td>0</td>\n",
       "      <td>0</td>\n",
       "      <td>0</td>\n",
       "      <td>Sunday</td>\n",
       "      <td>1</td>\n",
       "      <td>5</td>\n",
       "    </tr>\n",
       "    <tr>\n",
       "      <th>1</th>\n",
       "      <td>SKU1</td>\n",
       "      <td>2017-02-12</td>\n",
       "      <td>29023</td>\n",
       "      <td>0.00</td>\n",
       "      <td>1</td>\n",
       "      <td>0</td>\n",
       "      <td>1</td>\n",
       "      <td>0.0</td>\n",
       "      <td>0</td>\n",
       "      <td>1</td>\n",
       "      <td>0</td>\n",
       "      <td>0</td>\n",
       "      <td>Sunday</td>\n",
       "      <td>1</td>\n",
       "      <td>6</td>\n",
       "    </tr>\n",
       "    <tr>\n",
       "      <th>2</th>\n",
       "      <td>SKU1</td>\n",
       "      <td>2017-02-19</td>\n",
       "      <td>45630</td>\n",
       "      <td>0.17</td>\n",
       "      <td>0</td>\n",
       "      <td>0</td>\n",
       "      <td>0</td>\n",
       "      <td>0.0</td>\n",
       "      <td>0</td>\n",
       "      <td>0</td>\n",
       "      <td>0</td>\n",
       "      <td>0</td>\n",
       "      <td>Sunday</td>\n",
       "      <td>1</td>\n",
       "      <td>7</td>\n",
       "    </tr>\n",
       "  </tbody>\n",
       "</table>\n",
       "</div>"
      ],
      "text/plain": [
       "  Product       date  Sales  Discount  In-Store Promo  Catalogue Promo  \\\n",
       "0    SKU1 2017-02-05  27750      0.00               0                0   \n",
       "1    SKU1 2017-02-12  29023      0.00               1                0   \n",
       "2    SKU1 2017-02-19  45630      0.17               0                0   \n",
       "\n",
       "   Store End Promo  Google_Mobility  Covid_Flag  V_DAY  EASTER  CHRISTMAS  \\\n",
       "0                0              0.0           0      0       0          0   \n",
       "1                1              0.0           0      1       0          0   \n",
       "2                0              0.0           0      0       0          0   \n",
       "\n",
       "  DayOfWeek  Quarter  WeekNum  \n",
       "0    Sunday        1        5  \n",
       "1    Sunday        1        6  \n",
       "2    Sunday        1        7  "
      ]
     },
     "execution_count": 50,
     "metadata": {},
     "output_type": "execute_result"
    }
   ],
   "source": [
    "forecast.drop('Unnamed: 0', axis=1, inplace=True)\n",
    "forecast.head(3)"
   ]
  },
  {
   "cell_type": "code",
   "execution_count": 51,
   "id": "4b9f82f6",
   "metadata": {},
   "outputs": [
    {
     "name": "stdout",
     "output_type": "stream",
     "text": [
      "<class 'pandas.core.frame.DataFrame'>\n",
      "RangeIndex: 1218 entries, 0 to 1217\n",
      "Data columns (total 15 columns):\n",
      " #   Column           Non-Null Count  Dtype         \n",
      "---  ------           --------------  -----         \n",
      " 0   Product          1218 non-null   object        \n",
      " 1   date             1218 non-null   datetime64[ns]\n",
      " 2   Sales            1218 non-null   int64         \n",
      " 3   Discount         1218 non-null   float64       \n",
      " 4   In-Store Promo   1218 non-null   int64         \n",
      " 5   Catalogue Promo  1218 non-null   int64         \n",
      " 6   Store End Promo  1218 non-null   int64         \n",
      " 7   Google_Mobility  1218 non-null   float64       \n",
      " 8   Covid_Flag       1218 non-null   int64         \n",
      " 9   V_DAY            1218 non-null   int64         \n",
      " 10  EASTER           1218 non-null   int64         \n",
      " 11  CHRISTMAS        1218 non-null   int64         \n",
      " 12  DayOfWeek        1218 non-null   object        \n",
      " 13  Quarter          1218 non-null   int64         \n",
      " 14  WeekNum          1218 non-null   int64         \n",
      "dtypes: datetime64[ns](1), float64(2), int64(10), object(2)\n",
      "memory usage: 142.9+ KB\n"
     ]
    }
   ],
   "source": [
    "forecast.info()"
   ]
  },
  {
   "cell_type": "markdown",
   "id": "19a896a4",
   "metadata": {},
   "source": [
    "# Add Year, Month, and Day"
   ]
  },
  {
   "cell_type": "code",
   "execution_count": 52,
   "id": "122c990b",
   "metadata": {},
   "outputs": [
    {
     "data": {
      "text/html": [
       "<div>\n",
       "<style scoped>\n",
       "    .dataframe tbody tr th:only-of-type {\n",
       "        vertical-align: middle;\n",
       "    }\n",
       "\n",
       "    .dataframe tbody tr th {\n",
       "        vertical-align: top;\n",
       "    }\n",
       "\n",
       "    .dataframe thead th {\n",
       "        text-align: right;\n",
       "    }\n",
       "</style>\n",
       "<table border=\"1\" class=\"dataframe\">\n",
       "  <thead>\n",
       "    <tr style=\"text-align: right;\">\n",
       "      <th></th>\n",
       "      <th>Product</th>\n",
       "      <th>date</th>\n",
       "      <th>Sales</th>\n",
       "      <th>Discount</th>\n",
       "      <th>In-Store Promo</th>\n",
       "      <th>Catalogue Promo</th>\n",
       "      <th>Store End Promo</th>\n",
       "      <th>Google_Mobility</th>\n",
       "      <th>Covid_Flag</th>\n",
       "      <th>V_DAY</th>\n",
       "      <th>EASTER</th>\n",
       "      <th>CHRISTMAS</th>\n",
       "      <th>DayOfWeek</th>\n",
       "      <th>Quarter</th>\n",
       "      <th>WeekNum</th>\n",
       "      <th>Year</th>\n",
       "      <th>Month</th>\n",
       "      <th>Day</th>\n",
       "    </tr>\n",
       "  </thead>\n",
       "  <tbody>\n",
       "    <tr>\n",
       "      <th>0</th>\n",
       "      <td>SKU1</td>\n",
       "      <td>2017-02-05</td>\n",
       "      <td>27750</td>\n",
       "      <td>0.00</td>\n",
       "      <td>0</td>\n",
       "      <td>0</td>\n",
       "      <td>0</td>\n",
       "      <td>0.0</td>\n",
       "      <td>0</td>\n",
       "      <td>0</td>\n",
       "      <td>0</td>\n",
       "      <td>0</td>\n",
       "      <td>Sunday</td>\n",
       "      <td>1</td>\n",
       "      <td>5</td>\n",
       "      <td>2017</td>\n",
       "      <td>2</td>\n",
       "      <td>5</td>\n",
       "    </tr>\n",
       "    <tr>\n",
       "      <th>1</th>\n",
       "      <td>SKU1</td>\n",
       "      <td>2017-02-12</td>\n",
       "      <td>29023</td>\n",
       "      <td>0.00</td>\n",
       "      <td>1</td>\n",
       "      <td>0</td>\n",
       "      <td>1</td>\n",
       "      <td>0.0</td>\n",
       "      <td>0</td>\n",
       "      <td>1</td>\n",
       "      <td>0</td>\n",
       "      <td>0</td>\n",
       "      <td>Sunday</td>\n",
       "      <td>1</td>\n",
       "      <td>6</td>\n",
       "      <td>2017</td>\n",
       "      <td>2</td>\n",
       "      <td>12</td>\n",
       "    </tr>\n",
       "    <tr>\n",
       "      <th>2</th>\n",
       "      <td>SKU1</td>\n",
       "      <td>2017-02-19</td>\n",
       "      <td>45630</td>\n",
       "      <td>0.17</td>\n",
       "      <td>0</td>\n",
       "      <td>0</td>\n",
       "      <td>0</td>\n",
       "      <td>0.0</td>\n",
       "      <td>0</td>\n",
       "      <td>0</td>\n",
       "      <td>0</td>\n",
       "      <td>0</td>\n",
       "      <td>Sunday</td>\n",
       "      <td>1</td>\n",
       "      <td>7</td>\n",
       "      <td>2017</td>\n",
       "      <td>2</td>\n",
       "      <td>19</td>\n",
       "    </tr>\n",
       "  </tbody>\n",
       "</table>\n",
       "</div>"
      ],
      "text/plain": [
       "  Product       date  Sales  Discount  In-Store Promo  Catalogue Promo  \\\n",
       "0    SKU1 2017-02-05  27750      0.00               0                0   \n",
       "1    SKU1 2017-02-12  29023      0.00               1                0   \n",
       "2    SKU1 2017-02-19  45630      0.17               0                0   \n",
       "\n",
       "   Store End Promo  Google_Mobility  Covid_Flag  V_DAY  EASTER  CHRISTMAS  \\\n",
       "0                0              0.0           0      0       0          0   \n",
       "1                1              0.0           0      1       0          0   \n",
       "2                0              0.0           0      0       0          0   \n",
       "\n",
       "  DayOfWeek  Quarter  WeekNum  Year  Month  Day  \n",
       "0    Sunday        1        5  2017      2    5  \n",
       "1    Sunday        1        6  2017      2   12  \n",
       "2    Sunday        1        7  2017      2   19  "
      ]
     },
     "execution_count": 52,
     "metadata": {},
     "output_type": "execute_result"
    }
   ],
   "source": [
    "forecast['Year'] = forecast['date'].dt.year\n",
    "forecast['Month'] = forecast['date'].dt.month\n",
    "forecast[\"Day\"] = forecast['date'].dt.day\n",
    "forecast.head(3)"
   ]
  },
  {
   "cell_type": "markdown",
   "id": "7cdb3837",
   "metadata": {},
   "source": [
    "# Modeling"
   ]
  },
  {
   "cell_type": "code",
   "execution_count": 53,
   "id": "368b3060",
   "metadata": {},
   "outputs": [
    {
     "data": {
      "text/html": [
       "<div>\n",
       "<style scoped>\n",
       "    .dataframe tbody tr th:only-of-type {\n",
       "        vertical-align: middle;\n",
       "    }\n",
       "\n",
       "    .dataframe tbody tr th {\n",
       "        vertical-align: top;\n",
       "    }\n",
       "\n",
       "    .dataframe thead th {\n",
       "        text-align: right;\n",
       "    }\n",
       "</style>\n",
       "<table border=\"1\" class=\"dataframe\">\n",
       "  <thead>\n",
       "    <tr style=\"text-align: right;\">\n",
       "      <th></th>\n",
       "      <th>Product</th>\n",
       "      <th>date</th>\n",
       "      <th>Sales</th>\n",
       "      <th>Discount</th>\n",
       "      <th>In-Store Promo</th>\n",
       "      <th>Catalogue Promo</th>\n",
       "      <th>Store End Promo</th>\n",
       "      <th>Google_Mobility</th>\n",
       "      <th>Covid_Flag</th>\n",
       "      <th>V_DAY</th>\n",
       "      <th>EASTER</th>\n",
       "      <th>CHRISTMAS</th>\n",
       "      <th>Quarter</th>\n",
       "      <th>WeekNum</th>\n",
       "      <th>Year</th>\n",
       "      <th>Month</th>\n",
       "      <th>Day</th>\n",
       "    </tr>\n",
       "  </thead>\n",
       "  <tbody>\n",
       "    <tr>\n",
       "      <th>0</th>\n",
       "      <td>SKU1</td>\n",
       "      <td>2017-02-05</td>\n",
       "      <td>27750</td>\n",
       "      <td>0.00</td>\n",
       "      <td>0</td>\n",
       "      <td>0</td>\n",
       "      <td>0</td>\n",
       "      <td>0.0</td>\n",
       "      <td>0</td>\n",
       "      <td>0</td>\n",
       "      <td>0</td>\n",
       "      <td>0</td>\n",
       "      <td>1</td>\n",
       "      <td>5</td>\n",
       "      <td>2017</td>\n",
       "      <td>2</td>\n",
       "      <td>5</td>\n",
       "    </tr>\n",
       "    <tr>\n",
       "      <th>1</th>\n",
       "      <td>SKU1</td>\n",
       "      <td>2017-02-12</td>\n",
       "      <td>29023</td>\n",
       "      <td>0.00</td>\n",
       "      <td>1</td>\n",
       "      <td>0</td>\n",
       "      <td>1</td>\n",
       "      <td>0.0</td>\n",
       "      <td>0</td>\n",
       "      <td>1</td>\n",
       "      <td>0</td>\n",
       "      <td>0</td>\n",
       "      <td>1</td>\n",
       "      <td>6</td>\n",
       "      <td>2017</td>\n",
       "      <td>2</td>\n",
       "      <td>12</td>\n",
       "    </tr>\n",
       "    <tr>\n",
       "      <th>2</th>\n",
       "      <td>SKU1</td>\n",
       "      <td>2017-02-19</td>\n",
       "      <td>45630</td>\n",
       "      <td>0.17</td>\n",
       "      <td>0</td>\n",
       "      <td>0</td>\n",
       "      <td>0</td>\n",
       "      <td>0.0</td>\n",
       "      <td>0</td>\n",
       "      <td>0</td>\n",
       "      <td>0</td>\n",
       "      <td>0</td>\n",
       "      <td>1</td>\n",
       "      <td>7</td>\n",
       "      <td>2017</td>\n",
       "      <td>2</td>\n",
       "      <td>19</td>\n",
       "    </tr>\n",
       "    <tr>\n",
       "      <th>3</th>\n",
       "      <td>SKU1</td>\n",
       "      <td>2017-02-26</td>\n",
       "      <td>26789</td>\n",
       "      <td>0.00</td>\n",
       "      <td>1</td>\n",
       "      <td>0</td>\n",
       "      <td>1</td>\n",
       "      <td>0.0</td>\n",
       "      <td>0</td>\n",
       "      <td>0</td>\n",
       "      <td>0</td>\n",
       "      <td>0</td>\n",
       "      <td>1</td>\n",
       "      <td>8</td>\n",
       "      <td>2017</td>\n",
       "      <td>2</td>\n",
       "      <td>26</td>\n",
       "    </tr>\n",
       "    <tr>\n",
       "      <th>4</th>\n",
       "      <td>SKU1</td>\n",
       "      <td>2017-03-05</td>\n",
       "      <td>41999</td>\n",
       "      <td>0.17</td>\n",
       "      <td>0</td>\n",
       "      <td>0</td>\n",
       "      <td>0</td>\n",
       "      <td>0.0</td>\n",
       "      <td>0</td>\n",
       "      <td>0</td>\n",
       "      <td>0</td>\n",
       "      <td>0</td>\n",
       "      <td>1</td>\n",
       "      <td>9</td>\n",
       "      <td>2017</td>\n",
       "      <td>3</td>\n",
       "      <td>5</td>\n",
       "    </tr>\n",
       "  </tbody>\n",
       "</table>\n",
       "</div>"
      ],
      "text/plain": [
       "  Product       date  Sales  Discount  In-Store Promo  Catalogue Promo  \\\n",
       "0    SKU1 2017-02-05  27750      0.00               0                0   \n",
       "1    SKU1 2017-02-12  29023      0.00               1                0   \n",
       "2    SKU1 2017-02-19  45630      0.17               0                0   \n",
       "3    SKU1 2017-02-26  26789      0.00               1                0   \n",
       "4    SKU1 2017-03-05  41999      0.17               0                0   \n",
       "\n",
       "   Store End Promo  Google_Mobility  Covid_Flag  V_DAY  EASTER  CHRISTMAS  \\\n",
       "0                0              0.0           0      0       0          0   \n",
       "1                1              0.0           0      1       0          0   \n",
       "2                0              0.0           0      0       0          0   \n",
       "3                1              0.0           0      0       0          0   \n",
       "4                0              0.0           0      0       0          0   \n",
       "\n",
       "   Quarter  WeekNum  Year  Month  Day  \n",
       "0        1        5  2017      2    5  \n",
       "1        1        6  2017      2   12  \n",
       "2        1        7  2017      2   19  \n",
       "3        1        8  2017      2   26  \n",
       "4        1        9  2017      3    5  "
      ]
     },
     "execution_count": 53,
     "metadata": {},
     "output_type": "execute_result"
    }
   ],
   "source": [
    "forecast = forecast.loc[:, forecast.columns != 'DayOfWeek']\n",
    "\n",
    "forecast.head()"
   ]
  },
  {
   "cell_type": "code",
   "execution_count": 54,
   "id": "42f45fcd",
   "metadata": {},
   "outputs": [
    {
     "data": {
      "image/png": "[encoded data removed]",
      "text/plain": [
       "<Figure size 640x480 with 1 Axes>"
      ]
     },
     "metadata": {},
     "output_type": "display_data"
    }
   ],
   "source": [
    "forecast.plot()\n",
    "plt.show()"
   ]
  },
  {
   "cell_type": "code",
   "execution_count": 55,
   "id": "d39dd8f1",
   "metadata": {},
   "outputs": [],
   "source": [
    "#Turn date column to int with a temporary df\n",
    "df = forecast.copy()\n",
    "df[\"date\"] = df[\"date\"].apply(lambda x: int(x.timestamp()))"
   ]
  },
  {
   "cell_type": "code",
   "execution_count": 56,
   "id": "2a839c16",
   "metadata": {},
   "outputs": [],
   "source": [
    "#seperate by product\n",
    "\n",
    "product1 = df[df[\"Product\"] == \"SKU1\"]\n",
    "product2 = df[df[\"Product\"] == \"SKU2\"]\n",
    "product3 = df[df[\"Product\"] == \"SKU3\"]\n",
    "product4 = df[df[\"Product\"] == \"SKU4\"]\n",
    "product5 = df[df[\"Product\"] == \"SKU5\"]\n",
    "product6 = df[df[\"Product\"] == \"SKU6\"]"
   ]
  },
  {
   "cell_type": "markdown",
   "id": "d47c75e2",
   "metadata": {},
   "source": [
    "I will focus on product 1 for simplicity for now"
   ]
  },
  {
   "cell_type": "code",
   "execution_count": 57,
   "id": "a77ac0fc",
   "metadata": {},
   "outputs": [
    {
     "data": {
      "text/html": [
       "<div>\n",
       "<style scoped>\n",
       "    .dataframe tbody tr th:only-of-type {\n",
       "        vertical-align: middle;\n",
       "    }\n",
       "\n",
       "    .dataframe tbody tr th {\n",
       "        vertical-align: top;\n",
       "    }\n",
       "\n",
       "    .dataframe thead th {\n",
       "        text-align: right;\n",
       "    }\n",
       "</style>\n",
       "<table border=\"1\" class=\"dataframe\">\n",
       "  <thead>\n",
       "    <tr style=\"text-align: right;\">\n",
       "      <th></th>\n",
       "      <th>Product</th>\n",
       "      <th>date</th>\n",
       "      <th>Sales</th>\n",
       "      <th>Discount</th>\n",
       "      <th>In-Store Promo</th>\n",
       "      <th>Catalogue Promo</th>\n",
       "      <th>Store End Promo</th>\n",
       "      <th>Google_Mobility</th>\n",
       "      <th>Covid_Flag</th>\n",
       "      <th>V_DAY</th>\n",
       "      <th>EASTER</th>\n",
       "      <th>CHRISTMAS</th>\n",
       "      <th>Quarter</th>\n",
       "      <th>WeekNum</th>\n",
       "      <th>Year</th>\n",
       "      <th>Month</th>\n",
       "      <th>Day</th>\n",
       "    </tr>\n",
       "  </thead>\n",
       "  <tbody>\n",
       "    <tr>\n",
       "      <th>0</th>\n",
       "      <td>SKU1</td>\n",
       "      <td>1486252800</td>\n",
       "      <td>27750</td>\n",
       "      <td>0.00</td>\n",
       "      <td>0</td>\n",
       "      <td>0</td>\n",
       "      <td>0</td>\n",
       "      <td>0.0</td>\n",
       "      <td>0</td>\n",
       "      <td>0</td>\n",
       "      <td>0</td>\n",
       "      <td>0</td>\n",
       "      <td>1</td>\n",
       "      <td>5</td>\n",
       "      <td>2017</td>\n",
       "      <td>2</td>\n",
       "      <td>5</td>\n",
       "    </tr>\n",
       "    <tr>\n",
       "      <th>1</th>\n",
       "      <td>SKU1</td>\n",
       "      <td>1486857600</td>\n",
       "      <td>29023</td>\n",
       "      <td>0.00</td>\n",
       "      <td>1</td>\n",
       "      <td>0</td>\n",
       "      <td>1</td>\n",
       "      <td>0.0</td>\n",
       "      <td>0</td>\n",
       "      <td>1</td>\n",
       "      <td>0</td>\n",
       "      <td>0</td>\n",
       "      <td>1</td>\n",
       "      <td>6</td>\n",
       "      <td>2017</td>\n",
       "      <td>2</td>\n",
       "      <td>12</td>\n",
       "    </tr>\n",
       "    <tr>\n",
       "      <th>2</th>\n",
       "      <td>SKU1</td>\n",
       "      <td>1487462400</td>\n",
       "      <td>45630</td>\n",
       "      <td>0.17</td>\n",
       "      <td>0</td>\n",
       "      <td>0</td>\n",
       "      <td>0</td>\n",
       "      <td>0.0</td>\n",
       "      <td>0</td>\n",
       "      <td>0</td>\n",
       "      <td>0</td>\n",
       "      <td>0</td>\n",
       "      <td>1</td>\n",
       "      <td>7</td>\n",
       "      <td>2017</td>\n",
       "      <td>2</td>\n",
       "      <td>19</td>\n",
       "    </tr>\n",
       "    <tr>\n",
       "      <th>3</th>\n",
       "      <td>SKU1</td>\n",
       "      <td>1488067200</td>\n",
       "      <td>26789</td>\n",
       "      <td>0.00</td>\n",
       "      <td>1</td>\n",
       "      <td>0</td>\n",
       "      <td>1</td>\n",
       "      <td>0.0</td>\n",
       "      <td>0</td>\n",
       "      <td>0</td>\n",
       "      <td>0</td>\n",
       "      <td>0</td>\n",
       "      <td>1</td>\n",
       "      <td>8</td>\n",
       "      <td>2017</td>\n",
       "      <td>2</td>\n",
       "      <td>26</td>\n",
       "    </tr>\n",
       "    <tr>\n",
       "      <th>4</th>\n",
       "      <td>SKU1</td>\n",
       "      <td>1488672000</td>\n",
       "      <td>41999</td>\n",
       "      <td>0.17</td>\n",
       "      <td>0</td>\n",
       "      <td>0</td>\n",
       "      <td>0</td>\n",
       "      <td>0.0</td>\n",
       "      <td>0</td>\n",
       "      <td>0</td>\n",
       "      <td>0</td>\n",
       "      <td>0</td>\n",
       "      <td>1</td>\n",
       "      <td>9</td>\n",
       "      <td>2017</td>\n",
       "      <td>3</td>\n",
       "      <td>5</td>\n",
       "    </tr>\n",
       "  </tbody>\n",
       "</table>\n",
       "</div>"
      ],
      "text/plain": [
       "  Product        date  Sales  Discount  In-Store Promo  Catalogue Promo  \\\n",
       "0    SKU1  1486252800  27750      0.00               0                0   \n",
       "1    SKU1  1486857600  29023      0.00               1                0   \n",
       "2    SKU1  1487462400  45630      0.17               0                0   \n",
       "3    SKU1  1488067200  26789      0.00               1                0   \n",
       "4    SKU1  1488672000  41999      0.17               0                0   \n",
       "\n",
       "   Store End Promo  Google_Mobility  Covid_Flag  V_DAY  EASTER  CHRISTMAS  \\\n",
       "0                0              0.0           0      0       0          0   \n",
       "1                1              0.0           0      1       0          0   \n",
       "2                0              0.0           0      0       0          0   \n",
       "3                1              0.0           0      0       0          0   \n",
       "4                0              0.0           0      0       0          0   \n",
       "\n",
       "   Quarter  WeekNum  Year  Month  Day  \n",
       "0        1        5  2017      2    5  \n",
       "1        1        6  2017      2   12  \n",
       "2        1        7  2017      2   19  \n",
       "3        1        8  2017      2   26  \n",
       "4        1        9  2017      3    5  "
      ]
     },
     "execution_count": 57,
     "metadata": {},
     "output_type": "execute_result"
    }
   ],
   "source": [
    "product1.head()"
   ]
  },
  {
   "cell_type": "markdown",
   "id": "522de2ab",
   "metadata": {},
   "source": [
    "# Linear Regression\n",
    "\n",
    " This is my base model. It is obviously not the best model to choose."
   ]
  },
  {
   "cell_type": "code",
   "execution_count": 58,
   "id": "2c83aaa8",
   "metadata": {},
   "outputs": [],
   "source": [
    "X = product1.loc[:, ~product1.columns.isin(['DayOfWeek', 'Sales', 'Product'])]\n",
    "y = product1[\"Sales\"]\n",
    "\n",
    "X_train, X_test, y_train, y_test = train_test_split(X, y, train_size=0.66, random_state=42)"
   ]
  },
  {
   "cell_type": "code",
   "execution_count": 59,
   "id": "d5ddceb3",
   "metadata": {},
   "outputs": [],
   "source": [
    "#Evaluations \n",
    "\n",
    "def evaluations(y_test, prediction):\n",
    "    \n",
    "    #mean squared error\n",
    "    mse = mean_squared_error(y_test, prediction)\n",
    "    \n",
    "    #root mean squared error\n",
    "    rmse = np.sqrt(mse)\n",
    "    \n",
    "    #mean absolut Error\n",
    "    mae = mean_absolute_error(y_test, prediction)\n",
    "    \n",
    "    #Print \n",
    "    print('Mean Absolute Error: %f' % mae)\n",
    "    print(\"Mean Squared Error: %.3f\" % mse)\n",
    "    print('Root Mean Squared Error: %.3f' % rmse)"
   ]
  },
  {
   "cell_type": "code",
   "execution_count": 60,
   "id": "89549a27",
   "metadata": {},
   "outputs": [
    {
     "name": "stdout",
     "output_type": "stream",
     "text": [
      "Mean Absolute Error: 12602.135067\n",
      "Mean Squared Error: 418595088.061\n",
      "Root Mean Squared Error: 20459.596\n"
     ]
    }
   ],
   "source": [
    "# fit the model\n",
    "lr = LinearRegression()\n",
    "lr.fit(X_train, y_train)\n",
    "\n",
    "# predict on the same period\n",
    "pred1 = lr.predict(X_test)\n",
    "\n",
    "#Evaluations \n",
    "evaluations(y_test, pred1)"
   ]
  },
  {
   "cell_type": "markdown",
   "id": "78d6e675",
   "metadata": {},
   "source": [
    "# GridSearch CV"
   ]
  },
  {
   "cell_type": "code",
   "execution_count": 61,
   "id": "b08a14f4",
   "metadata": {},
   "outputs": [],
   "source": [
    "from sklearn.model_selection import GridSearchCV"
   ]
  },
  {
   "cell_type": "code",
   "execution_count": 62,
   "id": "1cdad899",
   "metadata": {},
   "outputs": [],
   "source": [
    "def gridsearch(model, parameters, X_train, y_train):\n",
    "    grid = GridSearchCV(estimator=model, param_grid = parameters,cv=5, n_jobs=None)\n",
    "    result = grid.fit(X_train, y_train)\n",
    "    \n",
    "    # summarize result\n",
    "    print('Best Score: %s' % result.best_score_)\n",
    "    print('Best Hyperparameters: %s' % result.best_params_)\n",
    "    "
   ]
  },
  {
   "cell_type": "code",
   "execution_count": 63,
   "id": "dca6a7d8",
   "metadata": {},
   "outputs": [
    {
     "name": "stdout",
     "output_type": "stream",
     "text": [
      "Best Score: 0.4879551565546906\n",
      "Best Hyperparameters: {'fit_intercept': True, 'n_jobs': 1, 'positive': True}\n"
     ]
    }
   ],
   "source": [
    "# Train a linear regression model using grid search and cross-validation\n",
    "model = LinearRegression()\n",
    "param_grid = {'fit_intercept': [True, False], \n",
    "              'positive': [True, False],\n",
    "             'n_jobs': [1, 3, None]}\n",
    "gridsearch(model, param_grid, X_train, y_train)"
   ]
  },
  {
   "cell_type": "code",
   "execution_count": 64,
   "id": "f7ce596a",
   "metadata": {},
   "outputs": [
    {
     "name": "stdout",
     "output_type": "stream",
     "text": [
      "Mean Absolute Error: 12752.544756\n",
      "Mean Squared Error: 438919569.518\n",
      "Root Mean Squared Error: 20950.407\n"
     ]
    }
   ],
   "source": [
    "#USE WITH BEST PARAMETERS\n",
    "\n",
    "# fit the model\n",
    "lr = LinearRegression(fit_intercept=True, n_jobs= 1, positive= True)\n",
    "lr.fit(X_train, y_train)\n",
    "\n",
    "# predict on the same period\n",
    "pred1 = lr.predict(X_test)\n",
    "\n",
    "#Evaluations \n",
    "evaluations(y_test, pred1)"
   ]
  },
  {
   "cell_type": "markdown",
   "id": "c0e9b0ae",
   "metadata": {},
   "source": [
    "The original model performed the best."
   ]
  },
  {
   "cell_type": "markdown",
   "id": "cafe8d15",
   "metadata": {},
   "source": [
    "# Random Forest "
   ]
  },
  {
   "cell_type": "code",
   "execution_count": 65,
   "id": "7b3a2cd3",
   "metadata": {},
   "outputs": [
    {
     "name": "stdout",
     "output_type": "stream",
     "text": [
      "Mean Absolute Error: 7642.115000\n",
      "Mean Squared Error: 233360421.815\n",
      "Root Mean Squared Error: 15276.139\n"
     ]
    }
   ],
   "source": [
    "# fit the model\n",
    "rf = RandomForestRegressor()\n",
    "rf.fit(X_train, y_train)\n",
    "\n",
    "# predict on the same period\n",
    "pred2 = rf.predict(X_test)\n",
    "\n",
    "#Evaluations \n",
    "evaluations(y_test, pred2)\n"
   ]
  },
  {
   "cell_type": "markdown",
   "id": "a98e6c11",
   "metadata": {},
   "source": [
    "# GridSearchCV "
   ]
  },
  {
   "cell_type": "code",
   "execution_count": 66,
   "id": "d3a5a4b8",
   "metadata": {},
   "outputs": [
    {
     "name": "stdout",
     "output_type": "stream",
     "text": [
      "Best Score: 0.6690692994531571\n",
      "Best Hyperparameters: {'max_features': 0.2, 'n_estimators': 100}\n"
     ]
    }
   ],
   "source": [
    "model = RandomForestRegressor()\n",
    "param_grid = {'max_features' : ['sqrt',0.2],\n",
    "              'n_estimators': [100, 200, 300, 500] \n",
    "              #'min_samples_leaf': [1, 3,],\n",
    "              \n",
    "             #'n_jobs': [None, 3]\n",
    "             }\n",
    "\n",
    "gridsearch(model, param_grid, X_train, y_train)"
   ]
  },
  {
   "cell_type": "code",
   "execution_count": 67,
   "id": "9d42e438",
   "metadata": {},
   "outputs": [
    {
     "name": "stdout",
     "output_type": "stream",
     "text": [
      "Mean Absolute Error: 7616.845000\n",
      "Mean Squared Error: 154867886.995\n",
      "Root Mean Squared Error: 12444.593\n"
     ]
    }
   ],
   "source": [
    "# fit the model\n",
    "rf = RandomForestRegressor(max_features = 0.2,n_estimators=100, min_samples_leaf=1,\n",
    "                           n_jobs=None, random_state= 42)\n",
    "rf.fit(X_train, y_train)\n",
    "\n",
    "# predict on the same period\n",
    "pred2 = rf.predict(X_test)\n",
    "\n",
    "#Evaluations \n",
    "evaluations(y_test, pred2)"
   ]
  },
  {
   "cell_type": "markdown",
   "id": "bb435949",
   "metadata": {},
   "source": [
    "# Feature Importance"
   ]
  },
  {
   "cell_type": "code",
   "execution_count": 68,
   "id": "4265aacd",
   "metadata": {},
   "outputs": [
    {
     "data": {
      "text/html": [
       "<div>\n",
       "<style scoped>\n",
       "    .dataframe tbody tr th:only-of-type {\n",
       "        vertical-align: middle;\n",
       "    }\n",
       "\n",
       "    .dataframe tbody tr th {\n",
       "        vertical-align: top;\n",
       "    }\n",
       "\n",
       "    .dataframe thead th {\n",
       "        text-align: right;\n",
       "    }\n",
       "</style>\n",
       "<table border=\"1\" class=\"dataframe\">\n",
       "  <thead>\n",
       "    <tr style=\"text-align: right;\">\n",
       "      <th></th>\n",
       "      <th>importance</th>\n",
       "    </tr>\n",
       "  </thead>\n",
       "  <tbody>\n",
       "    <tr>\n",
       "      <th>Discount</th>\n",
       "      <td>0.330338</td>\n",
       "    </tr>\n",
       "    <tr>\n",
       "      <th>WeekNum</th>\n",
       "      <td>0.161775</td>\n",
       "    </tr>\n",
       "    <tr>\n",
       "      <th>Month</th>\n",
       "      <td>0.117169</td>\n",
       "    </tr>\n",
       "    <tr>\n",
       "      <th>date</th>\n",
       "      <td>0.099986</td>\n",
       "    </tr>\n",
       "    <tr>\n",
       "      <th>Day</th>\n",
       "      <td>0.072696</td>\n",
       "    </tr>\n",
       "    <tr>\n",
       "      <th>Year</th>\n",
       "      <td>0.047277</td>\n",
       "    </tr>\n",
       "    <tr>\n",
       "      <th>Catalogue Promo</th>\n",
       "      <td>0.046616</td>\n",
       "    </tr>\n",
       "    <tr>\n",
       "      <th>Quarter</th>\n",
       "      <td>0.034697</td>\n",
       "    </tr>\n",
       "    <tr>\n",
       "      <th>Store End Promo</th>\n",
       "      <td>0.030391</td>\n",
       "    </tr>\n",
       "    <tr>\n",
       "      <th>Google_Mobility</th>\n",
       "      <td>0.026174</td>\n",
       "    </tr>\n",
       "    <tr>\n",
       "      <th>Covid_Flag</th>\n",
       "      <td>0.016025</td>\n",
       "    </tr>\n",
       "    <tr>\n",
       "      <th>In-Store Promo</th>\n",
       "      <td>0.008968</td>\n",
       "    </tr>\n",
       "    <tr>\n",
       "      <th>CHRISTMAS</th>\n",
       "      <td>0.005934</td>\n",
       "    </tr>\n",
       "    <tr>\n",
       "      <th>EASTER</th>\n",
       "      <td>0.001101</td>\n",
       "    </tr>\n",
       "    <tr>\n",
       "      <th>V_DAY</th>\n",
       "      <td>0.000854</td>\n",
       "    </tr>\n",
       "  </tbody>\n",
       "</table>\n",
       "</div>"
      ],
      "text/plain": [
       "                 importance\n",
       "Discount           0.330338\n",
       "WeekNum            0.161775\n",
       "Month              0.117169\n",
       "date               0.099986\n",
       "Day                0.072696\n",
       "Year               0.047277\n",
       "Catalogue Promo    0.046616\n",
       "Quarter            0.034697\n",
       "Store End Promo    0.030391\n",
       "Google_Mobility    0.026174\n",
       "Covid_Flag         0.016025\n",
       "In-Store Promo     0.008968\n",
       "CHRISTMAS          0.005934\n",
       "EASTER             0.001101\n",
       "V_DAY              0.000854"
      ]
     },
     "execution_count": 68,
     "metadata": {},
     "output_type": "execute_result"
    }
   ],
   "source": [
    "# Feature Importance\n",
    "\n",
    "#feature importance\n",
    "feature_importances = pd.DataFrame(rf.feature_importances_,index = X_train.columns,\n",
    "                                    columns=['importance']).sort_values('importance', ascending=False)\n",
    "\n",
    "feature_importances"
   ]
  },
  {
   "cell_type": "code",
   "execution_count": 69,
   "id": "f096973c",
   "metadata": {},
   "outputs": [
    {
     "data": {
      "text/plain": [
       "<Figure size 1000x1500 with 0 Axes>"
      ]
     },
     "metadata": {},
     "output_type": "display_data"
    },
    {
     "data": {
      "image/png": "[encoded data removed]",
      "text/plain": [
       "<Figure size 640x480 with 1 Axes>"
      ]
     },
     "metadata": {},
     "output_type": "display_data"
    }
   ],
   "source": [
    "#plot importance\n",
    "plt.figure(figsize=(10, 15))\n",
    "feature_importances.plot(kind='barh').invert_yaxis()"
   ]
  },
  {
   "cell_type": "markdown",
   "id": "839500b4",
   "metadata": {},
   "source": [
    "# Testing"
   ]
  },
  {
   "cell_type": "code",
   "execution_count": 70,
   "id": "990db76a",
   "metadata": {},
   "outputs": [
    {
     "name": "stdout",
     "output_type": "stream",
     "text": [
      "Mean Absolute Error: 7616.845000\n",
      "Mean Squared Error: 154867886.995\n",
      "Root Mean Squared Error: 12444.593\n"
     ]
    }
   ],
   "source": [
    "# fit the model\n",
    "rf = RandomForestRegressor(max_features = 0.2,n_estimators=100, min_samples_leaf=1,\n",
    "                           n_jobs=None, random_state= 42)\n",
    "rf.fit(X_train, y_train)\n",
    "\n",
    "# predict on the same period\n",
    "pred2 = rf.predict(X_test)\n",
    "\n",
    "#Evaluations \n",
    "evaluations(y_test, pred2)"
   ]
  },
  {
   "cell_type": "code",
   "execution_count": 73,
   "id": "ab858c73",
   "metadata": {},
   "outputs": [
    {
     "name": "stdout",
     "output_type": "stream",
     "text": [
      "Mean Absolute Error: 7616.84 $.\n",
      "Accuracy: -inf %.\n"
     ]
    }
   ],
   "source": [
    "\"\"\"errors = abs(pred2 - y_test)\n",
    "# Display the performance metrics\n",
    "print('Mean Absolute Error:', round(np.mean(errors), 2), '$.')\n",
    "mape = np.mean(100 * (errors / y_test))\n",
    "accuracy = 100 - mape\n",
    "print('Accuracy:', round(accuracy, 2), '%.')\"\"\""
   ]
  },
  {
   "cell_type": "markdown",
   "id": "657c91be",
   "metadata": {},
   "source": [
    "# ARIMA"
   ]
  },
  {
   "cell_type": "code",
   "execution_count": 25,
   "id": "1215c573",
   "metadata": {},
   "outputs": [
    {
     "data": {
      "text/html": [
       "<div>\n",
       "<style scoped>\n",
       "    .dataframe tbody tr th:only-of-type {\n",
       "        vertical-align: middle;\n",
       "    }\n",
       "\n",
       "    .dataframe tbody tr th {\n",
       "        vertical-align: top;\n",
       "    }\n",
       "\n",
       "    .dataframe thead th {\n",
       "        text-align: right;\n",
       "    }\n",
       "</style>\n",
       "<table border=\"1\" class=\"dataframe\">\n",
       "  <thead>\n",
       "    <tr style=\"text-align: right;\">\n",
       "      <th></th>\n",
       "      <th>Product</th>\n",
       "      <th>date</th>\n",
       "      <th>Sales</th>\n",
       "      <th>Discount</th>\n",
       "      <th>In-Store Promo</th>\n",
       "      <th>Catalogue Promo</th>\n",
       "      <th>Store End Promo</th>\n",
       "      <th>Google_Mobility</th>\n",
       "      <th>Covid_Flag</th>\n",
       "      <th>V_DAY</th>\n",
       "      <th>EASTER</th>\n",
       "      <th>CHRISTMAS</th>\n",
       "      <th>Quarter</th>\n",
       "      <th>WeekNum</th>\n",
       "      <th>Year</th>\n",
       "      <th>Month</th>\n",
       "      <th>Day</th>\n",
       "    </tr>\n",
       "  </thead>\n",
       "  <tbody>\n",
       "    <tr>\n",
       "      <th>0</th>\n",
       "      <td>SKU1</td>\n",
       "      <td>2017-02-05</td>\n",
       "      <td>27750</td>\n",
       "      <td>0.00</td>\n",
       "      <td>0</td>\n",
       "      <td>0</td>\n",
       "      <td>0</td>\n",
       "      <td>0.0</td>\n",
       "      <td>0</td>\n",
       "      <td>0</td>\n",
       "      <td>0</td>\n",
       "      <td>0</td>\n",
       "      <td>1</td>\n",
       "      <td>5</td>\n",
       "      <td>2017</td>\n",
       "      <td>2</td>\n",
       "      <td>5</td>\n",
       "    </tr>\n",
       "    <tr>\n",
       "      <th>1</th>\n",
       "      <td>SKU1</td>\n",
       "      <td>2017-02-12</td>\n",
       "      <td>29023</td>\n",
       "      <td>0.00</td>\n",
       "      <td>1</td>\n",
       "      <td>0</td>\n",
       "      <td>1</td>\n",
       "      <td>0.0</td>\n",
       "      <td>0</td>\n",
       "      <td>1</td>\n",
       "      <td>0</td>\n",
       "      <td>0</td>\n",
       "      <td>1</td>\n",
       "      <td>6</td>\n",
       "      <td>2017</td>\n",
       "      <td>2</td>\n",
       "      <td>12</td>\n",
       "    </tr>\n",
       "    <tr>\n",
       "      <th>2</th>\n",
       "      <td>SKU1</td>\n",
       "      <td>2017-02-19</td>\n",
       "      <td>45630</td>\n",
       "      <td>0.17</td>\n",
       "      <td>0</td>\n",
       "      <td>0</td>\n",
       "      <td>0</td>\n",
       "      <td>0.0</td>\n",
       "      <td>0</td>\n",
       "      <td>0</td>\n",
       "      <td>0</td>\n",
       "      <td>0</td>\n",
       "      <td>1</td>\n",
       "      <td>7</td>\n",
       "      <td>2017</td>\n",
       "      <td>2</td>\n",
       "      <td>19</td>\n",
       "    </tr>\n",
       "  </tbody>\n",
       "</table>\n",
       "</div>"
      ],
      "text/plain": [
       "  Product       date  Sales  Discount  In-Store Promo  Catalogue Promo  \\\n",
       "0    SKU1 2017-02-05  27750      0.00               0                0   \n",
       "1    SKU1 2017-02-12  29023      0.00               1                0   \n",
       "2    SKU1 2017-02-19  45630      0.17               0                0   \n",
       "\n",
       "   Store End Promo  Google_Mobility  Covid_Flag  V_DAY  EASTER  CHRISTMAS  \\\n",
       "0                0              0.0           0      0       0          0   \n",
       "1                1              0.0           0      1       0          0   \n",
       "2                0              0.0           0      0       0          0   \n",
       "\n",
       "   Quarter  WeekNum  Year  Month  Day  \n",
       "0        1        5  2017      2    5  \n",
       "1        1        6  2017      2   12  \n",
       "2        1        7  2017      2   19  "
      ]
     },
     "execution_count": 25,
     "metadata": {},
     "output_type": "execute_result"
    }
   ],
   "source": [
    "forecast.head(3)"
   ]
  },
  {
   "cell_type": "code",
   "execution_count": 26,
   "id": "e7ad22e7",
   "metadata": {},
   "outputs": [],
   "source": [
    "forecast = forecast.loc[:, forecast.columns.isin(['Sales', 'date', 'Product'])]\n",
    "forecast.set_index('date', inplace=True)"
   ]
  },
  {
   "cell_type": "code",
   "execution_count": 27,
   "id": "f8f2205f",
   "metadata": {},
   "outputs": [
    {
     "data": {
      "text/html": [
       "<div>\n",
       "<style scoped>\n",
       "    .dataframe tbody tr th:only-of-type {\n",
       "        vertical-align: middle;\n",
       "    }\n",
       "\n",
       "    .dataframe tbody tr th {\n",
       "        vertical-align: top;\n",
       "    }\n",
       "\n",
       "    .dataframe thead th {\n",
       "        text-align: right;\n",
       "    }\n",
       "</style>\n",
       "<table border=\"1\" class=\"dataframe\">\n",
       "  <thead>\n",
       "    <tr style=\"text-align: right;\">\n",
       "      <th></th>\n",
       "      <th>Product</th>\n",
       "      <th>Sales</th>\n",
       "    </tr>\n",
       "    <tr>\n",
       "      <th>date</th>\n",
       "      <th></th>\n",
       "      <th></th>\n",
       "    </tr>\n",
       "  </thead>\n",
       "  <tbody>\n",
       "    <tr>\n",
       "      <th>2017-02-05</th>\n",
       "      <td>SKU1</td>\n",
       "      <td>27750</td>\n",
       "    </tr>\n",
       "    <tr>\n",
       "      <th>2017-02-12</th>\n",
       "      <td>SKU1</td>\n",
       "      <td>29023</td>\n",
       "    </tr>\n",
       "    <tr>\n",
       "      <th>2017-02-19</th>\n",
       "      <td>SKU1</td>\n",
       "      <td>45630</td>\n",
       "    </tr>\n",
       "  </tbody>\n",
       "</table>\n",
       "</div>"
      ],
      "text/plain": [
       "           Product  Sales\n",
       "date                     \n",
       "2017-02-05    SKU1  27750\n",
       "2017-02-12    SKU1  29023\n",
       "2017-02-19    SKU1  45630"
      ]
     },
     "execution_count": 27,
     "metadata": {},
     "output_type": "execute_result"
    }
   ],
   "source": [
    "forecast.head(3)"
   ]
  },
  {
   "cell_type": "code",
   "execution_count": 28,
   "id": "2c775c88",
   "metadata": {},
   "outputs": [],
   "source": [
    "product1 = forecast[forecast[\"Product\"] == \"SKU1\"]\n",
    "product2 = forecast[forecast[\"Product\"] == \"SKU2\"]\n",
    "product3 = forecast[forecast[\"Product\"] == \"SKU3\"]\n",
    "product4 = forecast[forecast[\"Product\"] == \"SKU4\"]\n",
    "product5 = forecast[forecast[\"Product\"] == \"SKU5\"]\n",
    "product6 = forecast[forecast[\"Product\"] == \"SKU6\"]"
   ]
  },
  {
   "cell_type": "code",
   "execution_count": 29,
   "id": "4e523d71",
   "metadata": {},
   "outputs": [],
   "source": [
    "#forecast.head()"
   ]
  },
  {
   "cell_type": "markdown",
   "id": "0a1ab38d",
   "metadata": {},
   "source": [
    "## Stat test if it is stationary or not  using Augmented Dickey-Fuller Test"
   ]
  },
  {
   "cell_type": "code",
   "execution_count": 30,
   "id": "4ded4bf6",
   "metadata": {},
   "outputs": [],
   "source": [
    "# ADF Test\n",
    "# Function to print out results in customised manner\n",
    "def adf_test(df):\n",
    "    \n",
    "    #df.index = df['date']\n",
    "\n",
    "    # Check the data type\n",
    "    #del df['date']\n",
    "    del df[\"Product\"]\n",
    "    # View the dataset\n",
    "    #df.head()\n",
    "    \n",
    "    timeseries = df[\"Sales\"]\n",
    "    \n",
    "    print ('Results of Dickey-Fuller Test:')\n",
    "    dftest = adfuller(timeseries, autolag='AIC')\n",
    "    dfoutput = pd.Series(dftest[0:4], index=['Test Statistic','p-value','#Lags Used','Number of Observations Used'])\n",
    "    for key,value in dftest[4].items():\n",
    "        dfoutput['Critical Value (%s)'%key] = value\n",
    "    print (dfoutput)"
   ]
  },
  {
   "cell_type": "code",
   "execution_count": 31,
   "id": "47cbab3c",
   "metadata": {},
   "outputs": [
    {
     "name": "stdout",
     "output_type": "stream",
     "text": [
      "Results of Dickey-Fuller Test:\n",
      "Test Statistic                -8.709707e+00\n",
      "p-value                        3.618957e-14\n",
      "#Lags Used                     0.000000e+00\n",
      "Number of Observations Used    2.030000e+02\n",
      "Critical Value (1%)           -3.462980e+00\n",
      "Critical Value (5%)           -2.875885e+00\n",
      "Critical Value (10%)          -2.574416e+00\n",
      "dtype: float64\n"
     ]
    }
   ],
   "source": [
    "#product 1\n",
    "adf_test(product1)"
   ]
  },
  {
   "cell_type": "code",
   "execution_count": 32,
   "id": "fe796762",
   "metadata": {},
   "outputs": [
    {
     "name": "stdout",
     "output_type": "stream",
     "text": [
      "Results of Dickey-Fuller Test:\n",
      "Test Statistic                -1.510105e+01\n",
      "p-value                        7.939761e-28\n",
      "#Lags Used                     0.000000e+00\n",
      "Number of Observations Used    2.030000e+02\n",
      "Critical Value (1%)           -3.462980e+00\n",
      "Critical Value (5%)           -2.875885e+00\n",
      "Critical Value (10%)          -2.574416e+00\n",
      "dtype: float64\n"
     ]
    }
   ],
   "source": [
    "# Product 2\n",
    "adf_test(product2)"
   ]
  },
  {
   "cell_type": "code",
   "execution_count": 33,
   "id": "7cacd5af",
   "metadata": {},
   "outputs": [
    {
     "name": "stdout",
     "output_type": "stream",
     "text": [
      "Results of Dickey-Fuller Test:\n",
      "Test Statistic                -5.752370e+00\n",
      "p-value                        5.925780e-07\n",
      "#Lags Used                     3.000000e+00\n",
      "Number of Observations Used    2.000000e+02\n",
      "Critical Value (1%)           -3.463476e+00\n",
      "Critical Value (5%)           -2.876102e+00\n",
      "Critical Value (10%)          -2.574532e+00\n",
      "dtype: float64\n"
     ]
    }
   ],
   "source": [
    "# Product 3\n",
    "adf_test(product3)"
   ]
  },
  {
   "cell_type": "code",
   "execution_count": 34,
   "id": "cc03c19d",
   "metadata": {},
   "outputs": [
    {
     "name": "stdout",
     "output_type": "stream",
     "text": [
      "Results of Dickey-Fuller Test:\n",
      "Test Statistic                  -5.589760\n",
      "p-value                          0.000001\n",
      "#Lags Used                       3.000000\n",
      "Number of Observations Used    200.000000\n",
      "Critical Value (1%)             -3.463476\n",
      "Critical Value (5%)             -2.876102\n",
      "Critical Value (10%)            -2.574532\n",
      "dtype: float64\n"
     ]
    }
   ],
   "source": [
    "# Product 4\n",
    "adf_test(product4)"
   ]
  },
  {
   "cell_type": "code",
   "execution_count": 35,
   "id": "b518f129",
   "metadata": {},
   "outputs": [
    {
     "name": "stdout",
     "output_type": "stream",
     "text": [
      "Results of Dickey-Fuller Test:\n",
      "Test Statistic                  -4.407753\n",
      "p-value                          0.000288\n",
      "#Lags Used                       4.000000\n",
      "Number of Observations Used    199.000000\n",
      "Critical Value (1%)             -3.463645\n",
      "Critical Value (5%)             -2.876176\n",
      "Critical Value (10%)            -2.574572\n",
      "dtype: float64\n"
     ]
    }
   ],
   "source": [
    "# Product 5\n",
    "adf_test(product5)"
   ]
  },
  {
   "cell_type": "code",
   "execution_count": 36,
   "id": "e398d6c6",
   "metadata": {},
   "outputs": [
    {
     "name": "stdout",
     "output_type": "stream",
     "text": [
      "Results of Dickey-Fuller Test:\n",
      "Test Statistic                  -5.259048\n",
      "p-value                          0.000007\n",
      "#Lags Used                       3.000000\n",
      "Number of Observations Used    194.000000\n",
      "Critical Value (1%)             -3.464515\n",
      "Critical Value (5%)             -2.876556\n",
      "Critical Value (10%)            -2.574775\n",
      "dtype: float64\n"
     ]
    }
   ],
   "source": [
    "# Product 6\n",
    "adf_test(product6)"
   ]
  },
  {
   "cell_type": "markdown",
   "id": "852f4888",
   "metadata": {},
   "source": [
    "## All of the products are stationary based on the Augmented Dickey-Fuller Test."
   ]
  },
  {
   "cell_type": "markdown",
   "id": "f65bb587",
   "metadata": {},
   "source": [
    "## ARIMA Model"
   ]
  },
  {
   "cell_type": "code",
   "execution_count": 37,
   "id": "7b4662a5",
   "metadata": {},
   "outputs": [
    {
     "data": {
      "text/html": [
       "<div>\n",
       "<style scoped>\n",
       "    .dataframe tbody tr th:only-of-type {\n",
       "        vertical-align: middle;\n",
       "    }\n",
       "\n",
       "    .dataframe tbody tr th {\n",
       "        vertical-align: top;\n",
       "    }\n",
       "\n",
       "    .dataframe thead th {\n",
       "        text-align: right;\n",
       "    }\n",
       "</style>\n",
       "<table border=\"1\" class=\"dataframe\">\n",
       "  <thead>\n",
       "    <tr style=\"text-align: right;\">\n",
       "      <th></th>\n",
       "      <th>Sales</th>\n",
       "    </tr>\n",
       "    <tr>\n",
       "      <th>date</th>\n",
       "      <th></th>\n",
       "    </tr>\n",
       "  </thead>\n",
       "  <tbody>\n",
       "    <tr>\n",
       "      <th>2017-02-05</th>\n",
       "      <td>27750</td>\n",
       "    </tr>\n",
       "    <tr>\n",
       "      <th>2017-02-12</th>\n",
       "      <td>29023</td>\n",
       "    </tr>\n",
       "    <tr>\n",
       "      <th>2017-02-19</th>\n",
       "      <td>45630</td>\n",
       "    </tr>\n",
       "  </tbody>\n",
       "</table>\n",
       "</div>"
      ],
      "text/plain": [
       "            Sales\n",
       "date             \n",
       "2017-02-05  27750\n",
       "2017-02-12  29023\n",
       "2017-02-19  45630"
      ]
     },
     "execution_count": 37,
     "metadata": {},
     "output_type": "execute_result"
    }
   ],
   "source": [
    "product1.head(3)"
   ]
  },
  {
   "cell_type": "code",
   "execution_count": 38,
   "id": "b5df127d",
   "metadata": {},
   "outputs": [
    {
     "name": "stdout",
     "output_type": "stream",
     "text": [
      "predicted=36816.428264, expected=25936.000000\n",
      "predicted=40447.770602, expected=54655.000000\n",
      "predicted=36665.144253, expected=119393.000000\n",
      "predicted=54825.286333, expected=32373.000000\n",
      "predicted=70717.266917, expected=52964.000000\n",
      "predicted=52305.769730, expected=94633.000000\n",
      "predicted=67722.210105, expected=33665.000000\n",
      "predicted=70946.262854, expected=36955.000000\n",
      "predicted=49734.163449, expected=0.000000\n",
      "predicted=44191.178659, expected=23891.000000\n",
      "predicted=27172.205216, expected=49314.000000\n",
      "predicted=26859.684612, expected=77842.000000\n",
      "predicted=38719.442094, expected=39290.000000\n",
      "predicted=47259.049368, expected=41141.000000\n",
      "predicted=45611.457063, expected=51305.000000\n",
      "predicted=50265.807868, expected=55980.000000\n",
      "predicted=51598.464351, expected=43689.000000\n",
      "predicted=48416.439236, expected=31850.000000\n",
      "predicted=45022.990187, expected=33908.000000\n",
      "predicted=41178.859485, expected=72587.000000\n",
      "predicted=44143.870561, expected=26410.000000\n",
      "predicted=47875.710855, expected=80431.000000\n",
      "predicted=43759.074354, expected=59037.000000\n",
      "predicted=60828.560270, expected=49531.000000\n",
      "predicted=56966.332088, expected=31099.000000\n",
      "predicted=51315.921888, expected=26045.000000\n",
      "predicted=45121.106172, expected=30877.000000\n",
      "predicted=36250.185813, expected=67966.000000\n",
      "predicted=38276.330793, expected=55431.000000\n",
      "predicted=47397.527522, expected=30099.000000\n",
      "predicted=44816.121999, expected=49036.000000\n",
      "predicted=44230.625943, expected=33308.000000\n",
      "predicted=47514.034785, expected=31866.000000\n",
      "predicted=38006.048072, expected=34526.000000\n",
      "predicted=35464.215218, expected=35191.000000\n",
      "predicted=35955.622347, expected=40420.000000\n",
      "predicted=35009.630686, expected=36072.000000\n",
      "predicted=36658.402613, expected=69480.000000\n",
      "predicted=41511.937248, expected=67770.000000\n",
      "predicted=53998.400660, expected=86576.000000\n",
      "predicted=61776.192666, expected=52126.000000\n",
      "predicted=68296.545787, expected=0.000000\n",
      "predicted=53843.117273, expected=52048.000000\n",
      "predicted=41945.014045, expected=34918.000000\n",
      "predicted=46580.079943, expected=42032.000000\n",
      "predicted=34837.243709, expected=109917.000000\n",
      "predicted=47812.197562, expected=28997.000000\n",
      "predicted=65135.533674, expected=50471.000000\n",
      "predicted=48231.943456, expected=25446.000000\n",
      "predicted=51654.161795, expected=79050.000000\n",
      "predicted=51723.109920, expected=58185.000000\n",
      "predicted=54952.429046, expected=46829.000000\n",
      "predicted=52387.081159, expected=32717.000000\n",
      "predicted=48397.574250, expected=29731.000000\n",
      "predicted=46277.320731, expected=34303.000000\n",
      "predicted=38509.650553, expected=46628.000000\n",
      "predicted=37498.487783, expected=43976.000000\n",
      "predicted=39265.750679, expected=60365.000000\n",
      "predicted=43088.171645, expected=50644.000000\n",
      "predicted=49862.365677, expected=25445.000000\n",
      "predicted=45934.867248, expected=51818.000000\n",
      "predicted=42419.117255, expected=29177.000000\n",
      "predicted=45617.500040, expected=174994.000000\n",
      "predicted=58140.263358, expected=30874.000000\n",
      "predicted=86530.087608, expected=42154.000000\n",
      "predicted=55426.038744, expected=31898.000000\n",
      "predicted=62436.693501, expected=40402.000000\n",
      "predicted=62824.871938, expected=64904.000000\n",
      "predicted=41555.216459, expected=35354.000000\n",
      "predicted=46978.579875, expected=51369.000000\n"
     ]
    }
   ],
   "source": [
    "#split\n",
    "X_train, X_test = train_test_split(product1.values, train_size=0.66, random_state=42)\n",
    "history = [x for x in X_train]\n",
    "pred3 = list()\n",
    "\n",
    "\n",
    "# walk-forward validation\n",
    "for t in range(len(X_test)):\n",
    "    model = ARIMA(history, order=(4,1,0))\n",
    "    model_fit = model.fit()\n",
    "    output = model_fit.forecast()\n",
    "    yhat = output[0]\n",
    "    pred3.append(yhat)\n",
    "    obs = X_test[t]\n",
    "    history.append(obs)\n",
    "    print('predicted=%f, expected=%f' % (yhat, obs))"
   ]
  },
  {
   "cell_type": "code",
   "execution_count": 39,
   "id": "2aa43e74",
   "metadata": {},
   "outputs": [
    {
     "name": "stdout",
     "output_type": "stream",
     "text": [
      "Forecasting Bias or Mean Forecast Error: 111.446458\n",
      "Mean Absolute Error: 21254.212014\n",
      "Mean Squared Error: 899505457.918\n",
      "Root Mean Squared Error: 29991.756\n"
     ]
    }
   ],
   "source": [
    "#evaluated \n",
    "\n",
    "forecast_errors = [X_test[i]-pred3[i] for i in range(len(X_test))]\n",
    "\n",
    "#forecast bias\n",
    "bias =  np.mean(forecast_errors)\n",
    "\n",
    "\n",
    "#Print \n",
    "#print('Forecast Errors: %s' % forecast_errors)\n",
    "print('Forecasting Bias or Mean Forecast Error: %f' % bias)\n",
    "#Evaluations \n",
    "evaluations(X_test, pred3)\n"
   ]
  },
  {
   "cell_type": "markdown",
   "id": "d82e19f6",
   "metadata": {},
   "source": [
    "Based on the <b>forecasting bias</b> the model is under forecasting. \n",
    "\n",
    "Based on the <b>Mean Absolute Error</b>, it is really high. The closer to 0 the better the model can be. \n",
    "\n",
    "The model has a high <b>Mean Squared Error</b>. A mean squared error of zero indicates perfect skill, or no error.\n",
    "\n",
    "The model has a high <b>Root Mean Squared Error</b>.As with the mean squared error, an RMSE of zero indicates no error."
   ]
  },
  {
   "cell_type": "code",
   "execution_count": 40,
   "id": "438e475c",
   "metadata": {},
   "outputs": [
    {
     "name": "stdout",
     "output_type": "stream",
     "text": [
      "                               SARIMAX Results                                \n",
      "==============================================================================\n",
      "Dep. Variable:                      y   No. Observations:                  203\n",
      "Model:                 ARIMA(4, 1, 0)   Log Likelihood               -2377.813\n",
      "Date:                Thu, 21 Sep 2023   AIC                           4765.626\n",
      "Time:                        14:41:41   BIC                           4782.167\n",
      "Sample:                             0   HQIC                          4772.318\n",
      "                                - 203                                         \n",
      "Covariance Type:                  opg                                         \n",
      "==============================================================================\n",
      "                 coef    std err          z      P>|z|      [0.025      0.975]\n",
      "------------------------------------------------------------------------------\n",
      "ar.L1         -0.8472      0.077    -11.063      0.000      -0.997      -0.697\n",
      "ar.L2         -0.4996      0.111     -4.503      0.000      -0.717      -0.282\n",
      "ar.L3         -0.3805      0.114     -3.327      0.001      -0.605      -0.156\n",
      "ar.L4         -0.2014      0.072     -2.809      0.005      -0.342      -0.061\n",
      "sigma2      9.938e+08   4.93e-11   2.01e+19      0.000    9.94e+08    9.94e+08\n",
      "===================================================================================\n",
      "Ljung-Box (L1) (Q):                   0.10   Jarque-Bera (JB):              1794.43\n",
      "Prob(Q):                              0.76   Prob(JB):                         0.00\n",
      "Heteroskedasticity (H):               0.64   Skew:                             2.60\n",
      "Prob(H) (two-sided):                  0.07   Kurtosis:                        16.65\n",
      "===================================================================================\n",
      "\n",
      "Warnings:\n",
      "[1] Covariance matrix calculated using the outer product of gradients (complex-step).\n",
      "[2] Covariance matrix is singular or near-singular, with condition number 5.07e+34. Standard errors may be unstable.\n"
     ]
    }
   ],
   "source": [
    "print(model_fit.summary())"
   ]
  },
  {
   "cell_type": "code",
   "execution_count": 41,
   "id": "743c0038",
   "metadata": {},
   "outputs": [
    {
     "data": {
      "image/png": "[encoded data removed]",
      "text/plain": [
       "<Figure size 640x480 with 1 Axes>"
      ]
     },
     "metadata": {},
     "output_type": "display_data"
    }
   ],
   "source": [
    "# plot forecasts against actual outcomes\n",
    "plt.plot(X_test)\n",
    "plt.plot(pred3, color='red')\n",
    "plt.show()"
   ]
  },
  {
   "cell_type": "markdown",
   "id": "98edb3f6",
   "metadata": {},
   "source": [
    "# Seasonal Autoregressive Integrated Moving-Average (SARIMA)"
   ]
  },
  {
   "cell_type": "code",
   "execution_count": 42,
   "id": "fae2da34",
   "metadata": {},
   "outputs": [
    {
     "data": {
      "text/html": [
       "<div>\n",
       "<style scoped>\n",
       "    .dataframe tbody tr th:only-of-type {\n",
       "        vertical-align: middle;\n",
       "    }\n",
       "\n",
       "    .dataframe tbody tr th {\n",
       "        vertical-align: top;\n",
       "    }\n",
       "\n",
       "    .dataframe thead th {\n",
       "        text-align: right;\n",
       "    }\n",
       "</style>\n",
       "<table border=\"1\" class=\"dataframe\">\n",
       "  <thead>\n",
       "    <tr style=\"text-align: right;\">\n",
       "      <th></th>\n",
       "      <th>Sales</th>\n",
       "    </tr>\n",
       "    <tr>\n",
       "      <th>date</th>\n",
       "      <th></th>\n",
       "    </tr>\n",
       "  </thead>\n",
       "  <tbody>\n",
       "    <tr>\n",
       "      <th>2017-02-05</th>\n",
       "      <td>27750</td>\n",
       "    </tr>\n",
       "    <tr>\n",
       "      <th>2017-02-12</th>\n",
       "      <td>29023</td>\n",
       "    </tr>\n",
       "    <tr>\n",
       "      <th>2017-02-19</th>\n",
       "      <td>45630</td>\n",
       "    </tr>\n",
       "    <tr>\n",
       "      <th>2017-02-26</th>\n",
       "      <td>26789</td>\n",
       "    </tr>\n",
       "    <tr>\n",
       "      <th>2017-03-05</th>\n",
       "      <td>41999</td>\n",
       "    </tr>\n",
       "    <tr>\n",
       "      <th>...</th>\n",
       "      <td>...</td>\n",
       "    </tr>\n",
       "    <tr>\n",
       "      <th>2020-11-29</th>\n",
       "      <td>0</td>\n",
       "    </tr>\n",
       "    <tr>\n",
       "      <th>2020-12-06</th>\n",
       "      <td>0</td>\n",
       "    </tr>\n",
       "    <tr>\n",
       "      <th>2020-12-13</th>\n",
       "      <td>0</td>\n",
       "    </tr>\n",
       "    <tr>\n",
       "      <th>2020-12-20</th>\n",
       "      <td>0</td>\n",
       "    </tr>\n",
       "    <tr>\n",
       "      <th>2020-12-27</th>\n",
       "      <td>0</td>\n",
       "    </tr>\n",
       "  </tbody>\n",
       "</table>\n",
       "<p>204 rows × 1 columns</p>\n",
       "</div>"
      ],
      "text/plain": [
       "            Sales\n",
       "date             \n",
       "2017-02-05  27750\n",
       "2017-02-12  29023\n",
       "2017-02-19  45630\n",
       "2017-02-26  26789\n",
       "2017-03-05  41999\n",
       "...           ...\n",
       "2020-11-29      0\n",
       "2020-12-06      0\n",
       "2020-12-13      0\n",
       "2020-12-20      0\n",
       "2020-12-27      0\n",
       "\n",
       "[204 rows x 1 columns]"
      ]
     },
     "execution_count": 42,
     "metadata": {},
     "output_type": "execute_result"
    }
   ],
   "source": [
    "product1"
   ]
  },
  {
   "cell_type": "code",
   "execution_count": 43,
   "id": "dd1a3b3b",
   "metadata": {},
   "outputs": [],
   "source": [
    "train_data = product1.iloc[:-12]\n",
    "test_data = product1.iloc[-12:]"
   ]
  },
  {
   "cell_type": "code",
   "execution_count": 44,
   "id": "119d8aef",
   "metadata": {},
   "outputs": [
    {
     "name": "stderr",
     "output_type": "stream",
     "text": [
      "/Users/kierradangerfield/opt/anaconda3/lib/python3.9/site-packages/statsmodels/tsa/base/tsa_model.py:473: ValueWarning: No frequency information was provided, so inferred frequency W-SUN will be used.\n",
      "  self._init_dates(dates, freq)\n",
      "/Users/kierradangerfield/opt/anaconda3/lib/python3.9/site-packages/statsmodels/tsa/base/tsa_model.py:473: ValueWarning: No frequency information was provided, so inferred frequency W-SUN will be used.\n",
      "  self._init_dates(dates, freq)\n",
      " This problem is unconstrained.\n"
     ]
    },
    {
     "name": "stdout",
     "output_type": "stream",
     "text": [
      "RUNNING THE L-BFGS-B CODE\n",
      "\n",
      "           * * *\n",
      "\n",
      "Machine precision = 2.220D-16\n",
      " N =            5     M =           10\n",
      "\n",
      "At X0         0 variables are exactly at the bounds\n",
      "\n",
      "At iterate    0    f=  1.09729D+01    |proj g|=  3.58384D-02\n",
      "\n",
      "At iterate    5    f=  1.09401D+01    |proj g|=  3.50565D-03\n",
      "\n",
      "At iterate   10    f=  1.09390D+01    |proj g|=  1.10468D-05\n",
      "\n",
      "           * * *\n",
      "\n",
      "Tit   = total number of iterations\n",
      "Tnf   = total number of function evaluations\n",
      "Tnint = total number of segments explored during Cauchy searches\n",
      "Skip  = number of BFGS updates skipped\n",
      "Nact  = number of active bounds at final generalized Cauchy point\n",
      "Projg = norm of the final projected gradient\n",
      "F     = final function value\n",
      "\n",
      "           * * *\n",
      "\n",
      "   N    Tit     Tnf  Tnint  Skip  Nact     Projg        F\n",
      "    5     11     12      1     0     0   1.105D-05   1.094D+01\n",
      "  F =   10.939038971957686     \n",
      "\n",
      "CONVERGENCE: REL_REDUCTION_OF_F_<=_FACTR*EPSMCH             \n"
     ]
    }
   ],
   "source": [
    "model = SARIMAX(\n",
    "train_data['Sales'], order =(1, 1, 1), seasonal_order=(1, 1, 1, 12))\n",
    "\n",
    "result = model.fit()"
   ]
  },
  {
   "cell_type": "code",
   "execution_count": 45,
   "id": "fc7f030c",
   "metadata": {},
   "outputs": [
    {
     "name": "stdout",
     "output_type": "stream",
     "text": [
      "Mean Absolute Error: 26299.801317\n",
      "Mean Squared Error: 1092712027.966\n",
      "Root Mean Squared Error: 33056.195\n"
     ]
    }
   ],
   "source": [
    "forecast = result.get_forecast(steps=12)\n",
    "predicted_demand = forecast.predicted_mean\n",
    "\n",
    "evaluations(test_data, predicted_demand)"
   ]
  },
  {
   "cell_type": "code",
   "execution_count": 46,
   "id": "5c094656",
   "metadata": {},
   "outputs": [
    {
     "data": {
      "image/png": "[encoded data removed]",
      "text/plain": [
       "<Figure size 640x480 with 1 Axes>"
      ]
     },
     "metadata": {},
     "output_type": "display_data"
    }
   ],
   "source": [
    "plt.plot(test_data, label='Actual Sales')\n",
    "plt.plot(predicted_demand, label='Predicted Sales')\n",
    "plt.legend()\n",
    "plt.show()"
   ]
  },
  {
   "cell_type": "markdown",
   "id": "72fe69d5",
   "metadata": {},
   "source": [
    "# Recommendations"
   ]
  },
  {
   "cell_type": "markdown",
   "id": "9909a50e",
   "metadata": {},
   "source": [
    "• Discount and WeekNum are the two most important features. \n",
    "\n",
    "• The Random Forest model performed the best with a Mean Absolute error of 7,616.85 for product1. I would suggest to get more data for each product to help build a better model."
   ]
  },
  {
   "cell_type": "code",
   "execution_count": null,
   "id": "c8861292",
   "metadata": {},
   "outputs": [],
   "source": []
  }
 ],
 "metadata": {
  "kernelspec": {
   "display_name": "Python 3 (ipykernel)",
   "language": "python",
   "name": "python3"
  },
  "language_info": {
   "codemirror_mode": {
    "name": "ipython",
    "version": 3
   },
   "file_extension": ".py",
   "mimetype": "text/x-python",
   "name": "python",
   "nbconvert_exporter": "python",
   "pygments_lexer": "ipython3",
   "version": "3.9.17"
  }
 },
 "nbformat": 4,
 "nbformat_minor": 5
}
