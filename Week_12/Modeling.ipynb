{
 "cells": [
  {
   "cell_type": "markdown",
   "id": "f2234a99",
   "metadata": {},
   "source": [
    "# Retail Forecasting\n",
    "\n",
    "## Problem Statement:\n",
    "The large company who is into beverages business in Australia. They sell their products through various super-markets and also engage into heavy promotions throughout the year. Their demand is also influenced by various factors like holiday, seasonality. They needed forecast of each of products at item level every week in weekly buckets."
   ]
  },
  {
   "cell_type": "code",
   "execution_count": 36,
   "id": "d5ec3cdc",
   "metadata": {},
   "outputs": [],
   "source": [
    "import numpy as np\n",
    "import pandas as pd\n",
    "import datetime\n",
    "from statsmodels.tsa.arima.model import ARIMA\n",
    "from matplotlib import pyplot as plt\n",
    "import statsmodels.api as sm\n",
    "from statsmodels.tsa.stattools import adfuller\n",
    "from sklearn.metrics import mean_squared_error, mean_absolute_error"
   ]
  },
  {
   "cell_type": "code",
   "execution_count": 2,
   "id": "4107bd03",
   "metadata": {},
   "outputs": [
    {
     "data": {
      "text/html": [
       "<div>\n",
       "<style scoped>\n",
       "    .dataframe tbody tr th:only-of-type {\n",
       "        vertical-align: middle;\n",
       "    }\n",
       "\n",
       "    .dataframe tbody tr th {\n",
       "        vertical-align: top;\n",
       "    }\n",
       "\n",
       "    .dataframe thead th {\n",
       "        text-align: right;\n",
       "    }\n",
       "</style>\n",
       "<table border=\"1\" class=\"dataframe\">\n",
       "  <thead>\n",
       "    <tr style=\"text-align: right;\">\n",
       "      <th></th>\n",
       "      <th>Unnamed: 0</th>\n",
       "      <th>Product</th>\n",
       "      <th>date</th>\n",
       "      <th>Sales</th>\n",
       "      <th>Discount</th>\n",
       "      <th>In-Store Promo</th>\n",
       "      <th>Catalogue Promo</th>\n",
       "      <th>Store End Promo</th>\n",
       "      <th>Google_Mobility</th>\n",
       "      <th>Covid_Flag</th>\n",
       "      <th>V_DAY</th>\n",
       "      <th>EASTER</th>\n",
       "      <th>CHRISTMAS</th>\n",
       "      <th>DayOfWeek</th>\n",
       "      <th>Quarter</th>\n",
       "      <th>WeekNum</th>\n",
       "    </tr>\n",
       "  </thead>\n",
       "  <tbody>\n",
       "    <tr>\n",
       "      <th>0</th>\n",
       "      <td>0</td>\n",
       "      <td>SKU1</td>\n",
       "      <td>2017-02-05</td>\n",
       "      <td>27750</td>\n",
       "      <td>0.00</td>\n",
       "      <td>0</td>\n",
       "      <td>0</td>\n",
       "      <td>0</td>\n",
       "      <td>0.0</td>\n",
       "      <td>0</td>\n",
       "      <td>0</td>\n",
       "      <td>0</td>\n",
       "      <td>0</td>\n",
       "      <td>Sunday</td>\n",
       "      <td>1</td>\n",
       "      <td>5</td>\n",
       "    </tr>\n",
       "    <tr>\n",
       "      <th>1</th>\n",
       "      <td>1</td>\n",
       "      <td>SKU1</td>\n",
       "      <td>2017-02-12</td>\n",
       "      <td>29023</td>\n",
       "      <td>0.00</td>\n",
       "      <td>1</td>\n",
       "      <td>0</td>\n",
       "      <td>1</td>\n",
       "      <td>0.0</td>\n",
       "      <td>0</td>\n",
       "      <td>1</td>\n",
       "      <td>0</td>\n",
       "      <td>0</td>\n",
       "      <td>Sunday</td>\n",
       "      <td>1</td>\n",
       "      <td>6</td>\n",
       "    </tr>\n",
       "    <tr>\n",
       "      <th>2</th>\n",
       "      <td>2</td>\n",
       "      <td>SKU1</td>\n",
       "      <td>2017-02-19</td>\n",
       "      <td>45630</td>\n",
       "      <td>0.17</td>\n",
       "      <td>0</td>\n",
       "      <td>0</td>\n",
       "      <td>0</td>\n",
       "      <td>0.0</td>\n",
       "      <td>0</td>\n",
       "      <td>0</td>\n",
       "      <td>0</td>\n",
       "      <td>0</td>\n",
       "      <td>Sunday</td>\n",
       "      <td>1</td>\n",
       "      <td>7</td>\n",
       "    </tr>\n",
       "  </tbody>\n",
       "</table>\n",
       "</div>"
      ],
      "text/plain": [
       "   Unnamed: 0 Product        date  Sales  Discount  In-Store Promo  \\\n",
       "0           0    SKU1  2017-02-05  27750      0.00               0   \n",
       "1           1    SKU1  2017-02-12  29023      0.00               1   \n",
       "2           2    SKU1  2017-02-19  45630      0.17               0   \n",
       "\n",
       "   Catalogue Promo  Store End Promo  Google_Mobility  Covid_Flag  V_DAY  \\\n",
       "0                0                0              0.0           0      0   \n",
       "1                0                1              0.0           0      1   \n",
       "2                0                0              0.0           0      0   \n",
       "\n",
       "   EASTER  CHRISTMAS DayOfWeek  Quarter  WeekNum  \n",
       "0       0          0    Sunday        1        5  \n",
       "1       0          0    Sunday        1        6  \n",
       "2       0          0    Sunday        1        7  "
      ]
     },
     "execution_count": 2,
     "metadata": {},
     "output_type": "execute_result"
    }
   ],
   "source": [
    "forecast = pd.read_csv('./Data/newForecast.csv')\n",
    "forecast.head(3)"
   ]
  },
  {
   "cell_type": "code",
   "execution_count": 3,
   "id": "5b349bc1",
   "metadata": {},
   "outputs": [],
   "source": [
    "forecast['date'] = pd.to_datetime(forecast['date'])"
   ]
  },
  {
   "cell_type": "code",
   "execution_count": 4,
   "id": "10c4d5ee",
   "metadata": {},
   "outputs": [
    {
     "data": {
      "text/html": [
       "<div>\n",
       "<style scoped>\n",
       "    .dataframe tbody tr th:only-of-type {\n",
       "        vertical-align: middle;\n",
       "    }\n",
       "\n",
       "    .dataframe tbody tr th {\n",
       "        vertical-align: top;\n",
       "    }\n",
       "\n",
       "    .dataframe thead th {\n",
       "        text-align: right;\n",
       "    }\n",
       "</style>\n",
       "<table border=\"1\" class=\"dataframe\">\n",
       "  <thead>\n",
       "    <tr style=\"text-align: right;\">\n",
       "      <th></th>\n",
       "      <th>Product</th>\n",
       "      <th>date</th>\n",
       "      <th>Sales</th>\n",
       "      <th>Discount</th>\n",
       "      <th>In-Store Promo</th>\n",
       "      <th>Catalogue Promo</th>\n",
       "      <th>Store End Promo</th>\n",
       "      <th>Google_Mobility</th>\n",
       "      <th>Covid_Flag</th>\n",
       "      <th>V_DAY</th>\n",
       "      <th>EASTER</th>\n",
       "      <th>CHRISTMAS</th>\n",
       "      <th>DayOfWeek</th>\n",
       "      <th>Quarter</th>\n",
       "      <th>WeekNum</th>\n",
       "    </tr>\n",
       "  </thead>\n",
       "  <tbody>\n",
       "    <tr>\n",
       "      <th>0</th>\n",
       "      <td>SKU1</td>\n",
       "      <td>2017-02-05</td>\n",
       "      <td>27750</td>\n",
       "      <td>0.00</td>\n",
       "      <td>0</td>\n",
       "      <td>0</td>\n",
       "      <td>0</td>\n",
       "      <td>0.0</td>\n",
       "      <td>0</td>\n",
       "      <td>0</td>\n",
       "      <td>0</td>\n",
       "      <td>0</td>\n",
       "      <td>Sunday</td>\n",
       "      <td>1</td>\n",
       "      <td>5</td>\n",
       "    </tr>\n",
       "    <tr>\n",
       "      <th>1</th>\n",
       "      <td>SKU1</td>\n",
       "      <td>2017-02-12</td>\n",
       "      <td>29023</td>\n",
       "      <td>0.00</td>\n",
       "      <td>1</td>\n",
       "      <td>0</td>\n",
       "      <td>1</td>\n",
       "      <td>0.0</td>\n",
       "      <td>0</td>\n",
       "      <td>1</td>\n",
       "      <td>0</td>\n",
       "      <td>0</td>\n",
       "      <td>Sunday</td>\n",
       "      <td>1</td>\n",
       "      <td>6</td>\n",
       "    </tr>\n",
       "    <tr>\n",
       "      <th>2</th>\n",
       "      <td>SKU1</td>\n",
       "      <td>2017-02-19</td>\n",
       "      <td>45630</td>\n",
       "      <td>0.17</td>\n",
       "      <td>0</td>\n",
       "      <td>0</td>\n",
       "      <td>0</td>\n",
       "      <td>0.0</td>\n",
       "      <td>0</td>\n",
       "      <td>0</td>\n",
       "      <td>0</td>\n",
       "      <td>0</td>\n",
       "      <td>Sunday</td>\n",
       "      <td>1</td>\n",
       "      <td>7</td>\n",
       "    </tr>\n",
       "  </tbody>\n",
       "</table>\n",
       "</div>"
      ],
      "text/plain": [
       "  Product       date  Sales  Discount  In-Store Promo  Catalogue Promo  \\\n",
       "0    SKU1 2017-02-05  27750      0.00               0                0   \n",
       "1    SKU1 2017-02-12  29023      0.00               1                0   \n",
       "2    SKU1 2017-02-19  45630      0.17               0                0   \n",
       "\n",
       "   Store End Promo  Google_Mobility  Covid_Flag  V_DAY  EASTER  CHRISTMAS  \\\n",
       "0                0              0.0           0      0       0          0   \n",
       "1                1              0.0           0      1       0          0   \n",
       "2                0              0.0           0      0       0          0   \n",
       "\n",
       "  DayOfWeek  Quarter  WeekNum  \n",
       "0    Sunday        1        5  \n",
       "1    Sunday        1        6  \n",
       "2    Sunday        1        7  "
      ]
     },
     "execution_count": 4,
     "metadata": {},
     "output_type": "execute_result"
    }
   ],
   "source": [
    "forecast.drop('Unnamed: 0', axis=1, inplace=True)\n",
    "forecast.head(3)"
   ]
  },
  {
   "cell_type": "code",
   "execution_count": 5,
   "id": "0a60e957",
   "metadata": {},
   "outputs": [
    {
     "name": "stdout",
     "output_type": "stream",
     "text": [
      "<class 'pandas.core.frame.DataFrame'>\n",
      "RangeIndex: 1218 entries, 0 to 1217\n",
      "Data columns (total 15 columns):\n",
      " #   Column           Non-Null Count  Dtype         \n",
      "---  ------           --------------  -----         \n",
      " 0   Product          1218 non-null   object        \n",
      " 1   date             1218 non-null   datetime64[ns]\n",
      " 2   Sales            1218 non-null   int64         \n",
      " 3   Discount         1218 non-null   float64       \n",
      " 4   In-Store Promo   1218 non-null   int64         \n",
      " 5   Catalogue Promo  1218 non-null   int64         \n",
      " 6   Store End Promo  1218 non-null   int64         \n",
      " 7   Google_Mobility  1218 non-null   float64       \n",
      " 8   Covid_Flag       1218 non-null   int64         \n",
      " 9   V_DAY            1218 non-null   int64         \n",
      " 10  EASTER           1218 non-null   int64         \n",
      " 11  CHRISTMAS        1218 non-null   int64         \n",
      " 12  DayOfWeek        1218 non-null   object        \n",
      " 13  Quarter          1218 non-null   int64         \n",
      " 14  WeekNum          1218 non-null   int64         \n",
      "dtypes: datetime64[ns](1), float64(2), int64(10), object(2)\n",
      "memory usage: 142.9+ KB\n"
     ]
    }
   ],
   "source": [
    "forecast.info()"
   ]
  },
  {
   "cell_type": "markdown",
   "id": "d7867a0e",
   "metadata": {},
   "source": [
    "# Add Year and Month"
   ]
  },
  {
   "cell_type": "code",
   "execution_count": 6,
   "id": "664365d0",
   "metadata": {},
   "outputs": [
    {
     "data": {
      "text/html": [
       "<div>\n",
       "<style scoped>\n",
       "    .dataframe tbody tr th:only-of-type {\n",
       "        vertical-align: middle;\n",
       "    }\n",
       "\n",
       "    .dataframe tbody tr th {\n",
       "        vertical-align: top;\n",
       "    }\n",
       "\n",
       "    .dataframe thead th {\n",
       "        text-align: right;\n",
       "    }\n",
       "</style>\n",
       "<table border=\"1\" class=\"dataframe\">\n",
       "  <thead>\n",
       "    <tr style=\"text-align: right;\">\n",
       "      <th></th>\n",
       "      <th>Product</th>\n",
       "      <th>date</th>\n",
       "      <th>Sales</th>\n",
       "      <th>Discount</th>\n",
       "      <th>In-Store Promo</th>\n",
       "      <th>Catalogue Promo</th>\n",
       "      <th>Store End Promo</th>\n",
       "      <th>Google_Mobility</th>\n",
       "      <th>Covid_Flag</th>\n",
       "      <th>V_DAY</th>\n",
       "      <th>EASTER</th>\n",
       "      <th>CHRISTMAS</th>\n",
       "      <th>DayOfWeek</th>\n",
       "      <th>Quarter</th>\n",
       "      <th>WeekNum</th>\n",
       "      <th>Year</th>\n",
       "      <th>Month</th>\n",
       "    </tr>\n",
       "  </thead>\n",
       "  <tbody>\n",
       "    <tr>\n",
       "      <th>0</th>\n",
       "      <td>SKU1</td>\n",
       "      <td>2017-02-05</td>\n",
       "      <td>27750</td>\n",
       "      <td>0.00</td>\n",
       "      <td>0</td>\n",
       "      <td>0</td>\n",
       "      <td>0</td>\n",
       "      <td>0.0</td>\n",
       "      <td>0</td>\n",
       "      <td>0</td>\n",
       "      <td>0</td>\n",
       "      <td>0</td>\n",
       "      <td>Sunday</td>\n",
       "      <td>1</td>\n",
       "      <td>5</td>\n",
       "      <td>2017</td>\n",
       "      <td>2</td>\n",
       "    </tr>\n",
       "    <tr>\n",
       "      <th>1</th>\n",
       "      <td>SKU1</td>\n",
       "      <td>2017-02-12</td>\n",
       "      <td>29023</td>\n",
       "      <td>0.00</td>\n",
       "      <td>1</td>\n",
       "      <td>0</td>\n",
       "      <td>1</td>\n",
       "      <td>0.0</td>\n",
       "      <td>0</td>\n",
       "      <td>1</td>\n",
       "      <td>0</td>\n",
       "      <td>0</td>\n",
       "      <td>Sunday</td>\n",
       "      <td>1</td>\n",
       "      <td>6</td>\n",
       "      <td>2017</td>\n",
       "      <td>2</td>\n",
       "    </tr>\n",
       "    <tr>\n",
       "      <th>2</th>\n",
       "      <td>SKU1</td>\n",
       "      <td>2017-02-19</td>\n",
       "      <td>45630</td>\n",
       "      <td>0.17</td>\n",
       "      <td>0</td>\n",
       "      <td>0</td>\n",
       "      <td>0</td>\n",
       "      <td>0.0</td>\n",
       "      <td>0</td>\n",
       "      <td>0</td>\n",
       "      <td>0</td>\n",
       "      <td>0</td>\n",
       "      <td>Sunday</td>\n",
       "      <td>1</td>\n",
       "      <td>7</td>\n",
       "      <td>2017</td>\n",
       "      <td>2</td>\n",
       "    </tr>\n",
       "  </tbody>\n",
       "</table>\n",
       "</div>"
      ],
      "text/plain": [
       "  Product       date  Sales  Discount  In-Store Promo  Catalogue Promo  \\\n",
       "0    SKU1 2017-02-05  27750      0.00               0                0   \n",
       "1    SKU1 2017-02-12  29023      0.00               1                0   \n",
       "2    SKU1 2017-02-19  45630      0.17               0                0   \n",
       "\n",
       "   Store End Promo  Google_Mobility  Covid_Flag  V_DAY  EASTER  CHRISTMAS  \\\n",
       "0                0              0.0           0      0       0          0   \n",
       "1                1              0.0           0      1       0          0   \n",
       "2                0              0.0           0      0       0          0   \n",
       "\n",
       "  DayOfWeek  Quarter  WeekNum  Year  Month  \n",
       "0    Sunday        1        5  2017      2  \n",
       "1    Sunday        1        6  2017      2  \n",
       "2    Sunday        1        7  2017      2  "
      ]
     },
     "execution_count": 6,
     "metadata": {},
     "output_type": "execute_result"
    }
   ],
   "source": [
    "forecast['Year'] = forecast['date'].dt.year\n",
    "forecast['Month'] = forecast['date'].dt.month\n",
    "forecast.head(3)"
   ]
  },
  {
   "cell_type": "markdown",
   "id": "c0a83198",
   "metadata": {},
   "source": [
    "# Modeling"
   ]
  },
  {
   "cell_type": "code",
   "execution_count": 7,
   "id": "96e541b0",
   "metadata": {},
   "outputs": [
    {
     "data": {
      "text/html": [
       "<div>\n",
       "<style scoped>\n",
       "    .dataframe tbody tr th:only-of-type {\n",
       "        vertical-align: middle;\n",
       "    }\n",
       "\n",
       "    .dataframe tbody tr th {\n",
       "        vertical-align: top;\n",
       "    }\n",
       "\n",
       "    .dataframe thead th {\n",
       "        text-align: right;\n",
       "    }\n",
       "</style>\n",
       "<table border=\"1\" class=\"dataframe\">\n",
       "  <thead>\n",
       "    <tr style=\"text-align: right;\">\n",
       "      <th></th>\n",
       "      <th>Product</th>\n",
       "      <th>date</th>\n",
       "      <th>Sales</th>\n",
       "    </tr>\n",
       "  </thead>\n",
       "  <tbody>\n",
       "    <tr>\n",
       "      <th>0</th>\n",
       "      <td>SKU1</td>\n",
       "      <td>2017-02-05</td>\n",
       "      <td>27750</td>\n",
       "    </tr>\n",
       "    <tr>\n",
       "      <th>1</th>\n",
       "      <td>SKU1</td>\n",
       "      <td>2017-02-12</td>\n",
       "      <td>29023</td>\n",
       "    </tr>\n",
       "    <tr>\n",
       "      <th>2</th>\n",
       "      <td>SKU1</td>\n",
       "      <td>2017-02-19</td>\n",
       "      <td>45630</td>\n",
       "    </tr>\n",
       "    <tr>\n",
       "      <th>3</th>\n",
       "      <td>SKU1</td>\n",
       "      <td>2017-02-26</td>\n",
       "      <td>26789</td>\n",
       "    </tr>\n",
       "    <tr>\n",
       "      <th>4</th>\n",
       "      <td>SKU1</td>\n",
       "      <td>2017-03-05</td>\n",
       "      <td>41999</td>\n",
       "    </tr>\n",
       "  </tbody>\n",
       "</table>\n",
       "</div>"
      ],
      "text/plain": [
       "  Product       date  Sales\n",
       "0    SKU1 2017-02-05  27750\n",
       "1    SKU1 2017-02-12  29023\n",
       "2    SKU1 2017-02-19  45630\n",
       "3    SKU1 2017-02-26  26789\n",
       "4    SKU1 2017-03-05  41999"
      ]
     },
     "execution_count": 7,
     "metadata": {},
     "output_type": "execute_result"
    }
   ],
   "source": [
    "forecast = forecast[[\"Product\", \"date\", \"Sales\"]]\n",
    "forecast.head()"
   ]
  },
  {
   "cell_type": "code",
   "execution_count": 8,
   "id": "cbba8b23",
   "metadata": {},
   "outputs": [
    {
     "data": {
      "image/png": "[encoded data removed]",
      "text/plain": [
       "<Figure size 640x480 with 1 Axes>"
      ]
     },
     "metadata": {},
     "output_type": "display_data"
    }
   ],
   "source": [
    "forecast.plot()\n",
    "plt.show()"
   ]
  },
  {
   "cell_type": "code",
   "execution_count": 9,
   "id": "86513e36",
   "metadata": {},
   "outputs": [],
   "source": [
    "#seperate by product\n",
    "\n",
    "product1 = forecast[forecast[\"Product\"] == \"SKU1\"]\n",
    "product2 = forecast[forecast[\"Product\"] == \"SKU2\"]\n",
    "product3 = forecast[forecast[\"Product\"] == \"SKU3\"]\n",
    "product4 = forecast[forecast[\"Product\"] == \"SKU4\"]\n",
    "product5 = forecast[forecast[\"Product\"] == \"SKU5\"]\n",
    "product6 = forecast[forecast[\"Product\"] == \"SKU6\"]"
   ]
  },
  {
   "cell_type": "markdown",
   "id": "2f33fd5d",
   "metadata": {},
   "source": [
    "I will focus on product 1 for simplicity for now\n",
    "\n",
    "## Stat test if it is stationary or not  using Augmented Dickey-Fuller Test"
   ]
  },
  {
   "cell_type": "code",
   "execution_count": 10,
   "id": "195ff3c0",
   "metadata": {},
   "outputs": [],
   "source": [
    "# ADF Test\n",
    "# Function to print out results in customised manner\n",
    "def adf_test(df):\n",
    "    \n",
    "    df.index = df['date']\n",
    "\n",
    "    # Check the data type\n",
    "    del df['date']\n",
    "    del df[\"Product\"]\n",
    "    # View the dataset\n",
    "    #df.head()\n",
    "    \n",
    "    timeseries = df[\"Sales\"]\n",
    "    \n",
    "    print ('Results of Dickey-Fuller Test:')\n",
    "    dftest = adfuller(timeseries, autolag='AIC')\n",
    "    dfoutput = pd.Series(dftest[0:4], index=['Test Statistic','p-value','#Lags Used','Number of Observations Used'])\n",
    "    for key,value in dftest[4].items():\n",
    "        dfoutput['Critical Value (%s)'%key] = value\n",
    "    print (dfoutput)"
   ]
  },
  {
   "cell_type": "code",
   "execution_count": 11,
   "id": "bb36d385",
   "metadata": {},
   "outputs": [
    {
     "name": "stdout",
     "output_type": "stream",
     "text": [
      "Results of Dickey-Fuller Test:\n",
      "Test Statistic                -8.709707e+00\n",
      "p-value                        3.618957e-14\n",
      "#Lags Used                     0.000000e+00\n",
      "Number of Observations Used    2.030000e+02\n",
      "Critical Value (1%)           -3.462980e+00\n",
      "Critical Value (5%)           -2.875885e+00\n",
      "Critical Value (10%)          -2.574416e+00\n",
      "dtype: float64\n"
     ]
    }
   ],
   "source": [
    "#product 1\n",
    "adf_test(product1)"
   ]
  },
  {
   "cell_type": "code",
   "execution_count": 12,
   "id": "e227fdec",
   "metadata": {},
   "outputs": [
    {
     "name": "stdout",
     "output_type": "stream",
     "text": [
      "Results of Dickey-Fuller Test:\n",
      "Test Statistic                -1.510105e+01\n",
      "p-value                        7.939761e-28\n",
      "#Lags Used                     0.000000e+00\n",
      "Number of Observations Used    2.030000e+02\n",
      "Critical Value (1%)           -3.462980e+00\n",
      "Critical Value (5%)           -2.875885e+00\n",
      "Critical Value (10%)          -2.574416e+00\n",
      "dtype: float64\n"
     ]
    }
   ],
   "source": [
    "# Product 2\n",
    "adf_test(product2)"
   ]
  },
  {
   "cell_type": "code",
   "execution_count": 13,
   "id": "e38c4e64",
   "metadata": {},
   "outputs": [
    {
     "name": "stdout",
     "output_type": "stream",
     "text": [
      "Results of Dickey-Fuller Test:\n",
      "Test Statistic                -5.752370e+00\n",
      "p-value                        5.925780e-07\n",
      "#Lags Used                     3.000000e+00\n",
      "Number of Observations Used    2.000000e+02\n",
      "Critical Value (1%)           -3.463476e+00\n",
      "Critical Value (5%)           -2.876102e+00\n",
      "Critical Value (10%)          -2.574532e+00\n",
      "dtype: float64\n"
     ]
    }
   ],
   "source": [
    "# Product 3\n",
    "adf_test(product3)"
   ]
  },
  {
   "cell_type": "code",
   "execution_count": 14,
   "id": "2423c36f",
   "metadata": {},
   "outputs": [
    {
     "name": "stdout",
     "output_type": "stream",
     "text": [
      "Results of Dickey-Fuller Test:\n",
      "Test Statistic                  -5.589760\n",
      "p-value                          0.000001\n",
      "#Lags Used                       3.000000\n",
      "Number of Observations Used    200.000000\n",
      "Critical Value (1%)             -3.463476\n",
      "Critical Value (5%)             -2.876102\n",
      "Critical Value (10%)            -2.574532\n",
      "dtype: float64\n"
     ]
    }
   ],
   "source": [
    "# Product 4\n",
    "adf_test(product4)"
   ]
  },
  {
   "cell_type": "code",
   "execution_count": 15,
   "id": "7aca81f4",
   "metadata": {},
   "outputs": [
    {
     "name": "stdout",
     "output_type": "stream",
     "text": [
      "Results of Dickey-Fuller Test:\n",
      "Test Statistic                  -4.407753\n",
      "p-value                          0.000288\n",
      "#Lags Used                       4.000000\n",
      "Number of Observations Used    199.000000\n",
      "Critical Value (1%)             -3.463645\n",
      "Critical Value (5%)             -2.876176\n",
      "Critical Value (10%)            -2.574572\n",
      "dtype: float64\n"
     ]
    }
   ],
   "source": [
    "# Product 5\n",
    "adf_test(product5)"
   ]
  },
  {
   "cell_type": "code",
   "execution_count": 16,
   "id": "48c18434",
   "metadata": {},
   "outputs": [
    {
     "name": "stdout",
     "output_type": "stream",
     "text": [
      "Results of Dickey-Fuller Test:\n",
      "Test Statistic                  -5.259048\n",
      "p-value                          0.000007\n",
      "#Lags Used                       3.000000\n",
      "Number of Observations Used    194.000000\n",
      "Critical Value (1%)             -3.464515\n",
      "Critical Value (5%)             -2.876556\n",
      "Critical Value (10%)            -2.574775\n",
      "dtype: float64\n"
     ]
    }
   ],
   "source": [
    "# Product 6\n",
    "adf_test(product6)"
   ]
  },
  {
   "cell_type": "code",
   "execution_count": null,
   "id": "e9792148",
   "metadata": {},
   "outputs": [],
   "source": []
  },
  {
   "cell_type": "markdown",
   "id": "a37e0b40",
   "metadata": {},
   "source": [
    "## All of the products are stationary based on the Augmented Dickey-Fuller Test."
   ]
  },
  {
   "cell_type": "markdown",
   "id": "ef7eee6f",
   "metadata": {},
   "source": [
    "## ARIMA"
   ]
  },
  {
   "cell_type": "code",
   "execution_count": 47,
   "id": "7c3ffe9a",
   "metadata": {},
   "outputs": [
    {
     "name": "stdout",
     "output_type": "stream",
     "text": [
      "predicted=34840.119363, expected=85108.000000\n",
      "predicted=58629.083704, expected=44596.000000\n",
      "predicted=50890.991942, expected=30099.000000\n",
      "predicted=39172.102413, expected=46193.000000\n",
      "predicted=36541.612892, expected=31093.000000\n",
      "predicted=48078.576571, expected=31099.000000\n",
      "predicted=37560.204937, expected=31866.000000\n",
      "predicted=31350.620199, expected=31386.000000\n",
      "predicted=35032.360747, expected=29985.000000\n",
      "predicted=31328.015403, expected=31628.000000\n",
      "predicted=31042.486393, expected=33665.000000\n",
      "predicted=32442.905434, expected=34550.000000\n",
      "predicted=33385.629504, expected=36320.000000\n",
      "predicted=34097.985272, expected=55431.000000\n",
      "predicted=43104.836762, expected=57446.000000\n",
      "predicted=49526.353082, expected=58872.000000\n",
      "predicted=52098.701816, expected=69480.000000\n",
      "predicted=57287.659484, expected=106885.000000\n",
      "predicted=81715.267172, expected=36072.000000\n",
      "predicted=62047.086719, expected=37454.000000\n",
      "predicted=47142.550205, expected=37663.000000\n",
      "predicted=44506.666907, expected=60365.000000\n",
      "predicted=64878.125803, expected=67770.000000\n",
      "predicted=58638.436810, expected=70327.000000\n",
      "predicted=60304.458143, expected=72587.000000\n",
      "predicted=62296.467475, expected=73956.000000\n",
      "predicted=68801.290029, expected=82558.000000\n",
      "predicted=75754.828983, expected=85762.000000\n",
      "predicted=80242.261581, expected=258874.000000\n",
      "predicted=162334.312102, expected=124261.000000\n",
      "predicted=146775.945349, expected=41141.000000\n",
      "predicted=90351.603812, expected=34303.000000\n",
      "predicted=66610.530630, expected=47058.000000\n",
      "predicted=107845.215589, expected=58185.000000\n",
      "predicted=87880.053417, expected=30020.000000\n",
      "predicted=40197.669096, expected=29239.000000\n",
      "predicted=33617.075555, expected=45572.000000\n",
      "predicted=42767.162188, expected=29275.000000\n",
      "predicted=38147.836435, expected=35684.000000\n",
      "predicted=34315.736175, expected=36955.000000\n",
      "predicted=34896.671131, expected=56886.000000\n",
      "predicted=47971.299688, expected=77842.000000\n",
      "predicted=58846.888430, expected=43707.000000\n",
      "predicted=47577.497087, expected=39473.000000\n",
      "predicted=43289.668704, expected=64685.000000\n",
      "predicted=58026.934729, expected=39290.000000\n",
      "predicted=51678.658881, expected=46829.000000\n",
      "predicted=46676.653780, expected=29536.000000\n",
      "predicted=37002.244900, expected=31836.000000\n",
      "predicted=40118.216473, expected=31406.000000\n",
      "predicted=34189.603404, expected=71971.000000\n",
      "predicted=54688.308796, expected=29177.000000\n",
      "predicted=36526.471549, expected=30877.000000\n",
      "predicted=34039.871589, expected=26244.000000\n",
      "predicted=31006.271174, expected=25445.000000\n",
      "predicted=35865.195516, expected=26410.000000\n",
      "predicted=28087.478894, expected=26925.000000\n",
      "predicted=27542.188051, expected=26973.000000\n",
      "predicted=26773.733229, expected=25749.000000\n",
      "predicted=26014.012667, expected=23891.000000\n",
      "predicted=25129.399386, expected=25792.000000\n",
      "predicted=25808.072262, expected=24543.000000\n",
      "predicted=25297.700833, expected=23744.000000\n",
      "predicted=24508.296675, expected=23606.000000\n",
      "predicted=23929.336098, expected=24346.000000\n",
      "predicted=24480.320766, expected=51946.000000\n",
      "predicted=37812.745409, expected=83565.000000\n",
      "predicted=57752.107326, expected=50780.000000\n",
      "predicted=48166.987046, expected=50644.000000\n",
      "predicted=47353.568465, expected=55980.000000\n",
      "predicted=54904.455991, expected=44587.000000\n",
      "predicted=55093.374184, expected=43976.000000\n",
      "predicted=47658.055450, expected=49593.000000\n",
      "predicted=48944.615515, expected=33267.000000\n",
      "predicted=42078.176843, expected=50159.000000\n",
      "predicted=46287.599020, expected=51369.000000\n",
      "predicted=48001.908232, expected=0.000000\n",
      "predicted=24511.873555, expected=0.000000\n",
      "predicted=14697.591916, expected=0.000000\n",
      "predicted=13266.070952, expected=0.000000\n",
      "predicted=11157.707630, expected=0.000000\n",
      "predicted=995.744348, expected=0.000000\n"
     ]
    }
   ],
   "source": [
    "#Train/test split\n",
    "X = product1.values\n",
    "size = int(len(X) * 0.60)\n",
    "X_train, X_test = X[0:size], X[size:len(X)]\n",
    "history = [x for x in X_train]\n",
    "predictions = list()\n",
    "\n",
    "\n",
    "# walk-forward validation\n",
    "for x in range(len(X_test)):\n",
    "    model = ARIMA(history, order=(5,1,0))\n",
    "    model_fit = model.fit()\n",
    "    output = model_fit.forecast()\n",
    "    yhat = output[0]\n",
    "    predictions.append(yhat)\n",
    "    obs = X_test[x]\n",
    "    history.append(obs)\n",
    "    print('predicted=%f, expected=%f' % (yhat, obs))\n"
   ]
  },
  {
   "cell_type": "code",
   "execution_count": 48,
   "id": "e5db1e32",
   "metadata": {},
   "outputs": [
    {
     "name": "stdout",
     "output_type": "stream",
     "text": [
      "Forecasting Bias or Mean Forecast Error: -1687.834179\n",
      "Mean Absolute Error: 17790.073350\n",
      "Mean Squared Error: 943278487.126\n",
      "Root Mean Squared Error: 30712.839\n"
     ]
    }
   ],
   "source": [
    "# evaluate forecasts\n",
    "\n",
    "#Forecast Error (or Residual Forecast Error)\n",
    "forecast_errors = [X_test[i]-predictions[i] for i in range(len(X_test))]\n",
    "\n",
    "#forecast bias\n",
    "bias =  np.mean(forecast_errors)\n",
    "\n",
    "#mean squared error\n",
    "mse = mean_squared_error(X_test, predictions)\n",
    "\n",
    "#root mean squared error\n",
    "rmse = np.sqrt(mse)\n",
    "\n",
    "#mean absolut Error \n",
    "mae = mean_absolute_error(X_test, predictions)\n",
    "\n",
    "#Print \n",
    "#print('Forecast Errors: %s' % forecast_errors)\n",
    "print('Forecasting Bias or Mean Forecast Error: %f' % bias)\n",
    "print('Mean Absolute Error: %f' % mae)\n",
    "print(\"Mean Squared Error: %.3f\" % mse)\n",
    "print('Root Mean Squared Error: %.3f' % rmse)"
   ]
  },
  {
   "cell_type": "markdown",
   "id": "52cff913",
   "metadata": {},
   "source": [
    "Based on the <b>forecasting bias</b> the model is over forecasting. \n",
    "\n",
    "Based on the <b>Mean Absolute Error</b>, it is really high. The closer to 0 the better the model can be. \n",
    "\n",
    "The model has a high <b>Mean Squared Error</b>. A mean squared error of zero indicates perfect skill, or no error.\n",
    "\n",
    "The model has a high <b>Root Mean Squared Error</b>.As with the mean squared error, an RMSE of zero indicates no error."
   ]
  },
  {
   "cell_type": "code",
   "execution_count": 57,
   "id": "bfa741a3",
   "metadata": {},
   "outputs": [
    {
     "data": {
      "text/plain": [
       "\"\\ngsc = GridSearchCV(model, param_grid=parameters, scoring='neg_mean_absolute_error', \\n                   cv=TimeSeriesSplit(n_splits=2).split(X))\\n\""
      ]
     },
     "execution_count": 57,
     "metadata": {},
     "output_type": "execute_result"
    }
   ],
   "source": [
    "from sklearn.model_selection import TimeSeriesSplit, GridSearchCV\n",
    "\n",
    "#param_grid = {history order=(5,1,0)}\n",
    "\n",
    "gsc = GridSearchCV(model, param_grid=(5,1,0), scoring='neg_mean_absolute_error', \n",
    "                   cv=TimeSeriesSplit(n_splits=2).split(X))\n",
    "\n",
    "\"\"\"\n",
    "gsc = GridSearchCV(model, param_grid=parameters, scoring='neg_mean_absolute_error', \n",
    "                   cv=TimeSeriesSplit(n_splits=2).split(X))\n",
    "\"\"\""
   ]
  },
  {
   "cell_type": "code",
   "execution_count": null,
   "id": "cf9a435a",
   "metadata": {},
   "outputs": [],
   "source": []
  },
  {
   "cell_type": "code",
   "execution_count": 39,
   "id": "bfd29cab",
   "metadata": {},
   "outputs": [
    {
     "data": {
      "image/png": "[encoded data removed]",
      "text/plain": [
       "<Figure size 640x480 with 1 Axes>"
      ]
     },
     "metadata": {},
     "output_type": "display_data"
    }
   ],
   "source": [
    "\n",
    "# plot forecasts against actual outcomes\n",
    "plt.plot(X_test)\n",
    "plt.plot(predictions, color='red')\n",
    "plt.show()"
   ]
  },
  {
   "cell_type": "markdown",
   "id": "72e41bc9",
   "metadata": {},
   "source": [
    "# ARMA"
   ]
  },
  {
   "cell_type": "code",
   "execution_count": null,
   "id": "3ba9c42e",
   "metadata": {},
   "outputs": [],
   "source": []
  }
 ],
 "metadata": {
  "kernelspec": {
   "display_name": "Python 3 (ipykernel)",
   "language": "python",
   "name": "python3"
  },
  "language_info": {
   "codemirror_mode": {
    "name": "ipython",
    "version": 3
   },
   "file_extension": ".py",
   "mimetype": "text/x-python",
   "name": "python",
   "nbconvert_exporter": "python",
   "pygments_lexer": "ipython3",
   "version": "3.9.17"
  }
 },
 "nbformat": 4,
 "nbformat_minor": 5
}
